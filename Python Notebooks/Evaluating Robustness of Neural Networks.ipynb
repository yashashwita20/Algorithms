{
 "cells": [
  {
   "cell_type": "markdown",
   "metadata": {
    "id": "hjRM13EAuL3g"
   },
   "source": [
    "**Keywords**: Adversarial Robustness, FGSM/PGD Attack, Certification\n",
    "\n",
    "**About the dataset**: \\\n",
    "The [MNIST](https://en.wikipedia.org/wiki/MNIST_database) database (Modified National Institute of Standards and Technology database) is a large database of handwritten digits that is commonly used for training various image processing systems.\\\n",
    "The MNIST database contains 70,000 labeled images. Each datapoint is a $28\\times 28$ pixels grayscale image.\\\n",
    "Here we will be starting off with a pre-trained 2-hidden-layer model on the full MNIST dataset.\n",
    "\n",
    "**Agenda**:\n",
    "* Implement adversarial attack on an MNIST neural network model as well as visualize those attacks. \n",
    "* Solve this by using the inner maximization problem using FGSM (Fast Gradient Sign Method) and PGD (Projected Gradient Descent).\n",
    "* Perform verification of the model using Interval-Bound -Propagation (IBP)."
   ]
  },
  {
   "cell_type": "markdown",
   "metadata": {
    "id": "ZUJgYttwjmpK"
   },
   "source": [
    "---"
   ]
  },
  {
   "cell_type": "markdown",
   "metadata": {
    "id": "mXVzZFpxD8u-"
   },
   "source": [
    "### Preprocessing"
   ]
  },
  {
   "cell_type": "code",
   "execution_count": null,
   "metadata": {
    "colab": {
     "base_uri": "https://localhost:8080/"
    },
    "id": "p8yCdUrCD8u-",
    "outputId": "9cb50df4-a34f-4929-c954-c34275b15396"
   },
   "outputs": [],
   "source": [
    "# install this library\n",
    "!pip install gdown"
   ]
  },
  {
   "cell_type": "code",
   "execution_count": 2,
   "metadata": {},
   "outputs": [],
   "source": [
    "# imports \n",
    "import torch\n",
    "import torch.nn as nn\n",
    "import numpy as np\n",
    "import requests\n",
    "from torchvision import datasets, transforms\n",
    "from torch.utils.data import DataLoader\n",
    "import matplotlib.pyplot as plt\n",
    "from tqdm.notebook import tqdm\n",
    "import gdown\n",
    "from zipfile import ZipFile"
   ]
  },
  {
   "cell_type": "code",
   "execution_count": 3,
   "metadata": {},
   "outputs": [],
   "source": [
    "# setting hardware device\n",
    "device = torch.device(\"cuda:0\" if torch.cuda.is_available() else \"cpu\")"
   ]
  },
  {
   "cell_type": "code",
   "execution_count": null,
   "metadata": {},
   "outputs": [],
   "source": [
    "# loading the dataset full MNIST dataset\n",
    "mnist_train = datasets.MNIST(\"./data\", train=True, download=True, transform=transforms.ToTensor())\n",
    "mnist_test = datasets.MNIST(\"./data\", train=False, download=True, transform=transforms.ToTensor())\n",
    "\n",
    "mnist_train.data = mnist_train.data.to(device)\n",
    "mnist_test.data = mnist_test.data.to(device)\n",
    "\n",
    "mnist_train.targets = mnist_train.targets.to(device)\n",
    "mnist_test.targets = mnist_test.targets.to(device)"
   ]
  },
  {
   "cell_type": "code",
   "execution_count": 5,
   "metadata": {},
   "outputs": [],
   "source": [
    "# number of target classes\n",
    "num_classes = 10\n",
    "num_classes_test = 2 "
   ]
  },
  {
   "cell_type": "code",
   "execution_count": 6,
   "metadata": {},
   "outputs": [],
   "source": [
    "# reshaping and min-max scaling\n",
    "X_train =  (mnist_train.data.reshape((mnist_train.data.shape[0], -1))/255).to(device)\n",
    "y_train = mnist_train.targets\n",
    "X_test = (mnist_test.data.reshape((mnist_test.data.shape[0], -1))/255).to(device)\n",
    "y_test = mnist_test.targets"
   ]
  },
  {
   "cell_type": "markdown",
   "metadata": {
    "id": "wGrcOvZu16yi"
   },
   "source": [
    "* We will be using a pre-trained 2-hidden layer neural network model (`nn_model`) that takes as input features vectors of size 784, and ouputs logits vector of size 10. Each of the two hidden layers are of size 1024.\n",
    "\n",
    "* This is a highly accurate model with train accuracy of approx 99.88% and test accuracy of approx 98.14%.\n",
    "\n",
    "* We will also be loading and initializing a dummy model (`test_model`) for unit testing code implementation."
   ]
  },
  {
   "cell_type": "code",
   "execution_count": null,
   "metadata": {},
   "outputs": [],
   "source": [
    "# loading pretrained and dummy model\n",
    "url_nn_model = 'https://bit.ly/3sKvyOs'\n",
    "url_models   = 'https://bit.ly/3lsVcDn'\n",
    "gdown.download(url_nn_model, 'nn_model.pt')\n",
    "gdown.download(url_models, 'models.zip')\n",
    "ZipFile(\"models.zip\").extractall(\"./\")"
   ]
  },
  {
   "cell_type": "code",
   "execution_count": 9,
   "metadata": {
    "colab": {
     "base_uri": "https://localhost:8080/",
     "height": 735,
     "referenced_widgets": [
      "41e2b8197f094f57936aac3b705e51f4",
      "4542009b9bdd4d4da87f21f7f7b4e906",
      "9f353a4f601b4b2897d9cfa1d2544513",
      "310a00ce88fe47e3b728b167c2a4051b",
      "c820154f96454c7c92f02916cb8bff72",
      "056754415bc641cab30645065d0f3721",
      "3d56d679f75640faaa762d5dd3bceb15",
      "b5815ad268a2440eb738cd8e6a4b6442",
      "849dfc19b387459b8b13fca90d362386",
      "fce0147a10e94e53a7e9dff3ce91e96e",
      "42d47c9f435848e9ac2fb5a9f01dbd40",
      "2609b7c868134431a3a7e9e4aa6f9eb4",
      "29ab982467af4f54a90806d420880681",
      "8a10cae3fa1a49b2a015435e3b44e2af",
      "18f3338a500f405f8335fe86ecf16b91",
      "9331169b2eeb4feb86eb515bbe64383b",
      "1c3a6b9068594fadba566069f8cc65c0",
      "328956afe2b0467e8c3dfd328e49dc23",
      "6acb2391e21a4d8c8a9ebef7c895f0ae",
      "45382765b5aa4d00aa1e8b1d12d2da86",
      "83cdea7821774799818bd041b4ceb67a",
      "afce46944de94c99abbff028b08d9b8f",
      "b585e911c55245429bfe3e5515241843",
      "d2263ca150ab4a7daef07fb97e78ed72",
      "3cb4ac6f201541caaaa0b30a17f9c172",
      "8ac4d248a8dc4de09c927636cbeb7df6",
      "73dcc18274f04eb8a592fb9c6d65225c",
      "6a647de8d2344faab5594bb72a31763e",
      "991c5a730b344f1792e32b956b6a27c3",
      "75ba98ccca3a47239d60b2870df70613",
      "768170001ca34638b428be1cf9d72062",
      "497cd0933507417ba07614f3057076f6",
      "45c2f1bc69c54b8ea075ef1e90585313",
      "f9d7627d15a9420d8ccea6449f6d8b6a",
      "335568079c7541b7b293b2d70ad40b0b",
      "b1b3d84510ea44998587861960ee8a8d",
      "36949bd6cf3c4732bdb02b7f1b50d254",
      "fb4ca0f633834111931a2eaefd22ebf3",
      "71e10db9ee3441f6b4c91c8e4d97d097",
      "f5913bbdef0848fd8fd89a0db5af8882",
      "756e1b92b7884a5381d104e448ac98e6",
      "678cc3746f184b85a6c4e119463fa66d",
      "f82283b826ec42f6bd674ff98bf1e649",
      "bca5e7a2eabd48459b8881dbc3bedbea"
     ]
    },
    "id": "qNtGmOhl1I_m",
    "outputId": "41d343c4-01ac-4190-9c31-2c0fe7cb713c"
   },
   "outputs": [
    {
     "name": "stdout",
     "output_type": "stream",
     "text": [
      "Pretrained model (nn_model): NN_Model(\n",
      "  (l1): Linear(in_features=784, out_features=1024, bias=True)\n",
      "  (l2): Linear(in_features=1024, out_features=1024, bias=True)\n",
      "  (l3): Linear(in_features=1024, out_features=10, bias=True)\n",
      ")\n"
     ]
    }
   ],
   "source": [
    "from model import NN_Model\n",
    "from test_model import Test_Model\n",
    "nn_model = torch.load(\"./nn_model.pt\").to(device)\n",
    "print('Pretrained model (nn_model):', nn_model)"
   ]
  },
  {
   "cell_type": "code",
   "execution_count": 10,
   "metadata": {},
   "outputs": [
    {
     "name": "stdout",
     "output_type": "stream",
     "text": [
      "Dummy model (test_model): Test_Model(\n",
      "  (l1): Linear(in_features=2, out_features=3, bias=True)\n",
      "  (l2): Linear(in_features=3, out_features=3, bias=True)\n",
      "  (l3): Linear(in_features=3, out_features=2, bias=True)\n",
      ")\n"
     ]
    }
   ],
   "source": [
    "test_model = Test_Model().to(device)\n",
    "print('Dummy model (test_model):', test_model)"
   ]
  },
  {
   "cell_type": "code",
   "execution_count": 11,
   "metadata": {
    "id": "xNsFA3dfD8vA"
   },
   "outputs": [],
   "source": [
    "# creating a list of ordered layers for each of the neural network models for easy access.\n",
    "model_layers = [layer for layer in nn_model.children()] # for nn_model\n",
    "test_model_layers = [layer for layer in test_model.children()] # for dummy model"
   ]
  },
  {
   "cell_type": "code",
   "execution_count": 12,
   "metadata": {
    "colab": {
     "base_uri": "https://localhost:8080/"
    },
    "id": "jmDbnesPd22_",
    "outputId": "2defb9f0-f48b-41ca-988c-57564c32b14a"
   },
   "outputs": [
    {
     "data": {
      "text/plain": [
       "[Linear(in_features=784, out_features=1024, bias=True),\n",
       " Linear(in_features=1024, out_features=1024, bias=True),\n",
       " Linear(in_features=1024, out_features=10, bias=True)]"
      ]
     },
     "execution_count": 12,
     "metadata": {},
     "output_type": "execute_result"
    }
   ],
   "source": [
    "model_layers"
   ]
  },
  {
   "cell_type": "code",
   "execution_count": 13,
   "metadata": {
    "id": "VdoXqlWbBw0C"
   },
   "outputs": [],
   "source": [
    "# utility function to plot the images\n",
    "def plot_images(X,y,yp,M,N):\n",
    "    f,ax = plt.subplots(M,N, sharex=True, sharey=True, figsize=(N,M*1.3))\n",
    "    for i in range(M):\n",
    "        for j in range(N):\n",
    "            ax[i][j].imshow(1-X[i*N+j].cpu().numpy(), cmap=\"gray\")\n",
    "            title = ax[i][j].set_title(\"Pred: {}\".format(yp[i*N+j].max(dim=0)[1]))\n",
    "            plt.setp(title, color=('g' if yp[i*N+j].max(dim=0)[1] == y[i*N+j] else 'r'))\n",
    "            ax[i][j].set_axis_off()\n",
    "        plt.tight_layout()"
   ]
  },
  {
   "cell_type": "code",
   "execution_count": 14,
   "metadata": {
    "colab": {
     "base_uri": "https://localhost:8080/",
     "height": 280
    },
    "id": "ulN34Vw2CAMl",
    "outputId": "48c6bcdc-eb40-4688-df1a-40d1f120b19f"
   },
   "outputs": [
    {
     "data": {
      "image/png": "[encoded data removed]",
      "text/plain": [
       "<Figure size 432x280.8 with 18 Axes>"
      ]
     },
     "metadata": {
      "needs_background": "light"
     },
     "output_type": "display_data"
    }
   ],
   "source": [
    "# let us visualize a few test examples\n",
    "example_data = mnist_test.data[:18]/255\n",
    "example_data_flattened  = example_data.view((example_data.shape[0], -1)).to(device) # needed for training\n",
    "example_labels = mnist_test.targets[:18].to(device)\n",
    "plot_images(example_data, example_labels, nn_model(example_data_flattened), 3, 6)"
   ]
  },
  {
   "cell_type": "markdown",
   "metadata": {
    "id": "qBFXtet3mnXM"
   },
   "source": [
    "\n",
    "\n",
    "---\n",
    "\n",
    "\n"
   ]
  },
  {
   "cell_type": "markdown",
   "metadata": {
    "id": "-FQ9dkXWA_Pu"
   },
   "source": [
    "### Fast Gradient Sign Method (FGSM) attack:  \n",
    "Create a few adversarial examples using FGSM attack. Using an attack budget $\\epsilon=0.05$.\n",
    "\n",
    "In the Fast Gradient Sign Method (FGSM), the perturbation $\\delta$ on an input example (e.g. input image) $X$ is given by $\\epsilon\\cdot sign(g)$, where $g$ is the gradient of the loss function $g:=∇_\\delta \\ell(h_θ (x+δ),y)$, and $ℓ$ is the loss function, more precisely `nn.CrossEntropyLoss`. In the first timestep, this value of $\\delta$ is $0$.\n",
    "\n",
    "### Function `fgsm` which takes as input the neural network model (`model`), test examples (`X`), target labels (`y`), and the attack budget (`epsilon`). Returns the value of the perturbation ($\\delta$) after one gradient descent step."
   ]
  },
  {
   "cell_type": "code",
   "execution_count": 15,
   "metadata": {
    "id": "T6BP3I3J1Xog"
   },
   "outputs": [],
   "source": [
    "def fgsm(model,X,y,e):\n",
    "\n",
    "    model = model.to(device)\n",
    "  \n",
    "    criterion = torch.nn.CrossEntropyLoss()\n",
    "  \n",
    "    delta = torch.zeros_like(X, requires_grad=True)\n",
    "  \n",
    "    output=model(X + delta)\n",
    "  \n",
    "    loss=criterion(output, y)\n",
    "  \n",
    "    loss.backward()\n",
    "  \n",
    "    sign_g = delta.grad.detach().sign()\n",
    "  \n",
    "    p =  e * sign_g\n",
    "    \n",
    "    return p"
   ]
  },
  {
   "cell_type": "markdown",
   "metadata": {
    "id": "6MhfVmBES_KZ"
   },
   "source": [
    "### Considering the first few examples from the training dataset which are already defined above as `example_data_flattened` and `example_labels`. Using the function `fgsm`, getting the value of `delta` for these examples. Performing prediction on the modified dataset (`example_data_flattened + delta`), and constructing a similar plot of images as above. Lets see if the attack is successful."
   ]
  },
  {
   "cell_type": "code",
   "execution_count": 16,
   "metadata": {
    "colab": {
     "base_uri": "https://localhost:8080/",
     "height": 280
    },
    "id": "unyGm4aDS-qn",
    "outputId": "0d8f1cb2-fd44-42e7-82f2-f69c9864e368"
   },
   "outputs": [
    {
     "data": {
      "image/png": "[encoded data removed]",
      "text/plain": [
       "<Figure size 432x280.8 with 18 Axes>"
      ]
     },
     "metadata": {
      "needs_background": "light"
     },
     "output_type": "display_data"
    }
   ],
   "source": [
    "delta = fgsm(nn_model,example_data_flattened,example_labels,0.05)\n",
    "mod_images = example_data_flattened+delta\n",
    "predict_labels = nn_model(mod_images)\n",
    "plot_images(mod_images.reshape(example_data.shape), example_labels, predict_labels, 3, 6)"
   ]
  },
  {
   "cell_type": "markdown",
   "metadata": {
    "id": "n2DpSB3_-1xB"
   },
   "source": [
    "\n",
    "\n",
    "---\n",
    "\n"
   ]
  },
  {
   "cell_type": "markdown",
   "metadata": {
    "id": "8mSRPCJsWCmQ"
   },
   "source": [
    "### Projected Gradient Descent (PGD) attack: \n",
    "Creating a few adversarial examples using PGD attack. Use an attack budget $\\epsilon=0.05$.  (10 points)\n",
    "\n",
    "For the Projected Gradient Descent (PGD) attack, you create an adversarial example by iteratively performing gradient descent with a fixed step size $\\alpha$. The update rule is: $δ:=P(δ+α∇_δ ℓ(h_θ(x+δ),y))$, where $δ$ is the perturbation, $θ$ are the frozen DNN parameters, $x$ and $y$ is the training example and its ground truth label respectively, $h_θ$ is the hypothesis function, $ℓ$ denotes the loss function, and $P$ denotes the projection onto a norm ball ($l_\\infty, l_1, l_2$, etc.) of interest. For $l_\\infty$ ball, this just means clamping the value of $\\delta$ between $-\\epsilon$ and $\\epsilon$.\n",
    "\n",
    "### Function `pgd` that takes as input the neural network model (`model`), training examples (`X`), target labels (`y`), step size (`alpha`), attack budget (`epsilon`), and number of iterations (`num_iter`). Returns the perturbation ($\\delta$) after `num_iter` gradient descent steps. "
   ]
  },
  {
   "cell_type": "code",
   "execution_count": 19,
   "metadata": {
    "id": "TqSbm39KQ7nv"
   },
   "outputs": [],
   "source": [
    "def pgd(model,X,y,a,e,num_iter):\n",
    "    model = model.to(device)\n",
    "  \n",
    "    criterion = torch.nn.CrossEntropyLoss()\n",
    "  \n",
    "    delta = torch.zeros_like(X, requires_grad=True)\n",
    "  \n",
    "    for iter in range(num_iter):\n",
    "  \n",
    "      output=model(X+delta)\n",
    "  \n",
    "      loss=criterion(output, y)\n",
    "  \n",
    "      loss.backward()\n",
    "  \n",
    "      grad = a * delta.grad.detach()\n",
    "  \n",
    "      new_delta = delta + grad\n",
    "  \n",
    "      delta.data = new_delta.clamp(-e,e)\n",
    "  \n",
    "      delta.grad.zero_()\n",
    "  \n",
    "    return delta.detach()"
   ]
  },
  {
   "cell_type": "markdown",
   "metadata": {
    "id": "mAO05kUnYLUF"
   },
   "source": [
    "### **#2.** Now using the PGD attack for the examples from `example_data_flattened`. Using `alpha=1000`, `num_iter=1000`, and creating a similar plot as before. \n",
    "\n",
    "### The value of `alpha` is large because the neural network model is pretrained and is therefore at the local minima. The value of gradients here is extremely small, and we therefore need a huge value of step size to have any hope of moving out of the local minima.\n",
    "\n",
    "### Lets see if the attack is successful."
   ]
  },
  {
   "cell_type": "code",
   "execution_count": 20,
   "metadata": {
    "colab": {
     "base_uri": "https://localhost:8080/",
     "height": 280
    },
    "id": "IVapJ4aaYJvW",
    "outputId": "b70293d8-586a-4b9e-f756-678fd4f209ca"
   },
   "outputs": [
    {
     "data": {
      "image/png": "[encoded data removed]",
      "text/plain": [
       "<Figure size 432x280.8 with 18 Axes>"
      ]
     },
     "metadata": {
      "needs_background": "light"
     },
     "output_type": "display_data"
    }
   ],
   "source": [
    "delta = pgd(nn_model,example_data_flattened,example_labels,1000,0.05,1000)\n",
    "mod_images = example_data_flattened+delta\n",
    "predict_labels = nn_model(mod_images)\n",
    "plot_images(mod_images.reshape(example_data.shape), example_labels, predict_labels, 3, 6)"
   ]
  },
  {
   "cell_type": "markdown",
   "metadata": {
    "id": "VLPLU5JbAs6G"
   },
   "source": [
    "\n",
    "\n",
    "---\n",
    "\n"
   ]
  },
  {
   "cell_type": "markdown",
   "metadata": {
    "id": "PjC-rDNEaCqC"
   },
   "source": [
    "### Using FGSM and PGD to create adversarial examples using the complete test dataset. Creating the datasets with different values of `epsilon: [0, 0.02, 0.04, 0.06, 0.08, 0.1, 0.12, 0.14, 0.16, 0.18, 0.2]`. For each of the dataset created with different `epsilon` values and attack type, getting the model accuracies. Plotting a graph of accuracy vs. epsilon for both attack types. Note that `epsilon=0` means no attack."
   ]
  },
  {
   "cell_type": "code",
   "execution_count": 21,
   "metadata": {
    "id": "5zomsFR_u9qG"
   },
   "outputs": [],
   "source": [
    "def accuracy(predict,actual):\n",
    "  \n",
    "   l = torch.where(predict==actual,1,0)\n",
    " \n",
    "   accuracy = l.sum()/len(predict)\n",
    " \n",
    "   return round(accuracy.item(),2)"
   ]
  },
  {
   "cell_type": "code",
   "execution_count": 22,
   "metadata": {
    "id": "kWAQPWwAaCQA"
   },
   "outputs": [],
   "source": [
    "def attack_accuracy(model, attack, X,y):\n",
    "\n",
    "    epsilon_accuracy = []\n",
    "    epsilon = [0, 0.02, 0.04, 0.06, 0.08, 0.1, 0.12, 0.14, 0.16, 0.18, 0.2]\n",
    "  \n",
    "    for i in epsilon:\n",
    "        if i == 0:\n",
    "            y_predict = model(X).to(device)\n",
    "        else:\n",
    "            if attack == 'fgsm':\n",
    "                delta = fgsm(model,X,y,i)\n",
    "            if attack == \"pgd\":\n",
    "                delta = pgd(model,X,y,1000,i,1000)\n",
    "            y_predict = model( X + delta ).to(device)\n",
    "        \n",
    "        y_predict = torch.argmax(y_predict, dim=1)\n",
    "        accuracy_ = accuracy(y_predict,y)\n",
    "        epsilon_accuracy.append((i,accuracy_))\n",
    "  \n",
    "    plt.plot(*zip(*epsilon_accuracy))\n",
    "    plt.title('model accuracy')\n",
    "    plt.ylabel('accuracy')\n",
    "    plt.xlabel('epsilon')\n",
    "    plt.show()"
   ]
  },
  {
   "cell_type": "code",
   "execution_count": 23,
   "metadata": {
    "id": "9G_5eoxYPXxx"
   },
   "outputs": [],
   "source": [
    "test_data = mnist_test.data/255\n",
    "test_data_flattened  = test_data.view((test_data.shape[0], -1)).to(device) # needed for training\n",
    "test_labels = mnist_test.targets.to(device)"
   ]
  },
  {
   "cell_type": "code",
   "execution_count": 24,
   "metadata": {
    "colab": {
     "base_uri": "https://localhost:8080/",
     "height": 295
    },
    "id": "uMYEBuxJw3p2",
    "outputId": "ff755aad-4f63-4a6e-f723-9cc7ee72d27c"
   },
   "outputs": [
    {
     "data": {
      "image/png": "[encoded data removed]",
      "text/plain": [
       "<Figure size 432x288 with 1 Axes>"
      ]
     },
     "metadata": {
      "needs_background": "light"
     },
     "output_type": "display_data"
    }
   ],
   "source": [
    "attack_accuracy(nn_model, \"fgsm\", test_data_flattened,test_labels)"
   ]
  },
  {
   "cell_type": "code",
   "execution_count": 25,
   "metadata": {
    "colab": {
     "base_uri": "https://localhost:8080/",
     "height": 295
    },
    "id": "EcWAYytYMOg0",
    "outputId": "33209161-1092-4aac-809b-1102bd111550"
   },
   "outputs": [
    {
     "data": {
      "image/png": "[encoded data removed]",
      "text/plain": [
       "<Figure size 432x288 with 1 Axes>"
      ]
     },
     "metadata": {
      "needs_background": "light"
     },
     "output_type": "display_data"
    }
   ],
   "source": [
    "attack_accuracy(nn_model, \"pgd\", test_data_flattened,test_labels)"
   ]
  },
  {
   "cell_type": "markdown",
   "metadata": {
    "id": "LCvAljqaj-bR"
   },
   "source": [
    "\n",
    "\n",
    "---\n",
    "\n"
   ]
  },
  {
   "cell_type": "markdown",
   "metadata": {
    "id": "0boUhvoAj_4g"
   },
   "source": [
    "### Using the Interval-Bound-Propagation (IBP) technique to certify robustness of the model through lower bound with a given value of epsilon."
   ]
  },
  {
   "cell_type": "markdown",
   "metadata": {
    "id": "6hcmHsRX1pz1"
   },
   "source": [
    "* In this section, we will find the lower and upper bounds for each neuron of each of the linear layers of the neural network model.\n",
    "\n",
    "* Note that the initial bound is the bound of the first layer, which is the input example. For the $l_\\infty$ perturbation, the initial lower bound is simply $max(0, x-\\epsilon)$, and the  initial upper bound is $min(1, x+\\epsilon)$, for an input example $x$ (Note that each value of $x$ must lie in between 0 and 1, thats why the $min$ and $max$).\n",
    "\n",
    "* In the function, propagate the initial bound across all layers of the neural network and return a list of tuples of *pre-activation* lower and upper bound for each layer. The *pre-activation* bounds are the bound before applying ReLU activation. \n",
    "\n",
    "* Let's review a bit of the IBP bounds: let $z=Wx+b$ denote an intermediate linear layer of the model, and suppose $\\hat{l} \\le x \\le \\hat{u}, l \\le z \\le u$, we have:\\\n",
    "$l=W_+\\hat{l}+W_-\\hat{u}+b$\\\n",
    "$u=W_+\\hat{u}+W_-\\hat{l}+b$\\\n",
    "Note $l, u$ here are the *pre-activation* bounds\n",
    "\n",
    "* If a non-linear ReLU activation function $\\sigma(\\cdot)$ is applied to the layer $z=Wx+b$, then the bounds of $\\sigma(z)$ will be: $l=\\sigma(\\hat{l}), u = \\sigma(\\hat{u})$ as $\\sigma$ is a monotonically non-decreasing function. I.e. $l \\leq \\sigma(z) \\leq u$. The $l,u$ here are the *post-activation* bounds. Note, here we use $\\hat{l}$ and $\\hat{u}$ to denote the bounds of the previous layer: $\\hat{l} \\leq z \\leq \\hat{u}$. \n",
    "\n",
    "### Function `bound_propagation` which takes as input an ordered list of layers of the model (`model_layers`), a feature vector (`x`), and attack budget (`epsilon`). Returns a list of tuples of `pre-activation` lower and upper bound tensors for each layer."
   ]
  },
  {
   "cell_type": "code",
   "execution_count": 26,
   "metadata": {
    "id": "8p4zMIeHj-D2"
   },
   "outputs": [],
   "source": [
    "def bound_propagation(model_layers,x,e):\n",
    "\n",
    "    pre_activation_bounds = []\n",
    "  \n",
    "    initial_lower_bound = (x - e).clamp(min=0)\n",
    "    initial_upper_bound = (x + e).clamp(max=1)\n",
    "  \n",
    "    pre_activation_bounds.append((initial_lower_bound, initial_upper_bound))\n",
    "  \n",
    "    for layer in model_layers:\n",
    "  \n",
    "        lower_bound = (layer.weight.clamp(min=0) @ initial_lower_bound.t() + layer.weight.clamp(max=0) @ initial_upper_bound.t() \n",
    "                    + layer.bias[:,None]).t()\n",
    "        upper_bound = (layer.weight.clamp(min=0) @ initial_upper_bound.t() + layer.weight.clamp(max=0) @ initial_lower_bound.t() \n",
    "                    + layer.bias[:,None]).t()\n",
    "        pre_activation_bounds.append((lower_bound, upper_bound))\n",
    "    \n",
    "        lower_bound = lower_bound.clamp(min=0)\n",
    "        upper_bound = upper_bound.clamp(min=0)\n",
    "    \n",
    "        initial_lower_bound,initial_upper_bound = lower_bound, upper_bound\n",
    "  \n",
    "    return pre_activation_bounds"
   ]
  },
  {
   "cell_type": "markdown",
   "metadata": {
    "id": "JoXJUcz226wm"
   },
   "source": [
    "### Let the lower and upper bounds of the final layer of the model be $l^{final}$ and $u^{final}$ respectively. Then we say that an input example $x$ has a robutness certificate $\\epsilon$ if the criteria: $l^{final}[c]-u^{final}[i]>0, \\forall i\\ne c$, where $c$ denotes the ground truth class of the input $x$. \n",
    "\n",
    "* We need to determine the maximum value of epsilon for certified robustness against an adversarial attack for a given example. We can do the same using binary search over a few values of epsilon.\n",
    "\n",
    "* Function `binary_search` that takes as input a sorted array of epsilon values (`epsilons`), an ordered list of neural network model layers (`model_layers`), examples (`X`), corresponding targets (`y`), the number of target classes (`num_classes`). It should return `certified_epsilons` which is a python list of the final values of epsilon certification for each example in input. You can use `None` when unable to find an epsilon value from epsilons. "
   ]
  },
  {
   "cell_type": "code",
   "execution_count": 27,
   "metadata": {
    "id": "D4hUeavjD8vD"
   },
   "outputs": [],
   "source": [
    "from torchvision.datasets.utils import T\n",
    "\n",
    "def epsilon_check(model_layers,x,y,num_classes,c,e):\n",
    "\n",
    "    preactivation_bounds = bound_propagation(model_layers,x,e)\n",
    "  \n",
    "    final_l = preactivation_bounds[-1][0][c]\n",
    "    final_u = preactivation_bounds[-1][1][c]\n",
    "  \n",
    "    for i in range(num_classes):\n",
    "        if y[c]!=i and final_l[y[c]] - final_u[i] > 0: return True\n",
    "    return False\n",
    "\n",
    "def binary_search(epsilons,model_layers,x,y,num_classes):\n",
    "    certified_epsilons = []\n",
    "  \n",
    "    for c in range(x.shape[0]):\n",
    "        p_front,p_back = 0,len(epsilons)-1\n",
    "        found = False\n",
    "    \n",
    "        while p_front <= p_back:\n",
    "            p_mid = int((p_front+p_back)/2)\n",
    "      \n",
    "            current = epsilon_check(model_layers,x,y,num_classes,c,epsilons[p_mid])\n",
    "            current_1 = epsilon_check(model_layers,x,y,num_classes,c,epsilons[p_mid+1])\n",
    "      \n",
    "            if current and not current_1:\n",
    "                found = True\n",
    "                break\n",
    "            elif current and current_1:\n",
    "                p_front = p_mid+1\n",
    "            else:\n",
    "                p_back = p_mid-1\n",
    "    \n",
    "        if found: certified_epsilons.append(epsilons[p_mid])\n",
    "        else: certified_epsilons.append(None)\n",
    "  \n",
    "  \n",
    "    return certified_epsilons"
   ]
  },
  {
   "cell_type": "markdown",
   "metadata": {
    "id": "c-oAMCniCUl6"
   },
   "source": [
    "### Report the certified values of epsilon on the first few examples."
   ]
  },
  {
   "cell_type": "code",
   "execution_count": 28,
   "metadata": {
    "colab": {
     "base_uri": "https://localhost:8080/"
    },
    "id": "WBuMbyEpD8vD",
    "outputId": "b8c98250-5daa-43a4-eaf9-c41d5c78cc55"
   },
   "outputs": [
    {
     "data": {
      "text/plain": [
       "[0.0035, 0.0032]"
      ]
     },
     "execution_count": 28,
     "metadata": {},
     "output_type": "execute_result"
    }
   ],
   "source": [
    "# finding epsilon for first few examples of MNIST dataset using IBP\n",
    "epsilons = [x/10000 for x in range(1, 10000)]\n",
    "X = example_data_flattened[0:2]\n",
    "y = example_labels[0:2]\n",
    "binary_search(epsilons, model_layers, X, y, num_classes)"
   ]
  },
  {
   "cell_type": "markdown",
   "metadata": {
    "id": "iq8PfeYWD8vD"
   },
   "source": [
    "---"
   ]
  }
 ],
 "metadata": {
  "accelerator": "GPU",
  "colab": {
   "provenance": []
  },
  "kernelspec": {
   "display_name": "Python 3 (ipykernel)",
   "language": "python",
   "name": "python3"
  },
  "language_info": {
   "codemirror_mode": {
    "name": "ipython",
    "version": 3
   },
   "file_extension": ".py",
   "mimetype": "text/x-python",
   "name": "python",
   "nbconvert_exporter": "python",
   "pygments_lexer": "ipython3",
   "version": "3.9.12"
  },
  "widgets": {
   "application/vnd.jupyter.widget-state+json": {
    "056754415bc641cab30645065d0f3721": {
     "model_module": "@jupyter-widgets/base",
     "model_module_version": "1.2.0",
     "model_name": "LayoutModel",
     "state": {
      "_model_module": "@jupyter-widgets/base",
      "_model_module_version": "1.2.0",
      "_model_name": "LayoutModel",
      "_view_count": null,
      "_view_module": "@jupyter-widgets/base",
      "_view_module_version": "1.2.0",
      "_view_name": "LayoutView",
      "align_content": null,
      "align_items": null,
      "align_self": null,
      "border": null,
      "bottom": null,
      "display": null,
      "flex": null,
      "flex_flow": null,
      "grid_area": null,
      "grid_auto_columns": null,
      "grid_auto_flow": null,
      "grid_auto_rows": null,
      "grid_column": null,
      "grid_gap": null,
      "grid_row": null,
      "grid_template_areas": null,
      "grid_template_columns": null,
      "grid_template_rows": null,
      "height": null,
      "justify_content": null,
      "justify_items": null,
      "left": null,
      "margin": null,
      "max_height": null,
      "max_width": null,
      "min_height": null,
      "min_width": null,
      "object_fit": null,
      "object_position": null,
      "order": null,
      "overflow": null,
      "overflow_x": null,
      "overflow_y": null,
      "padding": null,
      "right": null,
      "top": null,
      "visibility": null,
      "width": null
     }
    },
    "18f3338a500f405f8335fe86ecf16b91": {
     "model_module": "@jupyter-widgets/controls",
     "model_module_version": "1.5.0",
     "model_name": "HTMLModel",
     "state": {
      "_dom_classes": [],
      "_model_module": "@jupyter-widgets/controls",
      "_model_module_version": "1.5.0",
      "_model_name": "HTMLModel",
      "_view_count": null,
      "_view_module": "@jupyter-widgets/controls",
      "_view_module_version": "1.5.0",
      "_view_name": "HTMLView",
      "description": "",
      "description_tooltip": null,
      "layout": "IPY_MODEL_83cdea7821774799818bd041b4ceb67a",
      "placeholder": "​",
      "style": "IPY_MODEL_afce46944de94c99abbff028b08d9b8f",
      "value": " 28881/28881 [00:00&lt;00:00, 292224.90it/s]"
     }
    },
    "1c3a6b9068594fadba566069f8cc65c0": {
     "model_module": "@jupyter-widgets/base",
     "model_module_version": "1.2.0",
     "model_name": "LayoutModel",
     "state": {
      "_model_module": "@jupyter-widgets/base",
      "_model_module_version": "1.2.0",
      "_model_name": "LayoutModel",
      "_view_count": null,
      "_view_module": "@jupyter-widgets/base",
      "_view_module_version": "1.2.0",
      "_view_name": "LayoutView",
      "align_content": null,
      "align_items": null,
      "align_self": null,
      "border": null,
      "bottom": null,
      "display": null,
      "flex": null,
      "flex_flow": null,
      "grid_area": null,
      "grid_auto_columns": null,
      "grid_auto_flow": null,
      "grid_auto_rows": null,
      "grid_column": null,
      "grid_gap": null,
      "grid_row": null,
      "grid_template_areas": null,
      "grid_template_columns": null,
      "grid_template_rows": null,
      "height": null,
      "justify_content": null,
      "justify_items": null,
      "left": null,
      "margin": null,
      "max_height": null,
      "max_width": null,
      "min_height": null,
      "min_width": null,
      "object_fit": null,
      "object_position": null,
      "order": null,
      "overflow": null,
      "overflow_x": null,
      "overflow_y": null,
      "padding": null,
      "right": null,
      "top": null,
      "visibility": null,
      "width": null
     }
    },
    "2609b7c868134431a3a7e9e4aa6f9eb4": {
     "model_module": "@jupyter-widgets/controls",
     "model_module_version": "1.5.0",
     "model_name": "HBoxModel",
     "state": {
      "_dom_classes": [],
      "_model_module": "@jupyter-widgets/controls",
      "_model_module_version": "1.5.0",
      "_model_name": "HBoxModel",
      "_view_count": null,
      "_view_module": "@jupyter-widgets/controls",
      "_view_module_version": "1.5.0",
      "_view_name": "HBoxView",
      "box_style": "",
      "children": [
       "IPY_MODEL_29ab982467af4f54a90806d420880681",
       "IPY_MODEL_8a10cae3fa1a49b2a015435e3b44e2af",
       "IPY_MODEL_18f3338a500f405f8335fe86ecf16b91"
      ],
      "layout": "IPY_MODEL_9331169b2eeb4feb86eb515bbe64383b"
     }
    },
    "29ab982467af4f54a90806d420880681": {
     "model_module": "@jupyter-widgets/controls",
     "model_module_version": "1.5.0",
     "model_name": "HTMLModel",
     "state": {
      "_dom_classes": [],
      "_model_module": "@jupyter-widgets/controls",
      "_model_module_version": "1.5.0",
      "_model_name": "HTMLModel",
      "_view_count": null,
      "_view_module": "@jupyter-widgets/controls",
      "_view_module_version": "1.5.0",
      "_view_name": "HTMLView",
      "description": "",
      "description_tooltip": null,
      "layout": "IPY_MODEL_1c3a6b9068594fadba566069f8cc65c0",
      "placeholder": "​",
      "style": "IPY_MODEL_328956afe2b0467e8c3dfd328e49dc23",
      "value": "100%"
     }
    },
    "310a00ce88fe47e3b728b167c2a4051b": {
     "model_module": "@jupyter-widgets/controls",
     "model_module_version": "1.5.0",
     "model_name": "HTMLModel",
     "state": {
      "_dom_classes": [],
      "_model_module": "@jupyter-widgets/controls",
      "_model_module_version": "1.5.0",
      "_model_name": "HTMLModel",
      "_view_count": null,
      "_view_module": "@jupyter-widgets/controls",
      "_view_module_version": "1.5.0",
      "_view_name": "HTMLView",
      "description": "",
      "description_tooltip": null,
      "layout": "IPY_MODEL_fce0147a10e94e53a7e9dff3ce91e96e",
      "placeholder": "​",
      "style": "IPY_MODEL_42d47c9f435848e9ac2fb5a9f01dbd40",
      "value": " 9912422/9912422 [00:00&lt;00:00, 19095953.05it/s]"
     }
    },
    "328956afe2b0467e8c3dfd328e49dc23": {
     "model_module": "@jupyter-widgets/controls",
     "model_module_version": "1.5.0",
     "model_name": "DescriptionStyleModel",
     "state": {
      "_model_module": "@jupyter-widgets/controls",
      "_model_module_version": "1.5.0",
      "_model_name": "DescriptionStyleModel",
      "_view_count": null,
      "_view_module": "@jupyter-widgets/base",
      "_view_module_version": "1.2.0",
      "_view_name": "StyleView",
      "description_width": ""
     }
    },
    "335568079c7541b7b293b2d70ad40b0b": {
     "model_module": "@jupyter-widgets/controls",
     "model_module_version": "1.5.0",
     "model_name": "HTMLModel",
     "state": {
      "_dom_classes": [],
      "_model_module": "@jupyter-widgets/controls",
      "_model_module_version": "1.5.0",
      "_model_name": "HTMLModel",
      "_view_count": null,
      "_view_module": "@jupyter-widgets/controls",
      "_view_module_version": "1.5.0",
      "_view_name": "HTMLView",
      "description": "",
      "description_tooltip": null,
      "layout": "IPY_MODEL_71e10db9ee3441f6b4c91c8e4d97d097",
      "placeholder": "​",
      "style": "IPY_MODEL_f5913bbdef0848fd8fd89a0db5af8882",
      "value": "100%"
     }
    },
    "36949bd6cf3c4732bdb02b7f1b50d254": {
     "model_module": "@jupyter-widgets/controls",
     "model_module_version": "1.5.0",
     "model_name": "HTMLModel",
     "state": {
      "_dom_classes": [],
      "_model_module": "@jupyter-widgets/controls",
      "_model_module_version": "1.5.0",
      "_model_name": "HTMLModel",
      "_view_count": null,
      "_view_module": "@jupyter-widgets/controls",
      "_view_module_version": "1.5.0",
      "_view_name": "HTMLView",
      "description": "",
      "description_tooltip": null,
      "layout": "IPY_MODEL_f82283b826ec42f6bd674ff98bf1e649",
      "placeholder": "​",
      "style": "IPY_MODEL_bca5e7a2eabd48459b8881dbc3bedbea",
      "value": " 4542/4542 [00:00&lt;00:00, 17823.47it/s]"
     }
    },
    "3cb4ac6f201541caaaa0b30a17f9c172": {
     "model_module": "@jupyter-widgets/controls",
     "model_module_version": "1.5.0",
     "model_name": "FloatProgressModel",
     "state": {
      "_dom_classes": [],
      "_model_module": "@jupyter-widgets/controls",
      "_model_module_version": "1.5.0",
      "_model_name": "FloatProgressModel",
      "_view_count": null,
      "_view_module": "@jupyter-widgets/controls",
      "_view_module_version": "1.5.0",
      "_view_name": "ProgressView",
      "bar_style": "success",
      "description": "",
      "description_tooltip": null,
      "layout": "IPY_MODEL_75ba98ccca3a47239d60b2870df70613",
      "max": 1648877,
      "min": 0,
      "orientation": "horizontal",
      "style": "IPY_MODEL_768170001ca34638b428be1cf9d72062",
      "value": 1648877
     }
    },
    "3d56d679f75640faaa762d5dd3bceb15": {
     "model_module": "@jupyter-widgets/controls",
     "model_module_version": "1.5.0",
     "model_name": "DescriptionStyleModel",
     "state": {
      "_model_module": "@jupyter-widgets/controls",
      "_model_module_version": "1.5.0",
      "_model_name": "DescriptionStyleModel",
      "_view_count": null,
      "_view_module": "@jupyter-widgets/base",
      "_view_module_version": "1.2.0",
      "_view_name": "StyleView",
      "description_width": ""
     }
    },
    "41e2b8197f094f57936aac3b705e51f4": {
     "model_module": "@jupyter-widgets/controls",
     "model_module_version": "1.5.0",
     "model_name": "HBoxModel",
     "state": {
      "_dom_classes": [],
      "_model_module": "@jupyter-widgets/controls",
      "_model_module_version": "1.5.0",
      "_model_name": "HBoxModel",
      "_view_count": null,
      "_view_module": "@jupyter-widgets/controls",
      "_view_module_version": "1.5.0",
      "_view_name": "HBoxView",
      "box_style": "",
      "children": [
       "IPY_MODEL_4542009b9bdd4d4da87f21f7f7b4e906",
       "IPY_MODEL_9f353a4f601b4b2897d9cfa1d2544513",
       "IPY_MODEL_310a00ce88fe47e3b728b167c2a4051b"
      ],
      "layout": "IPY_MODEL_c820154f96454c7c92f02916cb8bff72"
     }
    },
    "42d47c9f435848e9ac2fb5a9f01dbd40": {
     "model_module": "@jupyter-widgets/controls",
     "model_module_version": "1.5.0",
     "model_name": "DescriptionStyleModel",
     "state": {
      "_model_module": "@jupyter-widgets/controls",
      "_model_module_version": "1.5.0",
      "_model_name": "DescriptionStyleModel",
      "_view_count": null,
      "_view_module": "@jupyter-widgets/base",
      "_view_module_version": "1.2.0",
      "_view_name": "StyleView",
      "description_width": ""
     }
    },
    "45382765b5aa4d00aa1e8b1d12d2da86": {
     "model_module": "@jupyter-widgets/controls",
     "model_module_version": "1.5.0",
     "model_name": "ProgressStyleModel",
     "state": {
      "_model_module": "@jupyter-widgets/controls",
      "_model_module_version": "1.5.0",
      "_model_name": "ProgressStyleModel",
      "_view_count": null,
      "_view_module": "@jupyter-widgets/base",
      "_view_module_version": "1.2.0",
      "_view_name": "StyleView",
      "bar_color": null,
      "description_width": ""
     }
    },
    "4542009b9bdd4d4da87f21f7f7b4e906": {
     "model_module": "@jupyter-widgets/controls",
     "model_module_version": "1.5.0",
     "model_name": "HTMLModel",
     "state": {
      "_dom_classes": [],
      "_model_module": "@jupyter-widgets/controls",
      "_model_module_version": "1.5.0",
      "_model_name": "HTMLModel",
      "_view_count": null,
      "_view_module": "@jupyter-widgets/controls",
      "_view_module_version": "1.5.0",
      "_view_name": "HTMLView",
      "description": "",
      "description_tooltip": null,
      "layout": "IPY_MODEL_056754415bc641cab30645065d0f3721",
      "placeholder": "​",
      "style": "IPY_MODEL_3d56d679f75640faaa762d5dd3bceb15",
      "value": "100%"
     }
    },
    "45c2f1bc69c54b8ea075ef1e90585313": {
     "model_module": "@jupyter-widgets/controls",
     "model_module_version": "1.5.0",
     "model_name": "DescriptionStyleModel",
     "state": {
      "_model_module": "@jupyter-widgets/controls",
      "_model_module_version": "1.5.0",
      "_model_name": "DescriptionStyleModel",
      "_view_count": null,
      "_view_module": "@jupyter-widgets/base",
      "_view_module_version": "1.2.0",
      "_view_name": "StyleView",
      "description_width": ""
     }
    },
    "497cd0933507417ba07614f3057076f6": {
     "model_module": "@jupyter-widgets/base",
     "model_module_version": "1.2.0",
     "model_name": "LayoutModel",
     "state": {
      "_model_module": "@jupyter-widgets/base",
      "_model_module_version": "1.2.0",
      "_model_name": "LayoutModel",
      "_view_count": null,
      "_view_module": "@jupyter-widgets/base",
      "_view_module_version": "1.2.0",
      "_view_name": "LayoutView",
      "align_content": null,
      "align_items": null,
      "align_self": null,
      "border": null,
      "bottom": null,
      "display": null,
      "flex": null,
      "flex_flow": null,
      "grid_area": null,
      "grid_auto_columns": null,
      "grid_auto_flow": null,
      "grid_auto_rows": null,
      "grid_column": null,
      "grid_gap": null,
      "grid_row": null,
      "grid_template_areas": null,
      "grid_template_columns": null,
      "grid_template_rows": null,
      "height": null,
      "justify_content": null,
      "justify_items": null,
      "left": null,
      "margin": null,
      "max_height": null,
      "max_width": null,
      "min_height": null,
      "min_width": null,
      "object_fit": null,
      "object_position": null,
      "order": null,
      "overflow": null,
      "overflow_x": null,
      "overflow_y": null,
      "padding": null,
      "right": null,
      "top": null,
      "visibility": null,
      "width": null
     }
    },
    "678cc3746f184b85a6c4e119463fa66d": {
     "model_module": "@jupyter-widgets/controls",
     "model_module_version": "1.5.0",
     "model_name": "ProgressStyleModel",
     "state": {
      "_model_module": "@jupyter-widgets/controls",
      "_model_module_version": "1.5.0",
      "_model_name": "ProgressStyleModel",
      "_view_count": null,
      "_view_module": "@jupyter-widgets/base",
      "_view_module_version": "1.2.0",
      "_view_name": "StyleView",
      "bar_color": null,
      "description_width": ""
     }
    },
    "6a647de8d2344faab5594bb72a31763e": {
     "model_module": "@jupyter-widgets/base",
     "model_module_version": "1.2.0",
     "model_name": "LayoutModel",
     "state": {
      "_model_module": "@jupyter-widgets/base",
      "_model_module_version": "1.2.0",
      "_model_name": "LayoutModel",
      "_view_count": null,
      "_view_module": "@jupyter-widgets/base",
      "_view_module_version": "1.2.0",
      "_view_name": "LayoutView",
      "align_content": null,
      "align_items": null,
      "align_self": null,
      "border": null,
      "bottom": null,
      "display": null,
      "flex": null,
      "flex_flow": null,
      "grid_area": null,
      "grid_auto_columns": null,
      "grid_auto_flow": null,
      "grid_auto_rows": null,
      "grid_column": null,
      "grid_gap": null,
      "grid_row": null,
      "grid_template_areas": null,
      "grid_template_columns": null,
      "grid_template_rows": null,
      "height": null,
      "justify_content": null,
      "justify_items": null,
      "left": null,
      "margin": null,
      "max_height": null,
      "max_width": null,
      "min_height": null,
      "min_width": null,
      "object_fit": null,
      "object_position": null,
      "order": null,
      "overflow": null,
      "overflow_x": null,
      "overflow_y": null,
      "padding": null,
      "right": null,
      "top": null,
      "visibility": null,
      "width": null
     }
    },
    "6acb2391e21a4d8c8a9ebef7c895f0ae": {
     "model_module": "@jupyter-widgets/base",
     "model_module_version": "1.2.0",
     "model_name": "LayoutModel",
     "state": {
      "_model_module": "@jupyter-widgets/base",
      "_model_module_version": "1.2.0",
      "_model_name": "LayoutModel",
      "_view_count": null,
      "_view_module": "@jupyter-widgets/base",
      "_view_module_version": "1.2.0",
      "_view_name": "LayoutView",
      "align_content": null,
      "align_items": null,
      "align_self": null,
      "border": null,
      "bottom": null,
      "display": null,
      "flex": null,
      "flex_flow": null,
      "grid_area": null,
      "grid_auto_columns": null,
      "grid_auto_flow": null,
      "grid_auto_rows": null,
      "grid_column": null,
      "grid_gap": null,
      "grid_row": null,
      "grid_template_areas": null,
      "grid_template_columns": null,
      "grid_template_rows": null,
      "height": null,
      "justify_content": null,
      "justify_items": null,
      "left": null,
      "margin": null,
      "max_height": null,
      "max_width": null,
      "min_height": null,
      "min_width": null,
      "object_fit": null,
      "object_position": null,
      "order": null,
      "overflow": null,
      "overflow_x": null,
      "overflow_y": null,
      "padding": null,
      "right": null,
      "top": null,
      "visibility": null,
      "width": null
     }
    },
    "71e10db9ee3441f6b4c91c8e4d97d097": {
     "model_module": "@jupyter-widgets/base",
     "model_module_version": "1.2.0",
     "model_name": "LayoutModel",
     "state": {
      "_model_module": "@jupyter-widgets/base",
      "_model_module_version": "1.2.0",
      "_model_name": "LayoutModel",
      "_view_count": null,
      "_view_module": "@jupyter-widgets/base",
      "_view_module_version": "1.2.0",
      "_view_name": "LayoutView",
      "align_content": null,
      "align_items": null,
      "align_self": null,
      "border": null,
      "bottom": null,
      "display": null,
      "flex": null,
      "flex_flow": null,
      "grid_area": null,
      "grid_auto_columns": null,
      "grid_auto_flow": null,
      "grid_auto_rows": null,
      "grid_column": null,
      "grid_gap": null,
      "grid_row": null,
      "grid_template_areas": null,
      "grid_template_columns": null,
      "grid_template_rows": null,
      "height": null,
      "justify_content": null,
      "justify_items": null,
      "left": null,
      "margin": null,
      "max_height": null,
      "max_width": null,
      "min_height": null,
      "min_width": null,
      "object_fit": null,
      "object_position": null,
      "order": null,
      "overflow": null,
      "overflow_x": null,
      "overflow_y": null,
      "padding": null,
      "right": null,
      "top": null,
      "visibility": null,
      "width": null
     }
    },
    "73dcc18274f04eb8a592fb9c6d65225c": {
     "model_module": "@jupyter-widgets/base",
     "model_module_version": "1.2.0",
     "model_name": "LayoutModel",
     "state": {
      "_model_module": "@jupyter-widgets/base",
      "_model_module_version": "1.2.0",
      "_model_name": "LayoutModel",
      "_view_count": null,
      "_view_module": "@jupyter-widgets/base",
      "_view_module_version": "1.2.0",
      "_view_name": "LayoutView",
      "align_content": null,
      "align_items": null,
      "align_self": null,
      "border": null,
      "bottom": null,
      "display": null,
      "flex": null,
      "flex_flow": null,
      "grid_area": null,
      "grid_auto_columns": null,
      "grid_auto_flow": null,
      "grid_auto_rows": null,
      "grid_column": null,
      "grid_gap": null,
      "grid_row": null,
      "grid_template_areas": null,
      "grid_template_columns": null,
      "grid_template_rows": null,
      "height": null,
      "justify_content": null,
      "justify_items": null,
      "left": null,
      "margin": null,
      "max_height": null,
      "max_width": null,
      "min_height": null,
      "min_width": null,
      "object_fit": null,
      "object_position": null,
      "order": null,
      "overflow": null,
      "overflow_x": null,
      "overflow_y": null,
      "padding": null,
      "right": null,
      "top": null,
      "visibility": null,
      "width": null
     }
    },
    "756e1b92b7884a5381d104e448ac98e6": {
     "model_module": "@jupyter-widgets/base",
     "model_module_version": "1.2.0",
     "model_name": "LayoutModel",
     "state": {
      "_model_module": "@jupyter-widgets/base",
      "_model_module_version": "1.2.0",
      "_model_name": "LayoutModel",
      "_view_count": null,
      "_view_module": "@jupyter-widgets/base",
      "_view_module_version": "1.2.0",
      "_view_name": "LayoutView",
      "align_content": null,
      "align_items": null,
      "align_self": null,
      "border": null,
      "bottom": null,
      "display": null,
      "flex": null,
      "flex_flow": null,
      "grid_area": null,
      "grid_auto_columns": null,
      "grid_auto_flow": null,
      "grid_auto_rows": null,
      "grid_column": null,
      "grid_gap": null,
      "grid_row": null,
      "grid_template_areas": null,
      "grid_template_columns": null,
      "grid_template_rows": null,
      "height": null,
      "justify_content": null,
      "justify_items": null,
      "left": null,
      "margin": null,
      "max_height": null,
      "max_width": null,
      "min_height": null,
      "min_width": null,
      "object_fit": null,
      "object_position": null,
      "order": null,
      "overflow": null,
      "overflow_x": null,
      "overflow_y": null,
      "padding": null,
      "right": null,
      "top": null,
      "visibility": null,
      "width": null
     }
    },
    "75ba98ccca3a47239d60b2870df70613": {
     "model_module": "@jupyter-widgets/base",
     "model_module_version": "1.2.0",
     "model_name": "LayoutModel",
     "state": {
      "_model_module": "@jupyter-widgets/base",
      "_model_module_version": "1.2.0",
      "_model_name": "LayoutModel",
      "_view_count": null,
      "_view_module": "@jupyter-widgets/base",
      "_view_module_version": "1.2.0",
      "_view_name": "LayoutView",
      "align_content": null,
      "align_items": null,
      "align_self": null,
      "border": null,
      "bottom": null,
      "display": null,
      "flex": null,
      "flex_flow": null,
      "grid_area": null,
      "grid_auto_columns": null,
      "grid_auto_flow": null,
      "grid_auto_rows": null,
      "grid_column": null,
      "grid_gap": null,
      "grid_row": null,
      "grid_template_areas": null,
      "grid_template_columns": null,
      "grid_template_rows": null,
      "height": null,
      "justify_content": null,
      "justify_items": null,
      "left": null,
      "margin": null,
      "max_height": null,
      "max_width": null,
      "min_height": null,
      "min_width": null,
      "object_fit": null,
      "object_position": null,
      "order": null,
      "overflow": null,
      "overflow_x": null,
      "overflow_y": null,
      "padding": null,
      "right": null,
      "top": null,
      "visibility": null,
      "width": null
     }
    },
    "768170001ca34638b428be1cf9d72062": {
     "model_module": "@jupyter-widgets/controls",
     "model_module_version": "1.5.0",
     "model_name": "ProgressStyleModel",
     "state": {
      "_model_module": "@jupyter-widgets/controls",
      "_model_module_version": "1.5.0",
      "_model_name": "ProgressStyleModel",
      "_view_count": null,
      "_view_module": "@jupyter-widgets/base",
      "_view_module_version": "1.2.0",
      "_view_name": "StyleView",
      "bar_color": null,
      "description_width": ""
     }
    },
    "83cdea7821774799818bd041b4ceb67a": {
     "model_module": "@jupyter-widgets/base",
     "model_module_version": "1.2.0",
     "model_name": "LayoutModel",
     "state": {
      "_model_module": "@jupyter-widgets/base",
      "_model_module_version": "1.2.0",
      "_model_name": "LayoutModel",
      "_view_count": null,
      "_view_module": "@jupyter-widgets/base",
      "_view_module_version": "1.2.0",
      "_view_name": "LayoutView",
      "align_content": null,
      "align_items": null,
      "align_self": null,
      "border": null,
      "bottom": null,
      "display": null,
      "flex": null,
      "flex_flow": null,
      "grid_area": null,
      "grid_auto_columns": null,
      "grid_auto_flow": null,
      "grid_auto_rows": null,
      "grid_column": null,
      "grid_gap": null,
      "grid_row": null,
      "grid_template_areas": null,
      "grid_template_columns": null,
      "grid_template_rows": null,
      "height": null,
      "justify_content": null,
      "justify_items": null,
      "left": null,
      "margin": null,
      "max_height": null,
      "max_width": null,
      "min_height": null,
      "min_width": null,
      "object_fit": null,
      "object_position": null,
      "order": null,
      "overflow": null,
      "overflow_x": null,
      "overflow_y": null,
      "padding": null,
      "right": null,
      "top": null,
      "visibility": null,
      "width": null
     }
    },
    "849dfc19b387459b8b13fca90d362386": {
     "model_module": "@jupyter-widgets/controls",
     "model_module_version": "1.5.0",
     "model_name": "ProgressStyleModel",
     "state": {
      "_model_module": "@jupyter-widgets/controls",
      "_model_module_version": "1.5.0",
      "_model_name": "ProgressStyleModel",
      "_view_count": null,
      "_view_module": "@jupyter-widgets/base",
      "_view_module_version": "1.2.0",
      "_view_name": "StyleView",
      "bar_color": null,
      "description_width": ""
     }
    },
    "8a10cae3fa1a49b2a015435e3b44e2af": {
     "model_module": "@jupyter-widgets/controls",
     "model_module_version": "1.5.0",
     "model_name": "FloatProgressModel",
     "state": {
      "_dom_classes": [],
      "_model_module": "@jupyter-widgets/controls",
      "_model_module_version": "1.5.0",
      "_model_name": "FloatProgressModel",
      "_view_count": null,
      "_view_module": "@jupyter-widgets/controls",
      "_view_module_version": "1.5.0",
      "_view_name": "ProgressView",
      "bar_style": "success",
      "description": "",
      "description_tooltip": null,
      "layout": "IPY_MODEL_6acb2391e21a4d8c8a9ebef7c895f0ae",
      "max": 28881,
      "min": 0,
      "orientation": "horizontal",
      "style": "IPY_MODEL_45382765b5aa4d00aa1e8b1d12d2da86",
      "value": 28881
     }
    },
    "8ac4d248a8dc4de09c927636cbeb7df6": {
     "model_module": "@jupyter-widgets/controls",
     "model_module_version": "1.5.0",
     "model_name": "HTMLModel",
     "state": {
      "_dom_classes": [],
      "_model_module": "@jupyter-widgets/controls",
      "_model_module_version": "1.5.0",
      "_model_name": "HTMLModel",
      "_view_count": null,
      "_view_module": "@jupyter-widgets/controls",
      "_view_module_version": "1.5.0",
      "_view_name": "HTMLView",
      "description": "",
      "description_tooltip": null,
      "layout": "IPY_MODEL_497cd0933507417ba07614f3057076f6",
      "placeholder": "​",
      "style": "IPY_MODEL_45c2f1bc69c54b8ea075ef1e90585313",
      "value": " 1648877/1648877 [00:00&lt;00:00, 8160973.43it/s]"
     }
    },
    "9331169b2eeb4feb86eb515bbe64383b": {
     "model_module": "@jupyter-widgets/base",
     "model_module_version": "1.2.0",
     "model_name": "LayoutModel",
     "state": {
      "_model_module": "@jupyter-widgets/base",
      "_model_module_version": "1.2.0",
      "_model_name": "LayoutModel",
      "_view_count": null,
      "_view_module": "@jupyter-widgets/base",
      "_view_module_version": "1.2.0",
      "_view_name": "LayoutView",
      "align_content": null,
      "align_items": null,
      "align_self": null,
      "border": null,
      "bottom": null,
      "display": null,
      "flex": null,
      "flex_flow": null,
      "grid_area": null,
      "grid_auto_columns": null,
      "grid_auto_flow": null,
      "grid_auto_rows": null,
      "grid_column": null,
      "grid_gap": null,
      "grid_row": null,
      "grid_template_areas": null,
      "grid_template_columns": null,
      "grid_template_rows": null,
      "height": null,
      "justify_content": null,
      "justify_items": null,
      "left": null,
      "margin": null,
      "max_height": null,
      "max_width": null,
      "min_height": null,
      "min_width": null,
      "object_fit": null,
      "object_position": null,
      "order": null,
      "overflow": null,
      "overflow_x": null,
      "overflow_y": null,
      "padding": null,
      "right": null,
      "top": null,
      "visibility": null,
      "width": null
     }
    },
    "991c5a730b344f1792e32b956b6a27c3": {
     "model_module": "@jupyter-widgets/controls",
     "model_module_version": "1.5.0",
     "model_name": "DescriptionStyleModel",
     "state": {
      "_model_module": "@jupyter-widgets/controls",
      "_model_module_version": "1.5.0",
      "_model_name": "DescriptionStyleModel",
      "_view_count": null,
      "_view_module": "@jupyter-widgets/base",
      "_view_module_version": "1.2.0",
      "_view_name": "StyleView",
      "description_width": ""
     }
    },
    "9f353a4f601b4b2897d9cfa1d2544513": {
     "model_module": "@jupyter-widgets/controls",
     "model_module_version": "1.5.0",
     "model_name": "FloatProgressModel",
     "state": {
      "_dom_classes": [],
      "_model_module": "@jupyter-widgets/controls",
      "_model_module_version": "1.5.0",
      "_model_name": "FloatProgressModel",
      "_view_count": null,
      "_view_module": "@jupyter-widgets/controls",
      "_view_module_version": "1.5.0",
      "_view_name": "ProgressView",
      "bar_style": "success",
      "description": "",
      "description_tooltip": null,
      "layout": "IPY_MODEL_b5815ad268a2440eb738cd8e6a4b6442",
      "max": 9912422,
      "min": 0,
      "orientation": "horizontal",
      "style": "IPY_MODEL_849dfc19b387459b8b13fca90d362386",
      "value": 9912422
     }
    },
    "afce46944de94c99abbff028b08d9b8f": {
     "model_module": "@jupyter-widgets/controls",
     "model_module_version": "1.5.0",
     "model_name": "DescriptionStyleModel",
     "state": {
      "_model_module": "@jupyter-widgets/controls",
      "_model_module_version": "1.5.0",
      "_model_name": "DescriptionStyleModel",
      "_view_count": null,
      "_view_module": "@jupyter-widgets/base",
      "_view_module_version": "1.2.0",
      "_view_name": "StyleView",
      "description_width": ""
     }
    },
    "b1b3d84510ea44998587861960ee8a8d": {
     "model_module": "@jupyter-widgets/controls",
     "model_module_version": "1.5.0",
     "model_name": "FloatProgressModel",
     "state": {
      "_dom_classes": [],
      "_model_module": "@jupyter-widgets/controls",
      "_model_module_version": "1.5.0",
      "_model_name": "FloatProgressModel",
      "_view_count": null,
      "_view_module": "@jupyter-widgets/controls",
      "_view_module_version": "1.5.0",
      "_view_name": "ProgressView",
      "bar_style": "success",
      "description": "",
      "description_tooltip": null,
      "layout": "IPY_MODEL_756e1b92b7884a5381d104e448ac98e6",
      "max": 4542,
      "min": 0,
      "orientation": "horizontal",
      "style": "IPY_MODEL_678cc3746f184b85a6c4e119463fa66d",
      "value": 4542
     }
    },
    "b5815ad268a2440eb738cd8e6a4b6442": {
     "model_module": "@jupyter-widgets/base",
     "model_module_version": "1.2.0",
     "model_name": "LayoutModel",
     "state": {
      "_model_module": "@jupyter-widgets/base",
      "_model_module_version": "1.2.0",
      "_model_name": "LayoutModel",
      "_view_count": null,
      "_view_module": "@jupyter-widgets/base",
      "_view_module_version": "1.2.0",
      "_view_name": "LayoutView",
      "align_content": null,
      "align_items": null,
      "align_self": null,
      "border": null,
      "bottom": null,
      "display": null,
      "flex": null,
      "flex_flow": null,
      "grid_area": null,
      "grid_auto_columns": null,
      "grid_auto_flow": null,
      "grid_auto_rows": null,
      "grid_column": null,
      "grid_gap": null,
      "grid_row": null,
      "grid_template_areas": null,
      "grid_template_columns": null,
      "grid_template_rows": null,
      "height": null,
      "justify_content": null,
      "justify_items": null,
      "left": null,
      "margin": null,
      "max_height": null,
      "max_width": null,
      "min_height": null,
      "min_width": null,
      "object_fit": null,
      "object_position": null,
      "order": null,
      "overflow": null,
      "overflow_x": null,
      "overflow_y": null,
      "padding": null,
      "right": null,
      "top": null,
      "visibility": null,
      "width": null
     }
    },
    "b585e911c55245429bfe3e5515241843": {
     "model_module": "@jupyter-widgets/controls",
     "model_module_version": "1.5.0",
     "model_name": "HBoxModel",
     "state": {
      "_dom_classes": [],
      "_model_module": "@jupyter-widgets/controls",
      "_model_module_version": "1.5.0",
      "_model_name": "HBoxModel",
      "_view_count": null,
      "_view_module": "@jupyter-widgets/controls",
      "_view_module_version": "1.5.0",
      "_view_name": "HBoxView",
      "box_style": "",
      "children": [
       "IPY_MODEL_d2263ca150ab4a7daef07fb97e78ed72",
       "IPY_MODEL_3cb4ac6f201541caaaa0b30a17f9c172",
       "IPY_MODEL_8ac4d248a8dc4de09c927636cbeb7df6"
      ],
      "layout": "IPY_MODEL_73dcc18274f04eb8a592fb9c6d65225c"
     }
    },
    "bca5e7a2eabd48459b8881dbc3bedbea": {
     "model_module": "@jupyter-widgets/controls",
     "model_module_version": "1.5.0",
     "model_name": "DescriptionStyleModel",
     "state": {
      "_model_module": "@jupyter-widgets/controls",
      "_model_module_version": "1.5.0",
      "_model_name": "DescriptionStyleModel",
      "_view_count": null,
      "_view_module": "@jupyter-widgets/base",
      "_view_module_version": "1.2.0",
      "_view_name": "StyleView",
      "description_width": ""
     }
    },
    "c820154f96454c7c92f02916cb8bff72": {
     "model_module": "@jupyter-widgets/base",
     "model_module_version": "1.2.0",
     "model_name": "LayoutModel",
     "state": {
      "_model_module": "@jupyter-widgets/base",
      "_model_module_version": "1.2.0",
      "_model_name": "LayoutModel",
      "_view_count": null,
      "_view_module": "@jupyter-widgets/base",
      "_view_module_version": "1.2.0",
      "_view_name": "LayoutView",
      "align_content": null,
      "align_items": null,
      "align_self": null,
      "border": null,
      "bottom": null,
      "display": null,
      "flex": null,
      "flex_flow": null,
      "grid_area": null,
      "grid_auto_columns": null,
      "grid_auto_flow": null,
      "grid_auto_rows": null,
      "grid_column": null,
      "grid_gap": null,
      "grid_row": null,
      "grid_template_areas": null,
      "grid_template_columns": null,
      "grid_template_rows": null,
      "height": null,
      "justify_content": null,
      "justify_items": null,
      "left": null,
      "margin": null,
      "max_height": null,
      "max_width": null,
      "min_height": null,
      "min_width": null,
      "object_fit": null,
      "object_position": null,
      "order": null,
      "overflow": null,
      "overflow_x": null,
      "overflow_y": null,
      "padding": null,
      "right": null,
      "top": null,
      "visibility": null,
      "width": null
     }
    },
    "d2263ca150ab4a7daef07fb97e78ed72": {
     "model_module": "@jupyter-widgets/controls",
     "model_module_version": "1.5.0",
     "model_name": "HTMLModel",
     "state": {
      "_dom_classes": [],
      "_model_module": "@jupyter-widgets/controls",
      "_model_module_version": "1.5.0",
      "_model_name": "HTMLModel",
      "_view_count": null,
      "_view_module": "@jupyter-widgets/controls",
      "_view_module_version": "1.5.0",
      "_view_name": "HTMLView",
      "description": "",
      "description_tooltip": null,
      "layout": "IPY_MODEL_6a647de8d2344faab5594bb72a31763e",
      "placeholder": "​",
      "style": "IPY_MODEL_991c5a730b344f1792e32b956b6a27c3",
      "value": "100%"
     }
    },
    "f5913bbdef0848fd8fd89a0db5af8882": {
     "model_module": "@jupyter-widgets/controls",
     "model_module_version": "1.5.0",
     "model_name": "DescriptionStyleModel",
     "state": {
      "_model_module": "@jupyter-widgets/controls",
      "_model_module_version": "1.5.0",
      "_model_name": "DescriptionStyleModel",
      "_view_count": null,
      "_view_module": "@jupyter-widgets/base",
      "_view_module_version": "1.2.0",
      "_view_name": "StyleView",
      "description_width": ""
     }
    },
    "f82283b826ec42f6bd674ff98bf1e649": {
     "model_module": "@jupyter-widgets/base",
     "model_module_version": "1.2.0",
     "model_name": "LayoutModel",
     "state": {
      "_model_module": "@jupyter-widgets/base",
      "_model_module_version": "1.2.0",
      "_model_name": "LayoutModel",
      "_view_count": null,
      "_view_module": "@jupyter-widgets/base",
      "_view_module_version": "1.2.0",
      "_view_name": "LayoutView",
      "align_content": null,
      "align_items": null,
      "align_self": null,
      "border": null,
      "bottom": null,
      "display": null,
      "flex": null,
      "flex_flow": null,
      "grid_area": null,
      "grid_auto_columns": null,
      "grid_auto_flow": null,
      "grid_auto_rows": null,
      "grid_column": null,
      "grid_gap": null,
      "grid_row": null,
      "grid_template_areas": null,
      "grid_template_columns": null,
      "grid_template_rows": null,
      "height": null,
      "justify_content": null,
      "justify_items": null,
      "left": null,
      "margin": null,
      "max_height": null,
      "max_width": null,
      "min_height": null,
      "min_width": null,
      "object_fit": null,
      "object_position": null,
      "order": null,
      "overflow": null,
      "overflow_x": null,
      "overflow_y": null,
      "padding": null,
      "right": null,
      "top": null,
      "visibility": null,
      "width": null
     }
    },
    "f9d7627d15a9420d8ccea6449f6d8b6a": {
     "model_module": "@jupyter-widgets/controls",
     "model_module_version": "1.5.0",
     "model_name": "HBoxModel",
     "state": {
      "_dom_classes": [],
      "_model_module": "@jupyter-widgets/controls",
      "_model_module_version": "1.5.0",
      "_model_name": "HBoxModel",
      "_view_count": null,
      "_view_module": "@jupyter-widgets/controls",
      "_view_module_version": "1.5.0",
      "_view_name": "HBoxView",
      "box_style": "",
      "children": [
       "IPY_MODEL_335568079c7541b7b293b2d70ad40b0b",
       "IPY_MODEL_b1b3d84510ea44998587861960ee8a8d",
       "IPY_MODEL_36949bd6cf3c4732bdb02b7f1b50d254"
      ],
      "layout": "IPY_MODEL_fb4ca0f633834111931a2eaefd22ebf3"
     }
    },
    "fb4ca0f633834111931a2eaefd22ebf3": {
     "model_module": "@jupyter-widgets/base",
     "model_module_version": "1.2.0",
     "model_name": "LayoutModel",
     "state": {
      "_model_module": "@jupyter-widgets/base",
      "_model_module_version": "1.2.0",
      "_model_name": "LayoutModel",
      "_view_count": null,
      "_view_module": "@jupyter-widgets/base",
      "_view_module_version": "1.2.0",
      "_view_name": "LayoutView",
      "align_content": null,
      "align_items": null,
      "align_self": null,
      "border": null,
      "bottom": null,
      "display": null,
      "flex": null,
      "flex_flow": null,
      "grid_area": null,
      "grid_auto_columns": null,
      "grid_auto_flow": null,
      "grid_auto_rows": null,
      "grid_column": null,
      "grid_gap": null,
      "grid_row": null,
      "grid_template_areas": null,
      "grid_template_columns": null,
      "grid_template_rows": null,
      "height": null,
      "justify_content": null,
      "justify_items": null,
      "left": null,
      "margin": null,
      "max_height": null,
      "max_width": null,
      "min_height": null,
      "min_width": null,
      "object_fit": null,
      "object_position": null,
      "order": null,
      "overflow": null,
      "overflow_x": null,
      "overflow_y": null,
      "padding": null,
      "right": null,
      "top": null,
      "visibility": null,
      "width": null
     }
    },
    "fce0147a10e94e53a7e9dff3ce91e96e": {
     "model_module": "@jupyter-widgets/base",
     "model_module_version": "1.2.0",
     "model_name": "LayoutModel",
     "state": {
      "_model_module": "@jupyter-widgets/base",
      "_model_module_version": "1.2.0",
      "_model_name": "LayoutModel",
      "_view_count": null,
      "_view_module": "@jupyter-widgets/base",
      "_view_module_version": "1.2.0",
      "_view_name": "LayoutView",
      "align_content": null,
      "align_items": null,
      "align_self": null,
      "border": null,
      "bottom": null,
      "display": null,
      "flex": null,
      "flex_flow": null,
      "grid_area": null,
      "grid_auto_columns": null,
      "grid_auto_flow": null,
      "grid_auto_rows": null,
      "grid_column": null,
      "grid_gap": null,
      "grid_row": null,
      "grid_template_areas": null,
      "grid_template_columns": null,
      "grid_template_rows": null,
      "height": null,
      "justify_content": null,
      "justify_items": null,
      "left": null,
      "margin": null,
      "max_height": null,
      "max_width": null,
      "min_height": null,
      "min_width": null,
      "object_fit": null,
      "object_position": null,
      "order": null,
      "overflow": null,
      "overflow_x": null,
      "overflow_y": null,
      "padding": null,
      "right": null,
      "top": null,
      "visibility": null,
      "width": null
     }
    }
   }
  }
 },
 "nbformat": 4,
 "nbformat_minor": 1
}
