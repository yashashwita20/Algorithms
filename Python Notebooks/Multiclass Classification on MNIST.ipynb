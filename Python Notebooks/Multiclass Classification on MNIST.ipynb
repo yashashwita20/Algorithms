{
 "cells": [
  {
   "cell_type": "markdown",
   "metadata": {
    "id": "hjRM13EAuL3g"
   },
   "source": [
    "**Keywords**: Multiclass Classification, Least Squares Regression, PyTorch\n",
    "\n",
    "**About the dataset**:\n",
    "*   The [MNIST](https://en.wikipedia.org/wiki/MNIST_database) database (Modified National Institute of Standards and Technology database) is a large database of handwritten digits that is commonly used for training various image processing systems.\n",
    "*   The MNIST database contains 70,000 labeled images. Each datapoint is a $28\\times 28$ pixels grayscale image.\n",
    "*   However because of compute limitations, we will use a much smaller dataset with size $8\\times 8$ images. These images are loaded from `sklearn.datasets`.\n",
    "\n",
    "**Agenda**:\n",
    "* Performing multiclass classification on the simplified MNIST dataset.\n",
    "* Applying Multiclass Logistic Regression from scratch. Working with both Mean Square Error (L2) loss and Cross Entropy (CE) loss with gradient descent (GD) as well as stochastic/mini-batch gradient descent (SGD). \n",
    "* Finally, training a 2-hidden-layer Neural Network model on the image dataset.\n",
    "* All the predictions will be evaluated on a test set."
   ]
  },
  {
   "cell_type": "markdown",
   "metadata": {
    "id": "ZUJgYttwjmpK"
   },
   "source": [
    "\n",
    "\n",
    "---\n",
    "\n"
   ]
  },
  {
   "cell_type": "code",
   "execution_count": 1,
   "metadata": {
    "colab": {
     "base_uri": "https://localhost:8080/"
    },
    "id": "qNtGmOhl1I_m",
    "outputId": "57170786-1a3a-4d3f-c7f6-f02f56eced44"
   },
   "outputs": [],
   "source": [
    "# imports\n",
    "import torch\n",
    "import numpy as np\n",
    "import math\n",
    "from tqdm.notebook import tqdm\n",
    "import matplotlib.pyplot as plt\n",
    "from sklearn.datasets import load_digits\n",
    "from sklearn.model_selection import train_test_split\n",
    "from sklearn.metrics import accuracy_score"
   ]
  },
  {
   "cell_type": "code",
   "execution_count": 2,
   "metadata": {},
   "outputs": [
    {
     "name": "stdout",
     "output_type": "stream",
     "text": [
      "Number of images: 1797\n",
      "Number of features per image: 64\n"
     ]
    }
   ],
   "source": [
    "# loading the dataset directly from the scikit-learn library\n",
    "dataset = load_digits()\n",
    "X = dataset.data\n",
    "y = dataset.target\n",
    "print('Number of images:', X.shape[0])\n",
    "print('Number of features per image:', X.shape[1])"
   ]
  },
  {
   "cell_type": "code",
   "execution_count": 3,
   "metadata": {
    "colab": {
     "base_uri": "https://localhost:8080/",
     "height": 395
    },
    "id": "qDy8xSdXyJI3",
    "outputId": "154ffbc2-54ba-4d4c-e5cb-8030c0cfaf3d"
   },
   "outputs": [],
   "source": [
    "# utility function to plot gallery of images\n",
    "def plot_gallery(images, titles, height, width, n_row=2, n_col=4):\n",
    "    plt.figure(figsize=(2* n_col, 3 * n_row))\n",
    "    plt.subplots_adjust(bottom=0, left=0.01, right=0.99, top=0.90, hspace=0.35)\n",
    "    for i in range(n_row * n_col):\n",
    "        plt.subplot(n_row, n_col, i + 1)\n",
    "        plt.imshow(images[i].reshape((height, width)), cmap=plt.cm.gray)\n",
    "        plt.title(titles[i], size=12)\n",
    "        plt.xticks(())\n",
    "        plt.yticks(())"
   ]
  },
  {
   "cell_type": "code",
   "execution_count": 4,
   "metadata": {},
   "outputs": [
    {
     "data": {
      "image/png": "[encoded data removed]",
      "text/plain": [
       "<Figure size 720x432 with 10 Axes>"
      ]
     },
     "metadata": {},
     "output_type": "display_data"
    }
   ],
   "source": [
    "# visualizing some of the images of the MNIST dataset\n",
    "plot_gallery(X, y, 8, 8, 2, 5)"
   ]
  },
  {
   "cell_type": "code",
   "execution_count": 5,
   "metadata": {
    "colab": {
     "base_uri": "https://localhost:8080/"
    },
    "id": "lLRlr0wNOKI1",
    "outputId": "a2559485-68b5-4ce6-ef45-b0073c3fc392"
   },
   "outputs": [
    {
     "name": "stdout",
     "output_type": "stream",
     "text": [
      "Shape of train dataset: (1437, 64)\n",
      "Shape of evaluation dataset: (360, 64)\n"
     ]
    }
   ],
   "source": [
    "# Splitting the dataset into training and test sets in a stratified manner.\n",
    "X_train, X_test, y_train, y_test = train_test_split(X, y, test_size=0.2, random_state=42, stratify=y)\n",
    "print('Shape of train dataset:', X_train.shape)\n",
    "print('Shape of evaluation dataset:', X_test.shape)"
   ]
  },
  {
   "cell_type": "code",
   "execution_count": 6,
   "metadata": {
    "id": "T6Jam6RdFeIm"
   },
   "outputs": [],
   "source": [
    "# Defining some constants - useful for later\n",
    "num_classes = len(np.unique(y)) # number of target classes = 10 -- (0,1,2,3,4,5,6,7,8,9)\n",
    "num_features = X.shape[1]       # number of features = 64\n",
    "max_epochs = 100000             # max number of epochs for training\n",
    "lr = 1e-2                       # learning rate\n",
    "tolerance = 1e-6                # tolerance for early stopping during training"
   ]
  },
  {
   "cell_type": "code",
   "execution_count": 7,
   "metadata": {
    "id": "hgMgGeeUUFb-"
   },
   "outputs": [],
   "source": [
    "device = 'cuda' if torch.cuda.is_available() else 'cpu'"
   ]
  },
  {
   "cell_type": "markdown",
   "metadata": {
    "id": "BBvXcyFhmLvU"
   },
   "source": [
    "\n",
    "\n",
    "---\n",
    "\n"
   ]
  },
  {
   "cell_type": "markdown",
   "metadata": {
    "id": "nhpUZN-ES_e0"
   },
   "source": [
    "### We will apply multiclass logistic regression from scratch with one-vs-all strategy using gradient descent (GD) as well as stochastic gradient descent (SGD) with Mean Squared Error (MSE) loss.\n",
    "### We will be using a linear model $y^{(i)} = W \\mathbf{x}^{(i)},$ where $ W_{p\\times n}= \\begin{bmatrix}\n",
    "\\leftarrow & \\mathbf{w}_1^\\top & \\rightarrow \\\\\n",
    "\\leftarrow & \\mathbf{w}_2^\\top & \\rightarrow\\\\\n",
    " & \\vdots &  \\\\\n",
    "\\leftarrow & \\mathbf{w}_p^\\top & \\rightarrow \\\\\n",
    "\\end{bmatrix}$, and $p$ is the number of target classes. Also, $\\mathbf{x}^{(i)}\\in \\mathbb{R}^n, y^{(i)}\\in \\mathbb{R}$, and\n",
    "### $X = \\begin{bmatrix}\n",
    "\\uparrow &  \\uparrow & \\dotsm &  \\uparrow\\\\\n",
    "\\mathbf{x}^{(1)} & \\mathbf{x}^{(2)} & \\dotsm & \\mathbf{x}^{(m)} \\\\\n",
    "\\downarrow & \\downarrow  & \\dotsm & \\downarrow  \\\\\n",
    "\\end{bmatrix}, Y = \\begin{bmatrix}\n",
    "y^{(1)}\\\\\n",
    "y^{(2)} \\\\\n",
    "\\vdots \\\\\n",
    "y^{(m)} \\\\\n",
    "\\end{bmatrix}$, where $m$ is the number of datapoints.\n"
   ]
  },
  {
   "cell_type": "code",
   "execution_count": 8,
   "metadata": {
    "id": "cQGB7Y9cUO2V"
   },
   "outputs": [],
   "source": [
    "# 1. Scaling the features between 0 and 1 \n",
    "\n",
    "from sklearn.preprocessing import MinMaxScaler\n",
    "\n",
    "scaler = MinMaxScaler()\n",
    "\n",
    "X_train = scaler.fit_transform(X_train)\n",
    "X_test = scaler.transform(X_test)"
   ]
  },
  {
   "cell_type": "code",
   "execution_count": 9,
   "metadata": {
    "colab": {
     "base_uri": "https://localhost:8080/"
    },
    "id": "iZRF8HumUlen",
    "outputId": "04688bb7-c00e-4c29-891d-4705d04665db"
   },
   "outputs": [
    {
     "name": "stdout",
     "output_type": "stream",
     "text": [
      "Shape of y_train_ohe: (1437, 10)\n",
      "Shape of y_test_ohe: (360, 10)\n"
     ]
    }
   ],
   "source": [
    "# 2. One-Hot encoding the target labels\n",
    "\n",
    "from sklearn.preprocessing import OneHotEncoder\n",
    "\n",
    "ohe = OneHotEncoder()\n",
    "\n",
    "y_train_ohe = ohe.fit_transform(y_train.reshape(-1,1)).toarray()\n",
    "\n",
    "y_test_ohe = ohe.transform(y_test.reshape(-1,1)).toarray()\n",
    "\n",
    "print('Shape of y_train_ohe:',y_train_ohe.shape)\n",
    "print('Shape of y_test_ohe:',y_test_ohe.shape)"
   ]
  },
  {
   "cell_type": "markdown",
   "metadata": {
    "id": "AztFFkzUuHW1"
   },
   "source": [
    "### Function `linear_model` that takes as input a weight matrix (`W`), bias vector (`b`), and input data matrix of size $m\\times n$ (`XT`). This function returns the predictions $\\hat{y}$. "
   ]
  },
  {
   "cell_type": "code",
   "execution_count": 10,
   "metadata": {
    "id": "75DOhP-EVsRs"
   },
   "outputs": [],
   "source": [
    "def linear_model(W,b,Input):\n",
    "\n",
    "    y = torch.add(torch.matmul(Input,W.T),b)\n",
    "\n",
    "    return y"
   ]
  },
  {
   "cell_type": "markdown",
   "metadata": {
    "id": "8snSDdp4u49o"
   },
   "source": [
    "### Function `mse_loss` that takes as input prediction (`y_pred`) and actual labels (`y`), and returns the MSE loss.\n",
    "$\\displaystyle MSE = \\frac{1}{m}\\sum_{i=1}^m(\\hat{y}^{(i)}-y^{(i)})^2$, where $m$ is the number of examples, $\\hat{y}^{(i)}$ is the \n",
    "predicted value and $y^{(i)}$ is the ground truth."
   ]
  },
  {
   "cell_type": "code",
   "execution_count": 11,
   "metadata": {
    "id": "MGjd_pYPduV0"
   },
   "outputs": [],
   "source": [
    "def mse_loss(y_pred,y_actual):\n",
    "\n",
    "    loss = (torch.square(y_pred - y_actual)).mean()\n",
    "    \n",
    "    return loss"
   ]
  },
  {
   "cell_type": "markdown",
   "metadata": {
    "id": "d27EoDd1vIA7"
   },
   "source": [
    "### Function: `initializeWeightsAndBiases` that returns tuple `(W, b)`, where `W` is a randomly generated torch tensor of size `num_classes x num_features`, and `b` is a randomly generated torch vector of size `num_classes`. For both the tensors, setting `requires_grad=True` in parameters."
   ]
  },
  {
   "cell_type": "code",
   "execution_count": 12,
   "metadata": {
    "id": "B8YiUt1ewQYz"
   },
   "outputs": [],
   "source": [
    "def initializeWeightsAndBiases(num_classes,num_features):\n",
    "    W = torch.rand((num_classes,num_features),requires_grad=True,device=device)\n",
    "    b = torch.rand((num_classes),requires_grad=True,device=device)\n",
    "    \n",
    "    return (W,b)"
   ]
  },
  {
   "cell_type": "markdown",
   "metadata": {},
   "source": [
    "### Additionally, moving all training and testing data to torch tensors with `dtype=float32`."
   ]
  },
  {
   "cell_type": "code",
   "execution_count": 13,
   "metadata": {},
   "outputs": [],
   "source": [
    "X_train_torch = torch.from_numpy(X_train).float().to(device)\n",
    "X_test_torch = torch.from_numpy(X_test).float().to(device)\n",
    "y_train_ohe_torch = torch.from_numpy(y_train_ohe).float().to(device)\n",
    "y_test_ohe_torch = torch.from_numpy(y_test_ohe).float().to(device)"
   ]
  },
  {
   "cell_type": "markdown",
   "metadata": {
    "id": "wpiEdcLYg6Vb"
   },
   "source": [
    "### Implementing the code for training. Given below is a function: `train_linear_regression_model` that takes as input max number of epochs (`max_epochs`), batch size (`batch_size`), Weights (`W`), Biases (`b`), training data (`X_train, y_train`), learning rate (`lr`), tolerance for stopping (`tolerance`). It return a tuple `(W,b,losses)` where `W,b` are the trained weigths and biases respectively, and `losses` is a list of tuples of loss logged every $100^{th}$  epoch."
   ]
  },
  {
   "cell_type": "code",
   "execution_count": 14,
   "metadata": {
    "id": "xZrxj7NEJhiw"
   },
   "outputs": [],
   "source": [
    "def train_linear_regression_model(max_epochs, batch_size, W, b, X_train, y_train, lr, tolerance):\n",
    "\n",
    "    losses = []\n",
    "    prev_loss = float('inf')\n",
    "    number_of_batches = math.ceil(len(X_train)/batch_size)\n",
    "\n",
    "    for epoch in tqdm(range(max_epochs)):\n",
    "        for i in range(number_of_batches):\n",
    "            X_train_batch = X_train[i*batch_size: (i+1)*batch_size]\n",
    "            y_train_batch = y_train[i*batch_size: (i+1)*batch_size]\n",
    "\n",
    "            # 7. do prediction\n",
    "            y_pred = linear_model(W,b,X_train_batch)\n",
    "            \n",
    "            # 8. get the loss\n",
    "            loss = mse_loss(y_pred,y_train_batch)\n",
    "\n",
    "            # 9. backpropagate loss\n",
    "            loss.backward()\n",
    "            \n",
    "            # 10. update the weights and biasees\n",
    "            with torch.no_grad():\n",
    "                W -= lr * W.grad\n",
    "                b -= lr * b.grad\n",
    "            # 11. set the gradients to zero\n",
    "            W.grad.zero_()\n",
    "            b.grad.zero_()\n",
    "            #######\n",
    "\n",
    "        # log loss every 100th epoch and print every 5000th epoch:\n",
    "        if epoch%100==0:\n",
    "            losses.append((epoch, loss.item()))\n",
    "        if epoch%5000==0:\n",
    "            print('Epoch: {}, Loss: {}'.format(epoch, loss.item()))\n",
    "\n",
    "        # break if decrease in loss is less than threshold\n",
    "        if abs(prev_loss-loss)<=tolerance:\n",
    "            break\n",
    "        else:\n",
    "            prev_loss=loss  \n",
    "\n",
    "    # return updated weights, biases, and logged losses\n",
    "    return W, b, losses"
   ]
  },
  {
   "cell_type": "code",
   "execution_count": 15,
   "metadata": {
    "id": "_dGpGFRqTaK5"
   },
   "outputs": [],
   "source": [
    "# initializing these to compare the models later\n",
    "train_results = []\n",
    "test_results = []"
   ]
  },
  {
   "cell_type": "markdown",
   "metadata": {
    "id": "QFJ-tBGgeOdw"
   },
   "source": [
    "### Initializing weights and biases using the `initializeWeightsAndBiases` function that was defined earlier, and training the model using function `train_linear_regression_model` defined above. Using full batch (setting `batch_size=len(X_train)` for training (Gradient Descent). Also plotting the graph of loss vs number of epochs (Recall that values for learning rate (`lr`) and tolerance (`tolerance`) are already defined above)."
   ]
  },
  {
   "cell_type": "code",
   "execution_count": 16,
   "metadata": {
    "colab": {
     "base_uri": "https://localhost:8080/",
     "height": 414,
     "referenced_widgets": [
      "602824b3202245b59d1db53f224aac13",
      "33bbd3485d7746afa061a8e5adab0cd5",
      "696c49b76ddf44c19f89b409a0754b25",
      "9ff802eb7499487a8b9f63f370d1b0cf",
      "54faa771c6ef43bcbc88de41070f4271",
      "e23a1000bb33436ead3f2f5aa43f8712",
      "bad0fe9e465446618da9714ca5595e86",
      "39a7a9c783414373b5a34d4fafc770fd",
      "73529cf1246b4173bdabb4ed5dfc8971",
      "2c8bb7aa515949339d553c99225cd6c0",
      "be7e5ae762874fe38079efd19d646d0d"
     ]
    },
    "id": "zHfBioX0K294",
    "outputId": "bcc1bd0e-015c-4304-ede8-ccb659bc98ec"
   },
   "outputs": [
    {
     "data": {
      "application/vnd.jupyter.widget-view+json": {
       "model_id": "7ae8836ad431446aa36ae2b1c4458e30",
       "version_major": 2,
       "version_minor": 0
      },
      "text/plain": [
       "  0%|          | 0/100000 [00:00<?, ?it/s]"
      ]
     },
     "metadata": {},
     "output_type": "display_data"
    },
    {
     "name": "stdout",
     "output_type": "stream",
     "text": [
      "Epoch: 0, Loss: 113.71159362792969\n",
      "Epoch: 5000, Loss: 0.1472998410463333\n",
      "Epoch: 10000, Loss: 0.08794815093278885\n",
      "Epoch: 15000, Loss: 0.06747237592935562\n",
      "Epoch: 20000, Loss: 0.05755147337913513\n"
     ]
    },
    {
     "data": {
      "image/png": "[encoded data removed]",
      "text/plain": [
       "<Figure size 432x288 with 1 Axes>"
      ]
     },
     "metadata": {
      "needs_background": "light"
     },
     "output_type": "display_data"
    }
   ],
   "source": [
    "(W,b) = initializeWeightsAndBiases(num_classes,num_features)\n",
    "\n",
    "def plot_loss(losses):\n",
    "    plt.plot(*zip(*losses))\n",
    "    plt.title('model loss')\n",
    "    plt.ylabel('loss')\n",
    "    plt.xlabel('epoch')\n",
    "    plt.show()\n",
    "\n",
    "W, b, losses = train_linear_regression_model(max_epochs, len(X_train_torch), W, b, X_train_torch, y_train_ohe_torch, lr, tolerance)\n",
    "\n",
    "plot_loss(losses)"
   ]
  },
  {
   "cell_type": "code",
   "execution_count": 17,
   "metadata": {
    "colab": {
     "base_uri": "https://localhost:8080/"
    },
    "id": "QIDhQXpTYX9T",
    "outputId": "5fd02be8-9991-4757-bbb9-2f8537f6a185"
   },
   "outputs": [
    {
     "name": "stdout",
     "output_type": "stream",
     "text": [
      "Train accuracy: 0.918580375782881\n",
      "Test accuracy: 0.8944444444444445\n"
     ]
    }
   ],
   "source": [
    "# print accuracies of model\n",
    "predictions_train = linear_model(W,b,X_train_torch).to('cpu')\n",
    "predictions_test = linear_model(W,b,X_test_torch).to('cpu')\n",
    "y_train_pred = torch.argmax(predictions_train, dim=1).numpy()\n",
    "\n",
    "y_test_pred = torch.argmax(predictions_test, dim=1).numpy()\n",
    "print(\"Train accuracy:\",accuracy_score(y_train_pred, np.asarray(y_train, dtype=np.float32)))\n",
    "print(\"Test accuracy:\",accuracy_score(y_test_pred, np.asarray(y_test, dtype=np.float32)))\n",
    "\n",
    "test_results.append((\"Linear Model - Scratch + MSE Loss + Full Batch\",accuracy_score(y_test_pred, np.asarray(y_test, dtype=np.float32))))\n",
    "train_results.append((\"Linear Model - Scratch + MSE Loss + Full Batch\",accuracy_score(y_train_pred, np.asarray(y_train, dtype=np.float32))))"
   ]
  },
  {
   "cell_type": "markdown",
   "metadata": {
    "id": "RZprgWslioL7"
   },
   "source": [
    "### Retraining the above model with `batch_size=64` (Stochastic/Mini-batch Gradient Descent) keeping else everything same. Like before, plotting the graph between loss and number of epochs."
   ]
  },
  {
   "cell_type": "code",
   "execution_count": 18,
   "metadata": {
    "colab": {
     "base_uri": "https://localhost:8080/",
     "height": 344,
     "referenced_widgets": [
      "4866dc634c7e4acf97f6e30806091bae",
      "81506cd976134eb78a287b8184999adc",
      "85fde5b036c3454c8ff9defdd389b3ca",
      "0505cf071a0a4ce584afce4f917dbff5",
      "f9a17d7d8f0f4d9dadebdeda054b2fac",
      "97d0e15072c04893b72dcf0b11192dcc",
      "ccf02c26a05140bb800df57d05658694",
      "921fcd802e194166a2f0f9d438d5d85d",
      "e188e295776b487cb7abbcbc24524532",
      "57415270a36740f6b17027f47ae833a8",
      "c1dc43293e62430da8f8b8a9935d26d7"
     ]
    },
    "id": "5NMg8pDYinSo",
    "outputId": "d40e21da-d067-4d10-a178-6a9a292f3965"
   },
   "outputs": [
    {
     "data": {
      "application/vnd.jupyter.widget-view+json": {
       "model_id": "5f37354f592948d78e17e6e086f1c2c7",
       "version_major": 2,
       "version_minor": 0
      },
      "text/plain": [
       "  0%|          | 0/100000 [00:00<?, ?it/s]"
      ]
     },
     "metadata": {},
     "output_type": "display_data"
    },
    {
     "name": "stdout",
     "output_type": "stream",
     "text": [
      "Epoch: 0, Loss: 0.04282992705702782\n"
     ]
    },
    {
     "data": {
      "image/png": "[encoded data removed]",
      "text/plain": [
       "<Figure size 432x288 with 1 Axes>"
      ]
     },
     "metadata": {
      "needs_background": "light"
     },
     "output_type": "display_data"
    }
   ],
   "source": [
    "W, b, losses = train_linear_regression_model(max_epochs,64, W, b, X_train_torch, y_train_ohe_torch, lr, tolerance)\n",
    "\n",
    "plot_loss(losses)"
   ]
  },
  {
   "cell_type": "code",
   "execution_count": 19,
   "metadata": {
    "colab": {
     "base_uri": "https://localhost:8080/"
    },
    "id": "y5O3T2zkjy2S",
    "outputId": "0efd7d33-d13e-441f-f431-103ea30264be"
   },
   "outputs": [
    {
     "name": "stdout",
     "output_type": "stream",
     "text": [
      "Train accuracy: 0.9457202505219207\n",
      "Test accuracy: 0.9416666666666667\n"
     ]
    }
   ],
   "source": [
    "# print accuracies of model\n",
    "predictions_train = linear_model(W,b,X_train_torch).to('cpu')\n",
    "predictions_test = linear_model(W,b,X_test_torch).to('cpu')\n",
    "y_train_pred = torch.argmax(predictions_train, dim=1).numpy()\n",
    "\n",
    "y_test_pred = torch.argmax(predictions_test, dim=1).numpy()\n",
    "print(\"Train accuracy:\",accuracy_score(y_train_pred, np.asarray(y_train, dtype=np.float32)))\n",
    "print(\"Test accuracy:\",accuracy_score(y_test_pred, np.asarray(y_test, dtype=np.float32)))\n",
    "\n",
    "test_results.append((\"Linear Model - Scratch + MSE Loss + Mini Batch\",accuracy_score(y_test_pred, np.asarray(y_test, dtype=np.float32))))\n",
    "train_results.append((\"Linear Model - Scratch + MSE Loss + Mini Batch\",accuracy_score(y_train_pred, np.asarray(y_train, dtype=np.float32))))"
   ]
  },
  {
   "cell_type": "markdown",
   "metadata": {
    "id": "QHPAmI5BmHkv"
   },
   "source": [
    "\n",
    "\n",
    "---\n",
    "\n"
   ]
  },
  {
   "cell_type": "markdown",
   "metadata": {
    "id": "iz8cNUXR5DOu"
   },
   "source": [
    "### Previously, we defined the model, loss, and even the gradient update step. We had to manually set the grad to zero. Now, I am re-implementing the linear model and looking at how we can directly use Pytorch to do all this for us in a few simple steps."
   ]
  },
  {
   "cell_type": "code",
   "execution_count": 20,
   "metadata": {
    "id": "Lwm9t0K0lbvl"
   },
   "outputs": [],
   "source": [
    "# common utility function to print accuracies\n",
    "def print_accuracies_torch(model, X_train_torch, X_test_torch, y_train, y_test):\n",
    "    predictions_train = model(X_train_torch).to('cpu')\n",
    "    predictions_test = model(X_test_torch).to('cpu')\n",
    "    y_train_pred = torch.argmax(predictions_train, dim=1).numpy()\n",
    "    y_test_pred = torch.argmax(predictions_test, dim=1).numpy()\n",
    "    print(\"Train accuracy:\",accuracy_score(y_train_pred, np.asarray(y_train, dtype=np.float32)))\n",
    "    print(\"Test accuracy:\",accuracy_score(y_test_pred, np.asarray(y_test, dtype=np.float32)))\n",
    "  \n",
    "    return accuracy_score(y_train_pred, np.asarray(y_train, dtype=np.float32)),accuracy_score(y_test_pred, np.asarray(y_test, dtype=np.float32))\n"
   ]
  },
  {
   "cell_type": "markdown",
   "metadata": {
    "id": "MSjn0TlT0_X5"
   },
   "source": [
    "### Defining the linear model using PyTorch"
   ]
  },
  {
   "cell_type": "code",
   "execution_count": 21,
   "metadata": {
    "id": "tAVqYskI4ohI"
   },
   "outputs": [],
   "source": [
    "# Defining a model class using torch.nn\n",
    "class Linear_Model(torch.nn.Module):\n",
    "    def __init__(self):\n",
    "        super(Linear_Model, self).__init__()\n",
    "\n",
    "        # 1. initialzing one linear layer: num_features -> num_targets\n",
    "        self.fc1 = torch.nn.Linear(num_features, num_classes)\n",
    "  \n",
    "    def forward(self, X):\n",
    "        # 2. defining the feedforward algorithm of the model and return the final output\n",
    "        output = self.fc1(X)\n",
    "        return output"
   ]
  },
  {
   "cell_type": "markdown",
   "metadata": {
    "id": "9zyx8lVTFq8q"
   },
   "source": [
    "### Implementing a general function for training a PyTorch model. Defining a general training function: `train_torch_model` that takes as input an initialized torch model (`model`), batch size (`batch_size`), initialized loss (`criterion`), max number of epochs (`max_epochs`), training data (`X_train, y_train`), learning rate (`lr`), tolerance for stopping (`tolerance`). This function will return a tuple `(model, losses)`, where `model` is the trained model, and `losses` is a list of tuples of loss logged every $100^{th}$ epoch. "
   ]
  },
  {
   "cell_type": "code",
   "execution_count": 22,
   "metadata": {
    "id": "4T04zQPE53rS"
   },
   "outputs": [],
   "source": [
    "# Defining a function train_torch_model\n",
    "def train_torch_model(model, batch_size, criterion, max_epochs, X_train, y_train, lr, tolerance):\n",
    "    losses = []\n",
    "    prev_loss = float('inf')\n",
    "    number_of_batches = math.ceil(len(X_train)/batch_size)\n",
    "    \n",
    "    # 3. move model to device\n",
    "    model = model.to(device)\n",
    "    \n",
    "    # 4. define optimizer (use torch.optim.SGD (Stochastic Gradient Descent)) \n",
    "    # Set learning rate to lr and also set model parameters \n",
    "    optimizer = torch.optim.SGD(model.parameters(),lr=lr)\n",
    "  \n",
    "    for epoch in tqdm(range(max_epochs)):\n",
    "        for i in range(number_of_batches):\n",
    "            X_train_batch = X_train[i*batch_size: (i+1)*batch_size]\n",
    "            y_train_batch = y_train[i*batch_size: (i+1)*batch_size]\n",
    "      \n",
    "            # 5. reset gradients\n",
    "            optimizer.zero_grad()\n",
    "            # 6. prediction\n",
    "            output=model(X_train_batch)\n",
    "            # 7. calculate loss\n",
    "            loss=criterion(output, y_train_batch)\n",
    "            # 8. backpropagate loss\n",
    "            loss.backward()\n",
    "            # 9. perform a single gradient update step\n",
    "            optimizer.step()\n",
    "    \n",
    "        # log loss every 100th epoch and print every 5000th epoch:\n",
    "        if epoch%100==0:\n",
    "            losses.append((epoch, loss.item()))\n",
    "            if epoch%5000==0:\n",
    "                print('Epoch: {}, Loss: {}'.format(epoch, loss.item()))\n",
    "        \n",
    "        # break if decrease in loss is less than threshold\n",
    "        if abs(prev_loss-loss)<=tolerance:\n",
    "            break\n",
    "        else:\n",
    "            prev_loss=loss  \n",
    "  \n",
    "    # return updated model and logged losses\n",
    "    return model, losses"
   ]
  },
  {
   "cell_type": "markdown",
   "metadata": {
    "id": "Y7RzDMajj8sc"
   },
   "source": [
    "### Initializing the model and loss function. Using `nn.MSELoss`. Use full batch for training (Gradient Descent). Also plotting the graph of loss vs number of epochs."
   ]
  },
  {
   "cell_type": "code",
   "execution_count": 23,
   "metadata": {
    "colab": {
     "base_uri": "https://localhost:8080/",
     "height": 362,
     "referenced_widgets": [
      "19df8835454647748e70f040ad3c8e29",
      "b83d5ce4836046c59bec1f45b2d147b5",
      "42ba0f75b39743379e83e15f56801dc8",
      "996a4cf366f149f2948ac3b8e0836dbd",
      "c964b44ab88b49b5b194c29abae07ffa",
      "753ec34c79de4eb8a5336d72c5a00602",
      "223b9492c6eb4cf78baacb486f2b2511",
      "9d3b0f5e1e8d4ce68b82783107777405",
      "7cbc332e2147466987de59ba8298eacc",
      "a45def2594aa468991fe2ad2d1c496d5",
      "b9ec60ed19044798867df7315cfb3e9a"
     ]
    },
    "id": "LDm0__pE6edF",
    "outputId": "3e24594e-c4c7-4699-b005-4a94d5609995"
   },
   "outputs": [
    {
     "data": {
      "application/vnd.jupyter.widget-view+json": {
       "model_id": "ba7edb4e5afa4d678fd5b3b37f866dd6",
       "version_major": 2,
       "version_minor": 0
      },
      "text/plain": [
       "  0%|          | 0/100000 [00:00<?, ?it/s]"
      ]
     },
     "metadata": {},
     "output_type": "display_data"
    },
    {
     "name": "stdout",
     "output_type": "stream",
     "text": [
      "Epoch: 0, Loss: 0.1907186061143875\n",
      "Epoch: 5000, Loss: 0.04004666209220886\n"
     ]
    },
    {
     "data": {
      "image/png": "[encoded data removed]",
      "text/plain": [
       "<Figure size 432x288 with 1 Axes>"
      ]
     },
     "metadata": {
      "needs_background": "light"
     },
     "output_type": "display_data"
    }
   ],
   "source": [
    "criterion = torch.nn.MSELoss()\n",
    "\n",
    "model = Linear_Model()\n",
    "\n",
    "model, losses = train_torch_model(model, len(X_train_torch), criterion, max_epochs, X_train_torch, y_train_ohe_torch, lr, tolerance)\n",
    "\n",
    "plot_loss(losses)"
   ]
  },
  {
   "cell_type": "code",
   "execution_count": 24,
   "metadata": {
    "colab": {
     "base_uri": "https://localhost:8080/"
    },
    "id": "TIMHwStJ8zzl",
    "outputId": "5fbacffb-0356-400c-a476-aa407f43ab8b"
   },
   "outputs": [
    {
     "name": "stdout",
     "output_type": "stream",
     "text": [
      "Train accuracy: 0.9276270006958942\n",
      "Test accuracy: 0.9194444444444444\n"
     ]
    }
   ],
   "source": [
    "# print accuracies of model\n",
    "train_accuracy,test_accuracy= print_accuracies_torch(model, X_train_torch, X_test_torch, y_train, y_test)\n",
    "\n",
    "train_results.append((\"Linear Model - PyTorch + MSE Loss + Full Batch\",train_accuracy))\n",
    "test_results.append((\"Linear Model - PyTorch + MSE Loss + Full Batch\",test_accuracy))"
   ]
  },
  {
   "cell_type": "markdown",
   "metadata": {
    "id": "eMXOadCpkufn"
   },
   "source": [
    "### Retraining the above model with `batch_size=64` (Stochastic/Mini-batch Gradient Descent) keeping else everything same. Like before, plotting the graph between loss and number of epochs."
   ]
  },
  {
   "cell_type": "code",
   "execution_count": 25,
   "metadata": {
    "colab": {
     "base_uri": "https://localhost:8080/",
     "height": 344,
     "referenced_widgets": [
      "6c9cac04048f4e20a30b224178b99664",
      "e2e875b55f694f12938294c2631388ad",
      "4795ee98461f4973b3131cef1f663dea",
      "b5d90d80be044756bdd03a12f7d3f671",
      "de779ce320d740e6a525e329781cc1d7",
      "7063799e5f134191b27c049ee51351c6",
      "6c2d5db8acff49a1899acc9e06b85450",
      "d3e60bc1b4ac431ea5e04a8c774126f2",
      "dcf75c2ab5ac4c47b211685da5dd58ce",
      "ee7f25c30106451492930d21d77dadbe",
      "9b2d02a7c76148588e3f8458f3f85bd5"
     ]
    },
    "id": "xsj_apLOkt17",
    "outputId": "171d3a81-f281-4e5c-eb4e-82c58aa96eac"
   },
   "outputs": [
    {
     "data": {
      "application/vnd.jupyter.widget-view+json": {
       "model_id": "0236f4c1498d43b68bde4763bdf02a4e",
       "version_major": 2,
       "version_minor": 0
      },
      "text/plain": [
       "  0%|          | 0/100000 [00:00<?, ?it/s]"
      ]
     },
     "metadata": {},
     "output_type": "display_data"
    },
    {
     "name": "stdout",
     "output_type": "stream",
     "text": [
      "Epoch: 0, Loss: 0.14025552570819855\n"
     ]
    },
    {
     "data": {
      "image/png": "[encoded data removed]",
      "text/plain": [
       "<Figure size 432x288 with 1 Axes>"
      ]
     },
     "metadata": {
      "needs_background": "light"
     },
     "output_type": "display_data"
    }
   ],
   "source": [
    "criterion = torch.nn.MSELoss()\n",
    "\n",
    "model = Linear_Model()\n",
    "\n",
    "model, losses = train_torch_model(model, 64, criterion, max_epochs, X_train_torch, y_train_ohe_torch, lr, tolerance)\n",
    "\n",
    "plot_loss(losses)"
   ]
  },
  {
   "cell_type": "code",
   "execution_count": 26,
   "metadata": {
    "colab": {
     "base_uri": "https://localhost:8080/"
    },
    "id": "cJHvwtH6k0F6",
    "outputId": "bdf41e26-2c06-4af1-9b86-b7ab3d481054"
   },
   "outputs": [
    {
     "name": "stdout",
     "output_type": "stream",
     "text": [
      "Train accuracy: 0.9443284620737648\n",
      "Test accuracy: 0.95\n"
     ]
    }
   ],
   "source": [
    "# print accuracies of model\n",
    "train_accuracy,test_accuracy = print_accuracies_torch(model, X_train_torch, X_test_torch, y_train, y_test)\n",
    "\n",
    "train_results.append((\"Linear Model - PyTorch + MSE Loss + Mini Batch\",train_accuracy))\n",
    "test_results.append((\"Linear Model - PyTorch + MSE Loss + Mini Batch\",test_accuracy))"
   ]
  },
  {
   "cell_type": "markdown",
   "metadata": {
    "id": "nYiv8O3emFgn"
   },
   "source": [
    "\n",
    "\n",
    "---\n",
    "\n"
   ]
  },
  {
   "cell_type": "markdown",
   "metadata": {
    "id": "QMXvLv81HPCM"
   },
   "source": [
    "### Now, instead of using MSELoss, we will use a much more natural loss function for logistic regression task which is the Cross Entropy Loss.\n",
    "**Note:**\n",
    "The [Cross Entropy Loss](https://ebookreading.net/view/book/EB9781789130331_73.html) for multiclass calssification is the mean of the negative log likelihood of the output logits after softmax:\\\n",
    "$L = \\underbrace{\\frac{1}{m} \\sum_{i=1}^m \\underbrace{-y^{(i)} \\underbrace{log \\underbrace{\\frac{e^{\\hat{y}^{(i)}}}{\\sum_{j=1}^p e^{\\hat{y}^{(j)}}}}_{\\text{Softmax}}}_{\\text{LogSoftmax}}}_{\\text{Negative Log Likelihood (NLL)}}}_{\\text{Cross Entropy (CE) Loss }}$,\n",
    "\n",
    "\n",
    "where $y^{(i)}$ is the ground truth, and $\\hat{y}^{(k)}$ (also called as *logits*) represent the outputs of the last linear layer of the model. "
   ]
  },
  {
   "cell_type": "markdown",
   "metadata": {
    "id": "WQw1h-A3lCPp"
   },
   "source": [
    "### Instead of `nn.MSELoss`, training the above model with `nn.CrossEntropyLoss`. Using full-batch. Also plotting the graph between loss and number of epochs."
   ]
  },
  {
   "cell_type": "code",
   "execution_count": 27,
   "metadata": {
    "colab": {
     "base_uri": "https://localhost:8080/",
     "height": 535,
     "referenced_widgets": [
      "2b96ea869bc64cb5b8e4fcae52607a42",
      "56615e91271d4209b5fb44984a427eae",
      "c0acf55fe113443f9b3e031c061bc763",
      "a8f1f0f1e6b342dba02a1247600b20fd",
      "bdc547ade5824e5f94cac9a7f3e28cb0",
      "e20d310d0c6842deb750e77f4db83b40",
      "940fcc95acaf465981460eb6dcf3d70a",
      "cd3ad95d318b49c982c65832db9f3f7a",
      "aacffbde33194e99b86fca6316cc5f16",
      "92393356b6bc4cc585ec6e8ccaed983e",
      "70b46b8ec2634dbda77cce34a8cb9444"
     ]
    },
    "id": "VXmF1XD_9Irh",
    "outputId": "cc1e1604-0bf4-4220-8a86-6fe264c28786"
   },
   "outputs": [
    {
     "data": {
      "application/vnd.jupyter.widget-view+json": {
       "model_id": "7d3b58da66434beaa99f5939769ebad6",
       "version_major": 2,
       "version_minor": 0
      },
      "text/plain": [
       "  0%|          | 0/100000 [00:00<?, ?it/s]"
      ]
     },
     "metadata": {},
     "output_type": "display_data"
    },
    {
     "name": "stdout",
     "output_type": "stream",
     "text": [
      "Epoch: 0, Loss: 2.294779062271118\n",
      "Epoch: 5000, Loss: 0.4077390134334564\n",
      "Epoch: 10000, Loss: 0.27372822165489197\n",
      "Epoch: 15000, Loss: 0.22044378519058228\n",
      "Epoch: 20000, Loss: 0.1901913434267044\n",
      "Epoch: 25000, Loss: 0.17004434764385223\n",
      "Epoch: 30000, Loss: 0.15534047782421112\n",
      "Epoch: 35000, Loss: 0.14395450055599213\n",
      "Epoch: 40000, Loss: 0.13476645946502686\n",
      "Epoch: 45000, Loss: 0.12712447345256805\n",
      "Epoch: 50000, Loss: 0.12061998248100281\n",
      "Epoch: 55000, Loss: 0.11498314142227173\n"
     ]
    },
    {
     "data": {
      "image/png": "[encoded data removed]",
      "text/plain": [
       "<Figure size 432x288 with 1 Axes>"
      ]
     },
     "metadata": {
      "needs_background": "light"
     },
     "output_type": "display_data"
    }
   ],
   "source": [
    "criterion = torch.nn.CrossEntropyLoss()\n",
    "\n",
    "model = Linear_Model()\n",
    "\n",
    "model, losses = train_torch_model(model, len(X_train_torch), criterion, max_epochs, X_train_torch, y_train_ohe_torch, lr, tolerance)\n",
    "\n",
    "plot_loss(losses)"
   ]
  },
  {
   "cell_type": "code",
   "execution_count": 28,
   "metadata": {
    "colab": {
     "base_uri": "https://localhost:8080/"
    },
    "id": "gOvC4HdUINQt",
    "outputId": "50385b3f-930f-4b04-8c90-d1e059b488b7"
   },
   "outputs": [
    {
     "name": "stdout",
     "output_type": "stream",
     "text": [
      "Train accuracy: 0.9798190675017397\n",
      "Test accuracy: 0.9638888888888889\n"
     ]
    }
   ],
   "source": [
    "# print accuracies of model\n",
    "train_accuracy,test_accuracy = print_accuracies_torch(model, X_train_torch, X_test_torch, y_train, y_test)\n",
    "\n",
    "train_results.append((\"Linear Model - PyTorch + CE Loss + Full Batch\",train_accuracy))\n",
    "test_results.append((\"Linear Model - PyTorch + CE Loss + Full Batch\",test_accuracy))"
   ]
  },
  {
   "cell_type": "markdown",
   "metadata": {
    "id": "KGQ_G6tHl8XP"
   },
   "source": [
    "### Performing the same task above with `batch_size=64`. Also plotting the graph of loss vs epochs."
   ]
  },
  {
   "cell_type": "code",
   "execution_count": 29,
   "metadata": {
    "colab": {
     "base_uri": "https://localhost:8080/",
     "height": 414,
     "referenced_widgets": [
      "4f50acce3f434504a9475b9ff9796097",
      "39fa481b98204cfbb8e3c43508a5c210",
      "5cf353e0b2444ce882dfc5ea9fd1e7a8",
      "c9757bc67c0e4365b4b26d3162e5bcc8",
      "959da6871fe044e882bd8d3e2fbe8aef",
      "062118cf9dd944fbb6a165bc03e128db",
      "5296e703a22b45e58c88eed9c3892789",
      "2fcfc79835dd4cba910133b8324c0a89",
      "4738cb2921354fae966ade8312a285d5",
      "b33ffade3a7b4367a9ac120ded61e96f",
      "b2b60f248c434ec7bb61097a62e3c71b"
     ]
    },
    "id": "6fNrbHH6IOiz",
    "outputId": "73659bf3-92e7-4675-a0bc-38d3dea37016"
   },
   "outputs": [
    {
     "data": {
      "application/vnd.jupyter.widget-view+json": {
       "model_id": "4b82299dd4cc447197371112490c0f11",
       "version_major": 2,
       "version_minor": 0
      },
      "text/plain": [
       "  0%|          | 0/100000 [00:00<?, ?it/s]"
      ]
     },
     "metadata": {},
     "output_type": "display_data"
    },
    {
     "name": "stdout",
     "output_type": "stream",
     "text": [
      "Epoch: 0, Loss: 2.297011375427246\n",
      "Epoch: 5000, Loss: 0.08772383630275726\n",
      "Epoch: 10000, Loss: 0.06151024252176285\n",
      "Epoch: 15000, Loss: 0.04865499213337898\n",
      "Epoch: 20000, Loss: 0.040736522525548935\n"
     ]
    },
    {
     "data": {
      "image/png": "[encoded data removed]",
      "text/plain": [
       "<Figure size 432x288 with 1 Axes>"
      ]
     },
     "metadata": {
      "needs_background": "light"
     },
     "output_type": "display_data"
    }
   ],
   "source": [
    "criterion = torch.nn.CrossEntropyLoss()\n",
    "\n",
    "model = Linear_Model()\n",
    "\n",
    "model, losses = train_torch_model(model, 64, criterion, max_epochs, X_train_torch, y_train_ohe_torch, lr, tolerance)\n",
    "\n",
    "plot_loss(losses)"
   ]
  },
  {
   "cell_type": "code",
   "execution_count": 30,
   "metadata": {
    "colab": {
     "base_uri": "https://localhost:8080/"
    },
    "id": "0o04L-LNmCkp",
    "outputId": "2def70e4-88a6-4543-8c9d-28e067184e15"
   },
   "outputs": [
    {
     "name": "stdout",
     "output_type": "stream",
     "text": [
      "Train accuracy: 0.9979123173277662\n",
      "Test accuracy: 0.9694444444444444\n"
     ]
    }
   ],
   "source": [
    "# print accuracies of model\n",
    "train_accuracy,test_accuracy = print_accuracies_torch(model, X_train_torch, X_test_torch, y_train, y_test)\n",
    "\n",
    "train_results.append((\"Linear Model - PyTorch + CE Loss + Mini Batch\",train_accuracy))\n",
    "test_results.append((\"Linear Model - PyTorch + CE Loss + Mini Batch\",test_accuracy))"
   ]
  },
  {
   "cell_type": "markdown",
   "metadata": {
    "id": "2HgoKWSV73xk"
   },
   "source": [
    "\n",
    "\n",
    "---\n",
    "\n"
   ]
  },
  {
   "cell_type": "markdown",
   "metadata": {
    "id": "flKPhgoccRcL"
   },
   "source": [
    "### Now, we will train a neural network in pytorch with two hidden layers of sizes 32 and 16 neurons. Using non-linear ReLU activations thus effectively making this a non-linear model. We will use this neural network model for multi-class classification with Cross Entropy Loss.\n",
    "\n",
    "**Note:** The neural network model output can be represented mathematically as below:\\\n",
    "$\\hat{y}^{(i)}_{10\\times1} = W^{(3)}_{10\\times 16}\\sigma(W^{(2)}_{16\\times 32}\\sigma(W^{(1)}_{32\\times 64}\\mathbf{x}^{(i)}_{64\\times1}+\\mathbf{b}^{(1)}_{32\\times1})+\\mathbf{b}^{(2)}_{16\\times1})+\\mathbf{b}^{(3)}_{10\\times1}$, \\\n",
    "where $\\sigma$ represents ReLU activation, $W^{(i)}$ is the weight of the $i^{th}$ linear layer, and $\\mathbf{b}^{(i)}$ is the layer's bias. We use the subscript to denote the dimension for clarity. "
   ]
  },
  {
   "cell_type": "markdown",
   "metadata": {
    "id": "qXYnz6-eI8MG"
   },
   "source": [
    "### Defining the 2-hidden layer neural network model below."
   ]
  },
  {
   "cell_type": "code",
   "execution_count": 31,
   "metadata": {
    "id": "d3PSTz2jcQ0j"
   },
   "outputs": [],
   "source": [
    "# Defining a neural network model class using torch.nn\n",
    "class NN_Model(torch.nn.Module):\n",
    "    def __init__(self):\n",
    "        super(NN_Model, self).__init__()\n",
    "\n",
    "        # 1. initializing three linear layers: num_features -> 32, 32 -> 16, 16 -> num_targets\n",
    "        self.fc1 = torch.nn.Linear(num_features, 32)\n",
    "        self.fc2 = torch.nn.Linear(32, 16)\n",
    "        self.fc3 = torch.nn.Linear(16, num_classes)\n",
    "        # 2. initializing RELU\n",
    "        self.relu = torch.nn.ReLU()\n",
    "  \n",
    "    def forward(self, X):\n",
    "        # 3. defining the feedforward algorithm of the model and return the final output\n",
    "        X = self.relu(self.fc1(X))\n",
    "        X = self.relu(self.fc2(X))\n",
    "        X = self.fc3(X)\n",
    "  \n",
    "        return X"
   ]
  },
  {
   "cell_type": "markdown",
   "metadata": {
    "id": "mERRi4Eamze0"
   },
   "source": [
    "### Training the newly defined Neural Network two hidden layer model with Cross Entropy Loss. Using full-batch and plotting the graph of loss vs number of epochs. "
   ]
  },
  {
   "cell_type": "code",
   "execution_count": 32,
   "metadata": {
    "colab": {
     "base_uri": "https://localhost:8080/",
     "height": 431,
     "referenced_widgets": [
      "06a7700b50e4447cbac9afca82b906a7",
      "e18a9d4802d1401aaf12cb5415e7bc39",
      "aa79e11fa4ed42b38953cf6653d8d243",
      "7115fb217b3448c894c18b741543eaa6",
      "771d09b6fa934c62bae92a19a8e4af8d",
      "cde1afcab4ec4dadbef09351f8d949d8",
      "f30d72bcecc34017aa1ef3722a65e41b",
      "83a52d67ba89422aa5b2b3fbc7833a3a",
      "7edd20c352624ecaa645ce4f617a2e46",
      "8318f8166d2440b98fc2b3173fe88e2a",
      "1f5d2cc272354bf0ac7e22308441171a"
     ]
    },
    "id": "pliWaICdmzEB",
    "outputId": "bc7fd47d-4b10-489b-9933-5ff0e16f4114"
   },
   "outputs": [
    {
     "data": {
      "application/vnd.jupyter.widget-view+json": {
       "model_id": "7cf9c0b9d1354ac682f12065bb61df35",
       "version_major": 2,
       "version_minor": 0
      },
      "text/plain": [
       "  0%|          | 0/100000 [00:00<?, ?it/s]"
      ]
     },
     "metadata": {},
     "output_type": "display_data"
    },
    {
     "name": "stdout",
     "output_type": "stream",
     "text": [
      "Epoch: 0, Loss: 2.316981792449951\n",
      "Epoch: 5000, Loss: 0.21151939034461975\n",
      "Epoch: 10000, Loss: 0.08753477036952972\n",
      "Epoch: 15000, Loss: 0.05098190903663635\n",
      "Epoch: 20000, Loss: 0.032722413539886475\n",
      "Epoch: 25000, Loss: 0.022162584587931633\n"
     ]
    },
    {
     "data": {
      "image/png": "[encoded data removed]",
      "text/plain": [
       "<Figure size 432x288 with 1 Axes>"
      ]
     },
     "metadata": {
      "needs_background": "light"
     },
     "output_type": "display_data"
    }
   ],
   "source": [
    "criterion = torch.nn.CrossEntropyLoss()\n",
    "\n",
    "model = NN_Model()\n",
    "\n",
    "model, losses = train_torch_model(model, len(X_train_torch), criterion, max_epochs, X_train_torch, y_train_ohe_torch, lr, tolerance)\n",
    "\n",
    "plot_loss(losses)"
   ]
  },
  {
   "cell_type": "code",
   "execution_count": 33,
   "metadata": {
    "colab": {
     "base_uri": "https://localhost:8080/"
    },
    "id": "EoRJpn8QnZrX",
    "outputId": "b8279281-185a-4386-e3b9-ffd6e7a3e979"
   },
   "outputs": [
    {
     "name": "stdout",
     "output_type": "stream",
     "text": [
      "Train accuracy: 0.9993041057759221\n",
      "Test accuracy: 0.9611111111111111\n"
     ]
    }
   ],
   "source": [
    "# print accuracies of model\n",
    "train_accuracy,test_accuracy = print_accuracies_torch(model, X_train_torch, X_test_torch, y_train, y_test)\n",
    "\n",
    "train_results.append((\"NN Model - PyTorch + CE Loss + Full Batch\",train_accuracy))\n",
    "test_results.append((\"NN Model - PyTorch + CE Loss + Full Batch\",test_accuracy))"
   ]
  },
  {
   "cell_type": "markdown",
   "metadata": {
    "id": "TP-JX4IznLQL"
   },
   "source": [
    "### Re-training the above model with `batch_size=64`. Also plotting the graph of loss vs epochs."
   ]
  },
  {
   "cell_type": "code",
   "execution_count": 34,
   "metadata": {
    "colab": {
     "base_uri": "https://localhost:8080/",
     "height": 344,
     "referenced_widgets": [
      "7723900d2f0845139c9deb232f8c5d39",
      "32bc49d5b99241d7a7136f23b8a8bf6d",
      "378b880fbeba43f0af37f3ba849f9ee7",
      "6575817fdeb042aaa2583971e77fce85",
      "5431c2cd08e54783b217a8f84e6e5b93",
      "ee62315e92184798aa88972bbf7f4eaa",
      "1741a291eb9e4c39a954bee8d0c528e5",
      "f4a106df06ac45dfbb3dc6b1855aab91",
      "fbadbad09bc64d509279facbfaef0ae5",
      "c7bb54603f1944e4a84ecca94662bc94",
      "f94c699df8b24fa39c4e1034838e0d58"
     ]
    },
    "id": "Sx8e5dvJnK1n",
    "outputId": "a4811f01-0c64-4a3e-d582-fa643e5d92ad"
   },
   "outputs": [
    {
     "data": {
      "application/vnd.jupyter.widget-view+json": {
       "model_id": "203a727e63444ed2ab5edd740314dfea",
       "version_major": 2,
       "version_minor": 0
      },
      "text/plain": [
       "  0%|          | 0/100000 [00:00<?, ?it/s]"
      ]
     },
     "metadata": {},
     "output_type": "display_data"
    },
    {
     "name": "stdout",
     "output_type": "stream",
     "text": [
      "Epoch: 0, Loss: 2.2438511848449707\n"
     ]
    },
    {
     "data": {
      "image/png": "[encoded data removed]",
      "text/plain": [
       "<Figure size 432x288 with 1 Axes>"
      ]
     },
     "metadata": {
      "needs_background": "light"
     },
     "output_type": "display_data"
    }
   ],
   "source": [
    "criterion = torch.nn.CrossEntropyLoss()\n",
    "\n",
    "model = NN_Model()\n",
    "\n",
    "model, losses = train_torch_model(model, 64, criterion, max_epochs, X_train_torch, y_train_ohe_torch, lr, tolerance)\n",
    "\n",
    "plot_loss(losses)"
   ]
  },
  {
   "cell_type": "code",
   "execution_count": 35,
   "metadata": {
    "colab": {
     "base_uri": "https://localhost:8080/"
    },
    "id": "mr7M3xyknaLp",
    "outputId": "e92307d7-b216-4166-8ba0-b68c77f13c2e"
   },
   "outputs": [
    {
     "name": "stdout",
     "output_type": "stream",
     "text": [
      "Train accuracy: 0.9972164231036882\n",
      "Test accuracy: 0.9527777777777777\n"
     ]
    }
   ],
   "source": [
    "# print accuracies of model\n",
    "train_accuracy,test_accuracy = print_accuracies_torch(model, X_train_torch, X_test_torch, y_train, y_test)\n",
    "\n",
    "train_results.append((\"NN Model - PyTorch + CE Loss + Mini Batch\",train_accuracy))\n",
    "test_results.append((\"NN Model - PyTorch + CE Loss + Mini Batch\",test_accuracy))"
   ]
  },
  {
   "cell_type": "markdown",
   "metadata": {
    "id": "szUeNm2kotqY"
   },
   "source": [
    "\n",
    "\n",
    "---\n",
    "\n"
   ]
  },
  {
   "cell_type": "markdown",
   "metadata": {
    "id": "RJ1HXvh_ovQ_"
   },
   "source": [
    "### Plotting a graph of accuracy vs. model for both train and test sets for all the experiments performed above."
   ]
  },
  {
   "cell_type": "code",
   "execution_count": 36,
   "metadata": {
    "colab": {
     "base_uri": "https://localhost:8080/",
     "height": 525
    },
    "id": "0fP6cHcrA0cQ",
    "outputId": "99b86f96-b537-4a12-f420-8b54f08367c2"
   },
   "outputs": [
    {
     "data": {
      "image/png": "[encoded data removed]",
      "text/plain": [
       "<Figure size 432x288 with 1 Axes>"
      ]
     },
     "metadata": {
      "needs_background": "light"
     },
     "output_type": "display_data"
    }
   ],
   "source": [
    "plt.bar(*zip(*train_results))\n",
    "plt.ylim([0.9,1])\n",
    "plt.title('Train Accuracies')\n",
    "plt.ylabel('Accuracy')\n",
    "plt.xlabel('Model')\n",
    "plt.xticks(rotation = 90)\n",
    "plt.show()"
   ]
  },
  {
   "cell_type": "code",
   "execution_count": 37,
   "metadata": {
    "colab": {
     "base_uri": "https://localhost:8080/",
     "height": 525
    },
    "id": "SkkWZe_STJdH",
    "outputId": "c3fafb37-230c-4476-b6f9-7673c7923d20"
   },
   "outputs": [
    {
     "data": {
      "image/png": "[encoded data removed]",
      "text/plain": [
       "<Figure size 432x288 with 1 Axes>"
      ]
     },
     "metadata": {
      "needs_background": "light"
     },
     "output_type": "display_data"
    }
   ],
   "source": [
    "plt.bar(*zip(*test_results))\n",
    "plt.ylim([0.9,1])\n",
    "plt.title('Test Accuracies')\n",
    "plt.ylabel('Accuracy')\n",
    "plt.xlabel('Model')\n",
    "plt.xticks(rotation = 90)\n",
    "plt.show()"
   ]
  },
  {
   "cell_type": "markdown",
   "metadata": {},
   "source": [
    "### Analysis\n",
    "#### Effect of using full vs. batch gradient descent.\n",
    "1. Batch gradient descent converges faster than full gradient descent.\n",
    "2. Batch gradient descent gives an approximate but not the optimal solution, full gradient descent always gives the optimal solution.\n",
    "\n",
    "#### Effect of different loss strategy on performance.\n",
    "1. MSE converged faster than Cross Entropy.\n",
    "2. But the accuracy of Cross Entropy was much better than the MSE.\n",
    "\n",
    "#### Effect of using linear vs. non-linear models.\n",
    "1. Linear Model performed better than Non-linear for Mini Batch\n",
    "2. But for Full Batch, Non-linear performed better than Linear Model.\n",
    "\n",
    "#### Training time per epoch in different cases.\n",
    "1. Non Linear model for both Full and Mini batch took the least time per epoch.\n",
    "2. Linear with Cross Entropy, full batch was faster than mini batch.\n",
    "3. Linear with MSE, full batch was faster than mini batch. And both were faster in comprison to Linear with Cross Entropy.\n",
    "4. Scratch Linear Model with MSE, full batch was faster than mini batch. Overall, in comparison to Linear Models, this was the fastest."
   ]
  },
  {
   "cell_type": "markdown",
   "metadata": {
    "id": "obE47rGOvMo-"
   },
   "source": [
    "---"
   ]
  }
 ],
 "metadata": {
  "colab": {
   "provenance": []
  },
  "kernelspec": {
   "display_name": "Python 3 (ipykernel)",
   "language": "python",
   "name": "python3"
  },
  "language_info": {
   "codemirror_mode": {
    "name": "ipython",
    "version": 3
   },
   "file_extension": ".py",
   "mimetype": "text/x-python",
   "name": "python",
   "nbconvert_exporter": "python",
   "pygments_lexer": "ipython3",
   "version": "3.9.12"
  },
  "widgets": {
   "application/vnd.jupyter.widget-state+json": {
    "0505cf071a0a4ce584afce4f917dbff5": {
     "model_module": "@jupyter-widgets/controls",
     "model_module_version": "1.5.0",
     "model_name": "HTMLModel",
     "state": {
      "_dom_classes": [],
      "_model_module": "@jupyter-widgets/controls",
      "_model_module_version": "1.5.0",
      "_model_name": "HTMLModel",
      "_view_count": null,
      "_view_module": "@jupyter-widgets/controls",
      "_view_module_version": "1.5.0",
      "_view_name": "HTMLView",
      "description": "",
      "description_tooltip": null,
      "layout": "IPY_MODEL_57415270a36740f6b17027f47ae833a8",
      "placeholder": "​",
      "style": "IPY_MODEL_c1dc43293e62430da8f8b8a9935d26d7",
      "value": " 2862/100000 [00:31&lt;23:31, 68.81it/s]"
     }
    },
    "062118cf9dd944fbb6a165bc03e128db": {
     "model_module": "@jupyter-widgets/base",
     "model_module_version": "1.2.0",
     "model_name": "LayoutModel",
     "state": {
      "_model_module": "@jupyter-widgets/base",
      "_model_module_version": "1.2.0",
      "_model_name": "LayoutModel",
      "_view_count": null,
      "_view_module": "@jupyter-widgets/base",
      "_view_module_version": "1.2.0",
      "_view_name": "LayoutView",
      "align_content": null,
      "align_items": null,
      "align_self": null,
      "border": null,
      "bottom": null,
      "display": null,
      "flex": null,
      "flex_flow": null,
      "grid_area": null,
      "grid_auto_columns": null,
      "grid_auto_flow": null,
      "grid_auto_rows": null,
      "grid_column": null,
      "grid_gap": null,
      "grid_row": null,
      "grid_template_areas": null,
      "grid_template_columns": null,
      "grid_template_rows": null,
      "height": null,
      "justify_content": null,
      "justify_items": null,
      "left": null,
      "margin": null,
      "max_height": null,
      "max_width": null,
      "min_height": null,
      "min_width": null,
      "object_fit": null,
      "object_position": null,
      "order": null,
      "overflow": null,
      "overflow_x": null,
      "overflow_y": null,
      "padding": null,
      "right": null,
      "top": null,
      "visibility": null,
      "width": null
     }
    },
    "06a7700b50e4447cbac9afca82b906a7": {
     "model_module": "@jupyter-widgets/controls",
     "model_module_version": "1.5.0",
     "model_name": "HBoxModel",
     "state": {
      "_dom_classes": [],
      "_model_module": "@jupyter-widgets/controls",
      "_model_module_version": "1.5.0",
      "_model_name": "HBoxModel",
      "_view_count": null,
      "_view_module": "@jupyter-widgets/controls",
      "_view_module_version": "1.5.0",
      "_view_name": "HBoxView",
      "box_style": "",
      "children": [
       "IPY_MODEL_e18a9d4802d1401aaf12cb5415e7bc39",
       "IPY_MODEL_aa79e11fa4ed42b38953cf6653d8d243",
       "IPY_MODEL_7115fb217b3448c894c18b741543eaa6"
      ],
      "layout": "IPY_MODEL_771d09b6fa934c62bae92a19a8e4af8d"
     }
    },
    "1741a291eb9e4c39a954bee8d0c528e5": {
     "model_module": "@jupyter-widgets/controls",
     "model_module_version": "1.5.0",
     "model_name": "DescriptionStyleModel",
     "state": {
      "_model_module": "@jupyter-widgets/controls",
      "_model_module_version": "1.5.0",
      "_model_name": "DescriptionStyleModel",
      "_view_count": null,
      "_view_module": "@jupyter-widgets/base",
      "_view_module_version": "1.2.0",
      "_view_name": "StyleView",
      "description_width": ""
     }
    },
    "19df8835454647748e70f040ad3c8e29": {
     "model_module": "@jupyter-widgets/controls",
     "model_module_version": "1.5.0",
     "model_name": "HBoxModel",
     "state": {
      "_dom_classes": [],
      "_model_module": "@jupyter-widgets/controls",
      "_model_module_version": "1.5.0",
      "_model_name": "HBoxModel",
      "_view_count": null,
      "_view_module": "@jupyter-widgets/controls",
      "_view_module_version": "1.5.0",
      "_view_name": "HBoxView",
      "box_style": "",
      "children": [
       "IPY_MODEL_b83d5ce4836046c59bec1f45b2d147b5",
       "IPY_MODEL_42ba0f75b39743379e83e15f56801dc8",
       "IPY_MODEL_996a4cf366f149f2948ac3b8e0836dbd"
      ],
      "layout": "IPY_MODEL_c964b44ab88b49b5b194c29abae07ffa"
     }
    },
    "1f5d2cc272354bf0ac7e22308441171a": {
     "model_module": "@jupyter-widgets/controls",
     "model_module_version": "1.5.0",
     "model_name": "DescriptionStyleModel",
     "state": {
      "_model_module": "@jupyter-widgets/controls",
      "_model_module_version": "1.5.0",
      "_model_name": "DescriptionStyleModel",
      "_view_count": null,
      "_view_module": "@jupyter-widgets/base",
      "_view_module_version": "1.2.0",
      "_view_name": "StyleView",
      "description_width": ""
     }
    },
    "223b9492c6eb4cf78baacb486f2b2511": {
     "model_module": "@jupyter-widgets/controls",
     "model_module_version": "1.5.0",
     "model_name": "DescriptionStyleModel",
     "state": {
      "_model_module": "@jupyter-widgets/controls",
      "_model_module_version": "1.5.0",
      "_model_name": "DescriptionStyleModel",
      "_view_count": null,
      "_view_module": "@jupyter-widgets/base",
      "_view_module_version": "1.2.0",
      "_view_name": "StyleView",
      "description_width": ""
     }
    },
    "2b96ea869bc64cb5b8e4fcae52607a42": {
     "model_module": "@jupyter-widgets/controls",
     "model_module_version": "1.5.0",
     "model_name": "HBoxModel",
     "state": {
      "_dom_classes": [],
      "_model_module": "@jupyter-widgets/controls",
      "_model_module_version": "1.5.0",
      "_model_name": "HBoxModel",
      "_view_count": null,
      "_view_module": "@jupyter-widgets/controls",
      "_view_module_version": "1.5.0",
      "_view_name": "HBoxView",
      "box_style": "",
      "children": [
       "IPY_MODEL_56615e91271d4209b5fb44984a427eae",
       "IPY_MODEL_c0acf55fe113443f9b3e031c061bc763",
       "IPY_MODEL_a8f1f0f1e6b342dba02a1247600b20fd"
      ],
      "layout": "IPY_MODEL_bdc547ade5824e5f94cac9a7f3e28cb0"
     }
    },
    "2c8bb7aa515949339d553c99225cd6c0": {
     "model_module": "@jupyter-widgets/base",
     "model_module_version": "1.2.0",
     "model_name": "LayoutModel",
     "state": {
      "_model_module": "@jupyter-widgets/base",
      "_model_module_version": "1.2.0",
      "_model_name": "LayoutModel",
      "_view_count": null,
      "_view_module": "@jupyter-widgets/base",
      "_view_module_version": "1.2.0",
      "_view_name": "LayoutView",
      "align_content": null,
      "align_items": null,
      "align_self": null,
      "border": null,
      "bottom": null,
      "display": null,
      "flex": null,
      "flex_flow": null,
      "grid_area": null,
      "grid_auto_columns": null,
      "grid_auto_flow": null,
      "grid_auto_rows": null,
      "grid_column": null,
      "grid_gap": null,
      "grid_row": null,
      "grid_template_areas": null,
      "grid_template_columns": null,
      "grid_template_rows": null,
      "height": null,
      "justify_content": null,
      "justify_items": null,
      "left": null,
      "margin": null,
      "max_height": null,
      "max_width": null,
      "min_height": null,
      "min_width": null,
      "object_fit": null,
      "object_position": null,
      "order": null,
      "overflow": null,
      "overflow_x": null,
      "overflow_y": null,
      "padding": null,
      "right": null,
      "top": null,
      "visibility": null,
      "width": null
     }
    },
    "2fcfc79835dd4cba910133b8324c0a89": {
     "model_module": "@jupyter-widgets/base",
     "model_module_version": "1.2.0",
     "model_name": "LayoutModel",
     "state": {
      "_model_module": "@jupyter-widgets/base",
      "_model_module_version": "1.2.0",
      "_model_name": "LayoutModel",
      "_view_count": null,
      "_view_module": "@jupyter-widgets/base",
      "_view_module_version": "1.2.0",
      "_view_name": "LayoutView",
      "align_content": null,
      "align_items": null,
      "align_self": null,
      "border": null,
      "bottom": null,
      "display": null,
      "flex": null,
      "flex_flow": null,
      "grid_area": null,
      "grid_auto_columns": null,
      "grid_auto_flow": null,
      "grid_auto_rows": null,
      "grid_column": null,
      "grid_gap": null,
      "grid_row": null,
      "grid_template_areas": null,
      "grid_template_columns": null,
      "grid_template_rows": null,
      "height": null,
      "justify_content": null,
      "justify_items": null,
      "left": null,
      "margin": null,
      "max_height": null,
      "max_width": null,
      "min_height": null,
      "min_width": null,
      "object_fit": null,
      "object_position": null,
      "order": null,
      "overflow": null,
      "overflow_x": null,
      "overflow_y": null,
      "padding": null,
      "right": null,
      "top": null,
      "visibility": null,
      "width": null
     }
    },
    "32bc49d5b99241d7a7136f23b8a8bf6d": {
     "model_module": "@jupyter-widgets/controls",
     "model_module_version": "1.5.0",
     "model_name": "HTMLModel",
     "state": {
      "_dom_classes": [],
      "_model_module": "@jupyter-widgets/controls",
      "_model_module_version": "1.5.0",
      "_model_name": "HTMLModel",
      "_view_count": null,
      "_view_module": "@jupyter-widgets/controls",
      "_view_module_version": "1.5.0",
      "_view_name": "HTMLView",
      "description": "",
      "description_tooltip": null,
      "layout": "IPY_MODEL_ee62315e92184798aa88972bbf7f4eaa",
      "placeholder": "​",
      "style": "IPY_MODEL_1741a291eb9e4c39a954bee8d0c528e5",
      "value": "  1%"
     }
    },
    "33bbd3485d7746afa061a8e5adab0cd5": {
     "model_module": "@jupyter-widgets/controls",
     "model_module_version": "1.5.0",
     "model_name": "HTMLModel",
     "state": {
      "_dom_classes": [],
      "_model_module": "@jupyter-widgets/controls",
      "_model_module_version": "1.5.0",
      "_model_name": "HTMLModel",
      "_view_count": null,
      "_view_module": "@jupyter-widgets/controls",
      "_view_module_version": "1.5.0",
      "_view_name": "HTMLView",
      "description": "",
      "description_tooltip": null,
      "layout": "IPY_MODEL_e23a1000bb33436ead3f2f5aa43f8712",
      "placeholder": "​",
      "style": "IPY_MODEL_bad0fe9e465446618da9714ca5595e86",
      "value": " 23%"
     }
    },
    "378b880fbeba43f0af37f3ba849f9ee7": {
     "model_module": "@jupyter-widgets/controls",
     "model_module_version": "1.5.0",
     "model_name": "FloatProgressModel",
     "state": {
      "_dom_classes": [],
      "_model_module": "@jupyter-widgets/controls",
      "_model_module_version": "1.5.0",
      "_model_name": "FloatProgressModel",
      "_view_count": null,
      "_view_module": "@jupyter-widgets/controls",
      "_view_module_version": "1.5.0",
      "_view_name": "ProgressView",
      "bar_style": "danger",
      "description": "",
      "description_tooltip": null,
      "layout": "IPY_MODEL_f4a106df06ac45dfbb3dc6b1855aab91",
      "max": 100000,
      "min": 0,
      "orientation": "horizontal",
      "style": "IPY_MODEL_fbadbad09bc64d509279facbfaef0ae5",
      "value": 929
     }
    },
    "39a7a9c783414373b5a34d4fafc770fd": {
     "model_module": "@jupyter-widgets/base",
     "model_module_version": "1.2.0",
     "model_name": "LayoutModel",
     "state": {
      "_model_module": "@jupyter-widgets/base",
      "_model_module_version": "1.2.0",
      "_model_name": "LayoutModel",
      "_view_count": null,
      "_view_module": "@jupyter-widgets/base",
      "_view_module_version": "1.2.0",
      "_view_name": "LayoutView",
      "align_content": null,
      "align_items": null,
      "align_self": null,
      "border": null,
      "bottom": null,
      "display": null,
      "flex": null,
      "flex_flow": null,
      "grid_area": null,
      "grid_auto_columns": null,
      "grid_auto_flow": null,
      "grid_auto_rows": null,
      "grid_column": null,
      "grid_gap": null,
      "grid_row": null,
      "grid_template_areas": null,
      "grid_template_columns": null,
      "grid_template_rows": null,
      "height": null,
      "justify_content": null,
      "justify_items": null,
      "left": null,
      "margin": null,
      "max_height": null,
      "max_width": null,
      "min_height": null,
      "min_width": null,
      "object_fit": null,
      "object_position": null,
      "order": null,
      "overflow": null,
      "overflow_x": null,
      "overflow_y": null,
      "padding": null,
      "right": null,
      "top": null,
      "visibility": null,
      "width": null
     }
    },
    "39fa481b98204cfbb8e3c43508a5c210": {
     "model_module": "@jupyter-widgets/controls",
     "model_module_version": "1.5.0",
     "model_name": "HTMLModel",
     "state": {
      "_dom_classes": [],
      "_model_module": "@jupyter-widgets/controls",
      "_model_module_version": "1.5.0",
      "_model_name": "HTMLModel",
      "_view_count": null,
      "_view_module": "@jupyter-widgets/controls",
      "_view_module_version": "1.5.0",
      "_view_name": "HTMLView",
      "description": "",
      "description_tooltip": null,
      "layout": "IPY_MODEL_062118cf9dd944fbb6a165bc03e128db",
      "placeholder": "​",
      "style": "IPY_MODEL_5296e703a22b45e58c88eed9c3892789",
      "value": " 23%"
     }
    },
    "42ba0f75b39743379e83e15f56801dc8": {
     "model_module": "@jupyter-widgets/controls",
     "model_module_version": "1.5.0",
     "model_name": "FloatProgressModel",
     "state": {
      "_dom_classes": [],
      "_model_module": "@jupyter-widgets/controls",
      "_model_module_version": "1.5.0",
      "_model_name": "FloatProgressModel",
      "_view_count": null,
      "_view_module": "@jupyter-widgets/controls",
      "_view_module_version": "1.5.0",
      "_view_name": "ProgressView",
      "bar_style": "danger",
      "description": "",
      "description_tooltip": null,
      "layout": "IPY_MODEL_9d3b0f5e1e8d4ce68b82783107777405",
      "max": 100000,
      "min": 0,
      "orientation": "horizontal",
      "style": "IPY_MODEL_7cbc332e2147466987de59ba8298eacc",
      "value": 6107
     }
    },
    "4738cb2921354fae966ade8312a285d5": {
     "model_module": "@jupyter-widgets/controls",
     "model_module_version": "1.5.0",
     "model_name": "ProgressStyleModel",
     "state": {
      "_model_module": "@jupyter-widgets/controls",
      "_model_module_version": "1.5.0",
      "_model_name": "ProgressStyleModel",
      "_view_count": null,
      "_view_module": "@jupyter-widgets/base",
      "_view_module_version": "1.2.0",
      "_view_name": "StyleView",
      "bar_color": null,
      "description_width": ""
     }
    },
    "4795ee98461f4973b3131cef1f663dea": {
     "model_module": "@jupyter-widgets/controls",
     "model_module_version": "1.5.0",
     "model_name": "FloatProgressModel",
     "state": {
      "_dom_classes": [],
      "_model_module": "@jupyter-widgets/controls",
      "_model_module_version": "1.5.0",
      "_model_name": "FloatProgressModel",
      "_view_count": null,
      "_view_module": "@jupyter-widgets/controls",
      "_view_module_version": "1.5.0",
      "_view_name": "ProgressView",
      "bar_style": "danger",
      "description": "",
      "description_tooltip": null,
      "layout": "IPY_MODEL_d3e60bc1b4ac431ea5e04a8c774126f2",
      "max": 100000,
      "min": 0,
      "orientation": "horizontal",
      "style": "IPY_MODEL_dcf75c2ab5ac4c47b211685da5dd58ce",
      "value": 1496
     }
    },
    "4866dc634c7e4acf97f6e30806091bae": {
     "model_module": "@jupyter-widgets/controls",
     "model_module_version": "1.5.0",
     "model_name": "HBoxModel",
     "state": {
      "_dom_classes": [],
      "_model_module": "@jupyter-widgets/controls",
      "_model_module_version": "1.5.0",
      "_model_name": "HBoxModel",
      "_view_count": null,
      "_view_module": "@jupyter-widgets/controls",
      "_view_module_version": "1.5.0",
      "_view_name": "HBoxView",
      "box_style": "",
      "children": [
       "IPY_MODEL_81506cd976134eb78a287b8184999adc",
       "IPY_MODEL_85fde5b036c3454c8ff9defdd389b3ca",
       "IPY_MODEL_0505cf071a0a4ce584afce4f917dbff5"
      ],
      "layout": "IPY_MODEL_f9a17d7d8f0f4d9dadebdeda054b2fac"
     }
    },
    "4f50acce3f434504a9475b9ff9796097": {
     "model_module": "@jupyter-widgets/controls",
     "model_module_version": "1.5.0",
     "model_name": "HBoxModel",
     "state": {
      "_dom_classes": [],
      "_model_module": "@jupyter-widgets/controls",
      "_model_module_version": "1.5.0",
      "_model_name": "HBoxModel",
      "_view_count": null,
      "_view_module": "@jupyter-widgets/controls",
      "_view_module_version": "1.5.0",
      "_view_name": "HBoxView",
      "box_style": "",
      "children": [
       "IPY_MODEL_39fa481b98204cfbb8e3c43508a5c210",
       "IPY_MODEL_5cf353e0b2444ce882dfc5ea9fd1e7a8",
       "IPY_MODEL_c9757bc67c0e4365b4b26d3162e5bcc8"
      ],
      "layout": "IPY_MODEL_959da6871fe044e882bd8d3e2fbe8aef"
     }
    },
    "5296e703a22b45e58c88eed9c3892789": {
     "model_module": "@jupyter-widgets/controls",
     "model_module_version": "1.5.0",
     "model_name": "DescriptionStyleModel",
     "state": {
      "_model_module": "@jupyter-widgets/controls",
      "_model_module_version": "1.5.0",
      "_model_name": "DescriptionStyleModel",
      "_view_count": null,
      "_view_module": "@jupyter-widgets/base",
      "_view_module_version": "1.2.0",
      "_view_name": "StyleView",
      "description_width": ""
     }
    },
    "5431c2cd08e54783b217a8f84e6e5b93": {
     "model_module": "@jupyter-widgets/base",
     "model_module_version": "1.2.0",
     "model_name": "LayoutModel",
     "state": {
      "_model_module": "@jupyter-widgets/base",
      "_model_module_version": "1.2.0",
      "_model_name": "LayoutModel",
      "_view_count": null,
      "_view_module": "@jupyter-widgets/base",
      "_view_module_version": "1.2.0",
      "_view_name": "LayoutView",
      "align_content": null,
      "align_items": null,
      "align_self": null,
      "border": null,
      "bottom": null,
      "display": null,
      "flex": null,
      "flex_flow": null,
      "grid_area": null,
      "grid_auto_columns": null,
      "grid_auto_flow": null,
      "grid_auto_rows": null,
      "grid_column": null,
      "grid_gap": null,
      "grid_row": null,
      "grid_template_areas": null,
      "grid_template_columns": null,
      "grid_template_rows": null,
      "height": null,
      "justify_content": null,
      "justify_items": null,
      "left": null,
      "margin": null,
      "max_height": null,
      "max_width": null,
      "min_height": null,
      "min_width": null,
      "object_fit": null,
      "object_position": null,
      "order": null,
      "overflow": null,
      "overflow_x": null,
      "overflow_y": null,
      "padding": null,
      "right": null,
      "top": null,
      "visibility": null,
      "width": null
     }
    },
    "54faa771c6ef43bcbc88de41070f4271": {
     "model_module": "@jupyter-widgets/base",
     "model_module_version": "1.2.0",
     "model_name": "LayoutModel",
     "state": {
      "_model_module": "@jupyter-widgets/base",
      "_model_module_version": "1.2.0",
      "_model_name": "LayoutModel",
      "_view_count": null,
      "_view_module": "@jupyter-widgets/base",
      "_view_module_version": "1.2.0",
      "_view_name": "LayoutView",
      "align_content": null,
      "align_items": null,
      "align_self": null,
      "border": null,
      "bottom": null,
      "display": null,
      "flex": null,
      "flex_flow": null,
      "grid_area": null,
      "grid_auto_columns": null,
      "grid_auto_flow": null,
      "grid_auto_rows": null,
      "grid_column": null,
      "grid_gap": null,
      "grid_row": null,
      "grid_template_areas": null,
      "grid_template_columns": null,
      "grid_template_rows": null,
      "height": null,
      "justify_content": null,
      "justify_items": null,
      "left": null,
      "margin": null,
      "max_height": null,
      "max_width": null,
      "min_height": null,
      "min_width": null,
      "object_fit": null,
      "object_position": null,
      "order": null,
      "overflow": null,
      "overflow_x": null,
      "overflow_y": null,
      "padding": null,
      "right": null,
      "top": null,
      "visibility": null,
      "width": null
     }
    },
    "56615e91271d4209b5fb44984a427eae": {
     "model_module": "@jupyter-widgets/controls",
     "model_module_version": "1.5.0",
     "model_name": "HTMLModel",
     "state": {
      "_dom_classes": [],
      "_model_module": "@jupyter-widgets/controls",
      "_model_module_version": "1.5.0",
      "_model_name": "HTMLModel",
      "_view_count": null,
      "_view_module": "@jupyter-widgets/controls",
      "_view_module_version": "1.5.0",
      "_view_name": "HTMLView",
      "description": "",
      "description_tooltip": null,
      "layout": "IPY_MODEL_e20d310d0c6842deb750e77f4db83b40",
      "placeholder": "​",
      "style": "IPY_MODEL_940fcc95acaf465981460eb6dcf3d70a",
      "value": " 56%"
     }
    },
    "57415270a36740f6b17027f47ae833a8": {
     "model_module": "@jupyter-widgets/base",
     "model_module_version": "1.2.0",
     "model_name": "LayoutModel",
     "state": {
      "_model_module": "@jupyter-widgets/base",
      "_model_module_version": "1.2.0",
      "_model_name": "LayoutModel",
      "_view_count": null,
      "_view_module": "@jupyter-widgets/base",
      "_view_module_version": "1.2.0",
      "_view_name": "LayoutView",
      "align_content": null,
      "align_items": null,
      "align_self": null,
      "border": null,
      "bottom": null,
      "display": null,
      "flex": null,
      "flex_flow": null,
      "grid_area": null,
      "grid_auto_columns": null,
      "grid_auto_flow": null,
      "grid_auto_rows": null,
      "grid_column": null,
      "grid_gap": null,
      "grid_row": null,
      "grid_template_areas": null,
      "grid_template_columns": null,
      "grid_template_rows": null,
      "height": null,
      "justify_content": null,
      "justify_items": null,
      "left": null,
      "margin": null,
      "max_height": null,
      "max_width": null,
      "min_height": null,
      "min_width": null,
      "object_fit": null,
      "object_position": null,
      "order": null,
      "overflow": null,
      "overflow_x": null,
      "overflow_y": null,
      "padding": null,
      "right": null,
      "top": null,
      "visibility": null,
      "width": null
     }
    },
    "5cf353e0b2444ce882dfc5ea9fd1e7a8": {
     "model_module": "@jupyter-widgets/controls",
     "model_module_version": "1.5.0",
     "model_name": "FloatProgressModel",
     "state": {
      "_dom_classes": [],
      "_model_module": "@jupyter-widgets/controls",
      "_model_module_version": "1.5.0",
      "_model_name": "FloatProgressModel",
      "_view_count": null,
      "_view_module": "@jupyter-widgets/controls",
      "_view_module_version": "1.5.0",
      "_view_name": "ProgressView",
      "bar_style": "danger",
      "description": "",
      "description_tooltip": null,
      "layout": "IPY_MODEL_2fcfc79835dd4cba910133b8324c0a89",
      "max": 100000,
      "min": 0,
      "orientation": "horizontal",
      "style": "IPY_MODEL_4738cb2921354fae966ade8312a285d5",
      "value": 22802
     }
    },
    "602824b3202245b59d1db53f224aac13": {
     "model_module": "@jupyter-widgets/controls",
     "model_module_version": "1.5.0",
     "model_name": "HBoxModel",
     "state": {
      "_dom_classes": [],
      "_model_module": "@jupyter-widgets/controls",
      "_model_module_version": "1.5.0",
      "_model_name": "HBoxModel",
      "_view_count": null,
      "_view_module": "@jupyter-widgets/controls",
      "_view_module_version": "1.5.0",
      "_view_name": "HBoxView",
      "box_style": "",
      "children": [
       "IPY_MODEL_33bbd3485d7746afa061a8e5adab0cd5",
       "IPY_MODEL_696c49b76ddf44c19f89b409a0754b25",
       "IPY_MODEL_9ff802eb7499487a8b9f63f370d1b0cf"
      ],
      "layout": "IPY_MODEL_54faa771c6ef43bcbc88de41070f4271"
     }
    },
    "6575817fdeb042aaa2583971e77fce85": {
     "model_module": "@jupyter-widgets/controls",
     "model_module_version": "1.5.0",
     "model_name": "HTMLModel",
     "state": {
      "_dom_classes": [],
      "_model_module": "@jupyter-widgets/controls",
      "_model_module_version": "1.5.0",
      "_model_name": "HTMLModel",
      "_view_count": null,
      "_view_module": "@jupyter-widgets/controls",
      "_view_module_version": "1.5.0",
      "_view_name": "HTMLView",
      "description": "",
      "description_tooltip": null,
      "layout": "IPY_MODEL_c7bb54603f1944e4a84ecca94662bc94",
      "placeholder": "​",
      "style": "IPY_MODEL_f94c699df8b24fa39c4e1034838e0d58",
      "value": " 929/100000 [00:16&lt;28:56, 57.07it/s]"
     }
    },
    "696c49b76ddf44c19f89b409a0754b25": {
     "model_module": "@jupyter-widgets/controls",
     "model_module_version": "1.5.0",
     "model_name": "FloatProgressModel",
     "state": {
      "_dom_classes": [],
      "_model_module": "@jupyter-widgets/controls",
      "_model_module_version": "1.5.0",
      "_model_name": "FloatProgressModel",
      "_view_count": null,
      "_view_module": "@jupyter-widgets/controls",
      "_view_module_version": "1.5.0",
      "_view_name": "ProgressView",
      "bar_style": "danger",
      "description": "",
      "description_tooltip": null,
      "layout": "IPY_MODEL_39a7a9c783414373b5a34d4fafc770fd",
      "max": 100000,
      "min": 0,
      "orientation": "horizontal",
      "style": "IPY_MODEL_73529cf1246b4173bdabb4ed5dfc8971",
      "value": 23256
     }
    },
    "6c2d5db8acff49a1899acc9e06b85450": {
     "model_module": "@jupyter-widgets/controls",
     "model_module_version": "1.5.0",
     "model_name": "DescriptionStyleModel",
     "state": {
      "_model_module": "@jupyter-widgets/controls",
      "_model_module_version": "1.5.0",
      "_model_name": "DescriptionStyleModel",
      "_view_count": null,
      "_view_module": "@jupyter-widgets/base",
      "_view_module_version": "1.2.0",
      "_view_name": "StyleView",
      "description_width": ""
     }
    },
    "6c9cac04048f4e20a30b224178b99664": {
     "model_module": "@jupyter-widgets/controls",
     "model_module_version": "1.5.0",
     "model_name": "HBoxModel",
     "state": {
      "_dom_classes": [],
      "_model_module": "@jupyter-widgets/controls",
      "_model_module_version": "1.5.0",
      "_model_name": "HBoxModel",
      "_view_count": null,
      "_view_module": "@jupyter-widgets/controls",
      "_view_module_version": "1.5.0",
      "_view_name": "HBoxView",
      "box_style": "",
      "children": [
       "IPY_MODEL_e2e875b55f694f12938294c2631388ad",
       "IPY_MODEL_4795ee98461f4973b3131cef1f663dea",
       "IPY_MODEL_b5d90d80be044756bdd03a12f7d3f671"
      ],
      "layout": "IPY_MODEL_de779ce320d740e6a525e329781cc1d7"
     }
    },
    "7063799e5f134191b27c049ee51351c6": {
     "model_module": "@jupyter-widgets/base",
     "model_module_version": "1.2.0",
     "model_name": "LayoutModel",
     "state": {
      "_model_module": "@jupyter-widgets/base",
      "_model_module_version": "1.2.0",
      "_model_name": "LayoutModel",
      "_view_count": null,
      "_view_module": "@jupyter-widgets/base",
      "_view_module_version": "1.2.0",
      "_view_name": "LayoutView",
      "align_content": null,
      "align_items": null,
      "align_self": null,
      "border": null,
      "bottom": null,
      "display": null,
      "flex": null,
      "flex_flow": null,
      "grid_area": null,
      "grid_auto_columns": null,
      "grid_auto_flow": null,
      "grid_auto_rows": null,
      "grid_column": null,
      "grid_gap": null,
      "grid_row": null,
      "grid_template_areas": null,
      "grid_template_columns": null,
      "grid_template_rows": null,
      "height": null,
      "justify_content": null,
      "justify_items": null,
      "left": null,
      "margin": null,
      "max_height": null,
      "max_width": null,
      "min_height": null,
      "min_width": null,
      "object_fit": null,
      "object_position": null,
      "order": null,
      "overflow": null,
      "overflow_x": null,
      "overflow_y": null,
      "padding": null,
      "right": null,
      "top": null,
      "visibility": null,
      "width": null
     }
    },
    "70b46b8ec2634dbda77cce34a8cb9444": {
     "model_module": "@jupyter-widgets/controls",
     "model_module_version": "1.5.0",
     "model_name": "DescriptionStyleModel",
     "state": {
      "_model_module": "@jupyter-widgets/controls",
      "_model_module_version": "1.5.0",
      "_model_name": "DescriptionStyleModel",
      "_view_count": null,
      "_view_module": "@jupyter-widgets/base",
      "_view_module_version": "1.2.0",
      "_view_name": "StyleView",
      "description_width": ""
     }
    },
    "7115fb217b3448c894c18b741543eaa6": {
     "model_module": "@jupyter-widgets/controls",
     "model_module_version": "1.5.0",
     "model_name": "HTMLModel",
     "state": {
      "_dom_classes": [],
      "_model_module": "@jupyter-widgets/controls",
      "_model_module_version": "1.5.0",
      "_model_name": "HTMLModel",
      "_view_count": null,
      "_view_module": "@jupyter-widgets/controls",
      "_view_module_version": "1.5.0",
      "_view_name": "HTMLView",
      "description": "",
      "description_tooltip": null,
      "layout": "IPY_MODEL_8318f8166d2440b98fc2b3173fe88e2a",
      "placeholder": "​",
      "style": "IPY_MODEL_1f5d2cc272354bf0ac7e22308441171a",
      "value": " 28411/100000 [00:48&lt;02:02, 585.28it/s]"
     }
    },
    "73529cf1246b4173bdabb4ed5dfc8971": {
     "model_module": "@jupyter-widgets/controls",
     "model_module_version": "1.5.0",
     "model_name": "ProgressStyleModel",
     "state": {
      "_model_module": "@jupyter-widgets/controls",
      "_model_module_version": "1.5.0",
      "_model_name": "ProgressStyleModel",
      "_view_count": null,
      "_view_module": "@jupyter-widgets/base",
      "_view_module_version": "1.2.0",
      "_view_name": "StyleView",
      "bar_color": null,
      "description_width": ""
     }
    },
    "753ec34c79de4eb8a5336d72c5a00602": {
     "model_module": "@jupyter-widgets/base",
     "model_module_version": "1.2.0",
     "model_name": "LayoutModel",
     "state": {
      "_model_module": "@jupyter-widgets/base",
      "_model_module_version": "1.2.0",
      "_model_name": "LayoutModel",
      "_view_count": null,
      "_view_module": "@jupyter-widgets/base",
      "_view_module_version": "1.2.0",
      "_view_name": "LayoutView",
      "align_content": null,
      "align_items": null,
      "align_self": null,
      "border": null,
      "bottom": null,
      "display": null,
      "flex": null,
      "flex_flow": null,
      "grid_area": null,
      "grid_auto_columns": null,
      "grid_auto_flow": null,
      "grid_auto_rows": null,
      "grid_column": null,
      "grid_gap": null,
      "grid_row": null,
      "grid_template_areas": null,
      "grid_template_columns": null,
      "grid_template_rows": null,
      "height": null,
      "justify_content": null,
      "justify_items": null,
      "left": null,
      "margin": null,
      "max_height": null,
      "max_width": null,
      "min_height": null,
      "min_width": null,
      "object_fit": null,
      "object_position": null,
      "order": null,
      "overflow": null,
      "overflow_x": null,
      "overflow_y": null,
      "padding": null,
      "right": null,
      "top": null,
      "visibility": null,
      "width": null
     }
    },
    "771d09b6fa934c62bae92a19a8e4af8d": {
     "model_module": "@jupyter-widgets/base",
     "model_module_version": "1.2.0",
     "model_name": "LayoutModel",
     "state": {
      "_model_module": "@jupyter-widgets/base",
      "_model_module_version": "1.2.0",
      "_model_name": "LayoutModel",
      "_view_count": null,
      "_view_module": "@jupyter-widgets/base",
      "_view_module_version": "1.2.0",
      "_view_name": "LayoutView",
      "align_content": null,
      "align_items": null,
      "align_self": null,
      "border": null,
      "bottom": null,
      "display": null,
      "flex": null,
      "flex_flow": null,
      "grid_area": null,
      "grid_auto_columns": null,
      "grid_auto_flow": null,
      "grid_auto_rows": null,
      "grid_column": null,
      "grid_gap": null,
      "grid_row": null,
      "grid_template_areas": null,
      "grid_template_columns": null,
      "grid_template_rows": null,
      "height": null,
      "justify_content": null,
      "justify_items": null,
      "left": null,
      "margin": null,
      "max_height": null,
      "max_width": null,
      "min_height": null,
      "min_width": null,
      "object_fit": null,
      "object_position": null,
      "order": null,
      "overflow": null,
      "overflow_x": null,
      "overflow_y": null,
      "padding": null,
      "right": null,
      "top": null,
      "visibility": null,
      "width": null
     }
    },
    "7723900d2f0845139c9deb232f8c5d39": {
     "model_module": "@jupyter-widgets/controls",
     "model_module_version": "1.5.0",
     "model_name": "HBoxModel",
     "state": {
      "_dom_classes": [],
      "_model_module": "@jupyter-widgets/controls",
      "_model_module_version": "1.5.0",
      "_model_name": "HBoxModel",
      "_view_count": null,
      "_view_module": "@jupyter-widgets/controls",
      "_view_module_version": "1.5.0",
      "_view_name": "HBoxView",
      "box_style": "",
      "children": [
       "IPY_MODEL_32bc49d5b99241d7a7136f23b8a8bf6d",
       "IPY_MODEL_378b880fbeba43f0af37f3ba849f9ee7",
       "IPY_MODEL_6575817fdeb042aaa2583971e77fce85"
      ],
      "layout": "IPY_MODEL_5431c2cd08e54783b217a8f84e6e5b93"
     }
    },
    "7cbc332e2147466987de59ba8298eacc": {
     "model_module": "@jupyter-widgets/controls",
     "model_module_version": "1.5.0",
     "model_name": "ProgressStyleModel",
     "state": {
      "_model_module": "@jupyter-widgets/controls",
      "_model_module_version": "1.5.0",
      "_model_name": "ProgressStyleModel",
      "_view_count": null,
      "_view_module": "@jupyter-widgets/base",
      "_view_module_version": "1.2.0",
      "_view_name": "StyleView",
      "bar_color": null,
      "description_width": ""
     }
    },
    "7edd20c352624ecaa645ce4f617a2e46": {
     "model_module": "@jupyter-widgets/controls",
     "model_module_version": "1.5.0",
     "model_name": "ProgressStyleModel",
     "state": {
      "_model_module": "@jupyter-widgets/controls",
      "_model_module_version": "1.5.0",
      "_model_name": "ProgressStyleModel",
      "_view_count": null,
      "_view_module": "@jupyter-widgets/base",
      "_view_module_version": "1.2.0",
      "_view_name": "StyleView",
      "bar_color": null,
      "description_width": ""
     }
    },
    "81506cd976134eb78a287b8184999adc": {
     "model_module": "@jupyter-widgets/controls",
     "model_module_version": "1.5.0",
     "model_name": "HTMLModel",
     "state": {
      "_dom_classes": [],
      "_model_module": "@jupyter-widgets/controls",
      "_model_module_version": "1.5.0",
      "_model_name": "HTMLModel",
      "_view_count": null,
      "_view_module": "@jupyter-widgets/controls",
      "_view_module_version": "1.5.0",
      "_view_name": "HTMLView",
      "description": "",
      "description_tooltip": null,
      "layout": "IPY_MODEL_97d0e15072c04893b72dcf0b11192dcc",
      "placeholder": "​",
      "style": "IPY_MODEL_ccf02c26a05140bb800df57d05658694",
      "value": "  3%"
     }
    },
    "8318f8166d2440b98fc2b3173fe88e2a": {
     "model_module": "@jupyter-widgets/base",
     "model_module_version": "1.2.0",
     "model_name": "LayoutModel",
     "state": {
      "_model_module": "@jupyter-widgets/base",
      "_model_module_version": "1.2.0",
      "_model_name": "LayoutModel",
      "_view_count": null,
      "_view_module": "@jupyter-widgets/base",
      "_view_module_version": "1.2.0",
      "_view_name": "LayoutView",
      "align_content": null,
      "align_items": null,
      "align_self": null,
      "border": null,
      "bottom": null,
      "display": null,
      "flex": null,
      "flex_flow": null,
      "grid_area": null,
      "grid_auto_columns": null,
      "grid_auto_flow": null,
      "grid_auto_rows": null,
      "grid_column": null,
      "grid_gap": null,
      "grid_row": null,
      "grid_template_areas": null,
      "grid_template_columns": null,
      "grid_template_rows": null,
      "height": null,
      "justify_content": null,
      "justify_items": null,
      "left": null,
      "margin": null,
      "max_height": null,
      "max_width": null,
      "min_height": null,
      "min_width": null,
      "object_fit": null,
      "object_position": null,
      "order": null,
      "overflow": null,
      "overflow_x": null,
      "overflow_y": null,
      "padding": null,
      "right": null,
      "top": null,
      "visibility": null,
      "width": null
     }
    },
    "83a52d67ba89422aa5b2b3fbc7833a3a": {
     "model_module": "@jupyter-widgets/base",
     "model_module_version": "1.2.0",
     "model_name": "LayoutModel",
     "state": {
      "_model_module": "@jupyter-widgets/base",
      "_model_module_version": "1.2.0",
      "_model_name": "LayoutModel",
      "_view_count": null,
      "_view_module": "@jupyter-widgets/base",
      "_view_module_version": "1.2.0",
      "_view_name": "LayoutView",
      "align_content": null,
      "align_items": null,
      "align_self": null,
      "border": null,
      "bottom": null,
      "display": null,
      "flex": null,
      "flex_flow": null,
      "grid_area": null,
      "grid_auto_columns": null,
      "grid_auto_flow": null,
      "grid_auto_rows": null,
      "grid_column": null,
      "grid_gap": null,
      "grid_row": null,
      "grid_template_areas": null,
      "grid_template_columns": null,
      "grid_template_rows": null,
      "height": null,
      "justify_content": null,
      "justify_items": null,
      "left": null,
      "margin": null,
      "max_height": null,
      "max_width": null,
      "min_height": null,
      "min_width": null,
      "object_fit": null,
      "object_position": null,
      "order": null,
      "overflow": null,
      "overflow_x": null,
      "overflow_y": null,
      "padding": null,
      "right": null,
      "top": null,
      "visibility": null,
      "width": null
     }
    },
    "85fde5b036c3454c8ff9defdd389b3ca": {
     "model_module": "@jupyter-widgets/controls",
     "model_module_version": "1.5.0",
     "model_name": "FloatProgressModel",
     "state": {
      "_dom_classes": [],
      "_model_module": "@jupyter-widgets/controls",
      "_model_module_version": "1.5.0",
      "_model_name": "FloatProgressModel",
      "_view_count": null,
      "_view_module": "@jupyter-widgets/controls",
      "_view_module_version": "1.5.0",
      "_view_name": "ProgressView",
      "bar_style": "danger",
      "description": "",
      "description_tooltip": null,
      "layout": "IPY_MODEL_921fcd802e194166a2f0f9d438d5d85d",
      "max": 100000,
      "min": 0,
      "orientation": "horizontal",
      "style": "IPY_MODEL_e188e295776b487cb7abbcbc24524532",
      "value": 2862
     }
    },
    "921fcd802e194166a2f0f9d438d5d85d": {
     "model_module": "@jupyter-widgets/base",
     "model_module_version": "1.2.0",
     "model_name": "LayoutModel",
     "state": {
      "_model_module": "@jupyter-widgets/base",
      "_model_module_version": "1.2.0",
      "_model_name": "LayoutModel",
      "_view_count": null,
      "_view_module": "@jupyter-widgets/base",
      "_view_module_version": "1.2.0",
      "_view_name": "LayoutView",
      "align_content": null,
      "align_items": null,
      "align_self": null,
      "border": null,
      "bottom": null,
      "display": null,
      "flex": null,
      "flex_flow": null,
      "grid_area": null,
      "grid_auto_columns": null,
      "grid_auto_flow": null,
      "grid_auto_rows": null,
      "grid_column": null,
      "grid_gap": null,
      "grid_row": null,
      "grid_template_areas": null,
      "grid_template_columns": null,
      "grid_template_rows": null,
      "height": null,
      "justify_content": null,
      "justify_items": null,
      "left": null,
      "margin": null,
      "max_height": null,
      "max_width": null,
      "min_height": null,
      "min_width": null,
      "object_fit": null,
      "object_position": null,
      "order": null,
      "overflow": null,
      "overflow_x": null,
      "overflow_y": null,
      "padding": null,
      "right": null,
      "top": null,
      "visibility": null,
      "width": null
     }
    },
    "92393356b6bc4cc585ec6e8ccaed983e": {
     "model_module": "@jupyter-widgets/base",
     "model_module_version": "1.2.0",
     "model_name": "LayoutModel",
     "state": {
      "_model_module": "@jupyter-widgets/base",
      "_model_module_version": "1.2.0",
      "_model_name": "LayoutModel",
      "_view_count": null,
      "_view_module": "@jupyter-widgets/base",
      "_view_module_version": "1.2.0",
      "_view_name": "LayoutView",
      "align_content": null,
      "align_items": null,
      "align_self": null,
      "border": null,
      "bottom": null,
      "display": null,
      "flex": null,
      "flex_flow": null,
      "grid_area": null,
      "grid_auto_columns": null,
      "grid_auto_flow": null,
      "grid_auto_rows": null,
      "grid_column": null,
      "grid_gap": null,
      "grid_row": null,
      "grid_template_areas": null,
      "grid_template_columns": null,
      "grid_template_rows": null,
      "height": null,
      "justify_content": null,
      "justify_items": null,
      "left": null,
      "margin": null,
      "max_height": null,
      "max_width": null,
      "min_height": null,
      "min_width": null,
      "object_fit": null,
      "object_position": null,
      "order": null,
      "overflow": null,
      "overflow_x": null,
      "overflow_y": null,
      "padding": null,
      "right": null,
      "top": null,
      "visibility": null,
      "width": null
     }
    },
    "940fcc95acaf465981460eb6dcf3d70a": {
     "model_module": "@jupyter-widgets/controls",
     "model_module_version": "1.5.0",
     "model_name": "DescriptionStyleModel",
     "state": {
      "_model_module": "@jupyter-widgets/controls",
      "_model_module_version": "1.5.0",
      "_model_name": "DescriptionStyleModel",
      "_view_count": null,
      "_view_module": "@jupyter-widgets/base",
      "_view_module_version": "1.2.0",
      "_view_name": "StyleView",
      "description_width": ""
     }
    },
    "959da6871fe044e882bd8d3e2fbe8aef": {
     "model_module": "@jupyter-widgets/base",
     "model_module_version": "1.2.0",
     "model_name": "LayoutModel",
     "state": {
      "_model_module": "@jupyter-widgets/base",
      "_model_module_version": "1.2.0",
      "_model_name": "LayoutModel",
      "_view_count": null,
      "_view_module": "@jupyter-widgets/base",
      "_view_module_version": "1.2.0",
      "_view_name": "LayoutView",
      "align_content": null,
      "align_items": null,
      "align_self": null,
      "border": null,
      "bottom": null,
      "display": null,
      "flex": null,
      "flex_flow": null,
      "grid_area": null,
      "grid_auto_columns": null,
      "grid_auto_flow": null,
      "grid_auto_rows": null,
      "grid_column": null,
      "grid_gap": null,
      "grid_row": null,
      "grid_template_areas": null,
      "grid_template_columns": null,
      "grid_template_rows": null,
      "height": null,
      "justify_content": null,
      "justify_items": null,
      "left": null,
      "margin": null,
      "max_height": null,
      "max_width": null,
      "min_height": null,
      "min_width": null,
      "object_fit": null,
      "object_position": null,
      "order": null,
      "overflow": null,
      "overflow_x": null,
      "overflow_y": null,
      "padding": null,
      "right": null,
      "top": null,
      "visibility": null,
      "width": null
     }
    },
    "97d0e15072c04893b72dcf0b11192dcc": {
     "model_module": "@jupyter-widgets/base",
     "model_module_version": "1.2.0",
     "model_name": "LayoutModel",
     "state": {
      "_model_module": "@jupyter-widgets/base",
      "_model_module_version": "1.2.0",
      "_model_name": "LayoutModel",
      "_view_count": null,
      "_view_module": "@jupyter-widgets/base",
      "_view_module_version": "1.2.0",
      "_view_name": "LayoutView",
      "align_content": null,
      "align_items": null,
      "align_self": null,
      "border": null,
      "bottom": null,
      "display": null,
      "flex": null,
      "flex_flow": null,
      "grid_area": null,
      "grid_auto_columns": null,
      "grid_auto_flow": null,
      "grid_auto_rows": null,
      "grid_column": null,
      "grid_gap": null,
      "grid_row": null,
      "grid_template_areas": null,
      "grid_template_columns": null,
      "grid_template_rows": null,
      "height": null,
      "justify_content": null,
      "justify_items": null,
      "left": null,
      "margin": null,
      "max_height": null,
      "max_width": null,
      "min_height": null,
      "min_width": null,
      "object_fit": null,
      "object_position": null,
      "order": null,
      "overflow": null,
      "overflow_x": null,
      "overflow_y": null,
      "padding": null,
      "right": null,
      "top": null,
      "visibility": null,
      "width": null
     }
    },
    "996a4cf366f149f2948ac3b8e0836dbd": {
     "model_module": "@jupyter-widgets/controls",
     "model_module_version": "1.5.0",
     "model_name": "HTMLModel",
     "state": {
      "_dom_classes": [],
      "_model_module": "@jupyter-widgets/controls",
      "_model_module_version": "1.5.0",
      "_model_name": "HTMLModel",
      "_view_count": null,
      "_view_module": "@jupyter-widgets/controls",
      "_view_module_version": "1.5.0",
      "_view_name": "HTMLView",
      "description": "",
      "description_tooltip": null,
      "layout": "IPY_MODEL_a45def2594aa468991fe2ad2d1c496d5",
      "placeholder": "​",
      "style": "IPY_MODEL_b9ec60ed19044798867df7315cfb3e9a",
      "value": " 6107/100000 [00:03&lt;00:59, 1590.65it/s]"
     }
    },
    "9b2d02a7c76148588e3f8458f3f85bd5": {
     "model_module": "@jupyter-widgets/controls",
     "model_module_version": "1.5.0",
     "model_name": "DescriptionStyleModel",
     "state": {
      "_model_module": "@jupyter-widgets/controls",
      "_model_module_version": "1.5.0",
      "_model_name": "DescriptionStyleModel",
      "_view_count": null,
      "_view_module": "@jupyter-widgets/base",
      "_view_module_version": "1.2.0",
      "_view_name": "StyleView",
      "description_width": ""
     }
    },
    "9d3b0f5e1e8d4ce68b82783107777405": {
     "model_module": "@jupyter-widgets/base",
     "model_module_version": "1.2.0",
     "model_name": "LayoutModel",
     "state": {
      "_model_module": "@jupyter-widgets/base",
      "_model_module_version": "1.2.0",
      "_model_name": "LayoutModel",
      "_view_count": null,
      "_view_module": "@jupyter-widgets/base",
      "_view_module_version": "1.2.0",
      "_view_name": "LayoutView",
      "align_content": null,
      "align_items": null,
      "align_self": null,
      "border": null,
      "bottom": null,
      "display": null,
      "flex": null,
      "flex_flow": null,
      "grid_area": null,
      "grid_auto_columns": null,
      "grid_auto_flow": null,
      "grid_auto_rows": null,
      "grid_column": null,
      "grid_gap": null,
      "grid_row": null,
      "grid_template_areas": null,
      "grid_template_columns": null,
      "grid_template_rows": null,
      "height": null,
      "justify_content": null,
      "justify_items": null,
      "left": null,
      "margin": null,
      "max_height": null,
      "max_width": null,
      "min_height": null,
      "min_width": null,
      "object_fit": null,
      "object_position": null,
      "order": null,
      "overflow": null,
      "overflow_x": null,
      "overflow_y": null,
      "padding": null,
      "right": null,
      "top": null,
      "visibility": null,
      "width": null
     }
    },
    "9ff802eb7499487a8b9f63f370d1b0cf": {
     "model_module": "@jupyter-widgets/controls",
     "model_module_version": "1.5.0",
     "model_name": "HTMLModel",
     "state": {
      "_dom_classes": [],
      "_model_module": "@jupyter-widgets/controls",
      "_model_module_version": "1.5.0",
      "_model_name": "HTMLModel",
      "_view_count": null,
      "_view_module": "@jupyter-widgets/controls",
      "_view_module_version": "1.5.0",
      "_view_name": "HTMLView",
      "description": "",
      "description_tooltip": null,
      "layout": "IPY_MODEL_2c8bb7aa515949339d553c99225cd6c0",
      "placeholder": "​",
      "style": "IPY_MODEL_be7e5ae762874fe38079efd19d646d0d",
      "value": " 23256/100000 [00:51&lt;01:43, 741.82it/s]"
     }
    },
    "a45def2594aa468991fe2ad2d1c496d5": {
     "model_module": "@jupyter-widgets/base",
     "model_module_version": "1.2.0",
     "model_name": "LayoutModel",
     "state": {
      "_model_module": "@jupyter-widgets/base",
      "_model_module_version": "1.2.0",
      "_model_name": "LayoutModel",
      "_view_count": null,
      "_view_module": "@jupyter-widgets/base",
      "_view_module_version": "1.2.0",
      "_view_name": "LayoutView",
      "align_content": null,
      "align_items": null,
      "align_self": null,
      "border": null,
      "bottom": null,
      "display": null,
      "flex": null,
      "flex_flow": null,
      "grid_area": null,
      "grid_auto_columns": null,
      "grid_auto_flow": null,
      "grid_auto_rows": null,
      "grid_column": null,
      "grid_gap": null,
      "grid_row": null,
      "grid_template_areas": null,
      "grid_template_columns": null,
      "grid_template_rows": null,
      "height": null,
      "justify_content": null,
      "justify_items": null,
      "left": null,
      "margin": null,
      "max_height": null,
      "max_width": null,
      "min_height": null,
      "min_width": null,
      "object_fit": null,
      "object_position": null,
      "order": null,
      "overflow": null,
      "overflow_x": null,
      "overflow_y": null,
      "padding": null,
      "right": null,
      "top": null,
      "visibility": null,
      "width": null
     }
    },
    "a8f1f0f1e6b342dba02a1247600b20fd": {
     "model_module": "@jupyter-widgets/controls",
     "model_module_version": "1.5.0",
     "model_name": "HTMLModel",
     "state": {
      "_dom_classes": [],
      "_model_module": "@jupyter-widgets/controls",
      "_model_module_version": "1.5.0",
      "_model_name": "HTMLModel",
      "_view_count": null,
      "_view_module": "@jupyter-widgets/controls",
      "_view_module_version": "1.5.0",
      "_view_name": "HTMLView",
      "description": "",
      "description_tooltip": null,
      "layout": "IPY_MODEL_92393356b6bc4cc585ec6e8ccaed983e",
      "placeholder": "​",
      "style": "IPY_MODEL_70b46b8ec2634dbda77cce34a8cb9444",
      "value": " 56023/100000 [00:56&lt;00:41, 1050.75it/s]"
     }
    },
    "aa79e11fa4ed42b38953cf6653d8d243": {
     "model_module": "@jupyter-widgets/controls",
     "model_module_version": "1.5.0",
     "model_name": "FloatProgressModel",
     "state": {
      "_dom_classes": [],
      "_model_module": "@jupyter-widgets/controls",
      "_model_module_version": "1.5.0",
      "_model_name": "FloatProgressModel",
      "_view_count": null,
      "_view_module": "@jupyter-widgets/controls",
      "_view_module_version": "1.5.0",
      "_view_name": "ProgressView",
      "bar_style": "danger",
      "description": "",
      "description_tooltip": null,
      "layout": "IPY_MODEL_83a52d67ba89422aa5b2b3fbc7833a3a",
      "max": 100000,
      "min": 0,
      "orientation": "horizontal",
      "style": "IPY_MODEL_7edd20c352624ecaa645ce4f617a2e46",
      "value": 28411
     }
    },
    "aacffbde33194e99b86fca6316cc5f16": {
     "model_module": "@jupyter-widgets/controls",
     "model_module_version": "1.5.0",
     "model_name": "ProgressStyleModel",
     "state": {
      "_model_module": "@jupyter-widgets/controls",
      "_model_module_version": "1.5.0",
      "_model_name": "ProgressStyleModel",
      "_view_count": null,
      "_view_module": "@jupyter-widgets/base",
      "_view_module_version": "1.2.0",
      "_view_name": "StyleView",
      "bar_color": null,
      "description_width": ""
     }
    },
    "b2b60f248c434ec7bb61097a62e3c71b": {
     "model_module": "@jupyter-widgets/controls",
     "model_module_version": "1.5.0",
     "model_name": "DescriptionStyleModel",
     "state": {
      "_model_module": "@jupyter-widgets/controls",
      "_model_module_version": "1.5.0",
      "_model_name": "DescriptionStyleModel",
      "_view_count": null,
      "_view_module": "@jupyter-widgets/base",
      "_view_module_version": "1.2.0",
      "_view_name": "StyleView",
      "description_width": ""
     }
    },
    "b33ffade3a7b4367a9ac120ded61e96f": {
     "model_module": "@jupyter-widgets/base",
     "model_module_version": "1.2.0",
     "model_name": "LayoutModel",
     "state": {
      "_model_module": "@jupyter-widgets/base",
      "_model_module_version": "1.2.0",
      "_model_name": "LayoutModel",
      "_view_count": null,
      "_view_module": "@jupyter-widgets/base",
      "_view_module_version": "1.2.0",
      "_view_name": "LayoutView",
      "align_content": null,
      "align_items": null,
      "align_self": null,
      "border": null,
      "bottom": null,
      "display": null,
      "flex": null,
      "flex_flow": null,
      "grid_area": null,
      "grid_auto_columns": null,
      "grid_auto_flow": null,
      "grid_auto_rows": null,
      "grid_column": null,
      "grid_gap": null,
      "grid_row": null,
      "grid_template_areas": null,
      "grid_template_columns": null,
      "grid_template_rows": null,
      "height": null,
      "justify_content": null,
      "justify_items": null,
      "left": null,
      "margin": null,
      "max_height": null,
      "max_width": null,
      "min_height": null,
      "min_width": null,
      "object_fit": null,
      "object_position": null,
      "order": null,
      "overflow": null,
      "overflow_x": null,
      "overflow_y": null,
      "padding": null,
      "right": null,
      "top": null,
      "visibility": null,
      "width": null
     }
    },
    "b5d90d80be044756bdd03a12f7d3f671": {
     "model_module": "@jupyter-widgets/controls",
     "model_module_version": "1.5.0",
     "model_name": "HTMLModel",
     "state": {
      "_dom_classes": [],
      "_model_module": "@jupyter-widgets/controls",
      "_model_module_version": "1.5.0",
      "_model_name": "HTMLModel",
      "_view_count": null,
      "_view_module": "@jupyter-widgets/controls",
      "_view_module_version": "1.5.0",
      "_view_name": "HTMLView",
      "description": "",
      "description_tooltip": null,
      "layout": "IPY_MODEL_ee7f25c30106451492930d21d77dadbe",
      "placeholder": "​",
      "style": "IPY_MODEL_9b2d02a7c76148588e3f8458f3f85bd5",
      "value": " 1496/100000 [00:13&lt;15:22, 106.80it/s]"
     }
    },
    "b83d5ce4836046c59bec1f45b2d147b5": {
     "model_module": "@jupyter-widgets/controls",
     "model_module_version": "1.5.0",
     "model_name": "HTMLModel",
     "state": {
      "_dom_classes": [],
      "_model_module": "@jupyter-widgets/controls",
      "_model_module_version": "1.5.0",
      "_model_name": "HTMLModel",
      "_view_count": null,
      "_view_module": "@jupyter-widgets/controls",
      "_view_module_version": "1.5.0",
      "_view_name": "HTMLView",
      "description": "",
      "description_tooltip": null,
      "layout": "IPY_MODEL_753ec34c79de4eb8a5336d72c5a00602",
      "placeholder": "​",
      "style": "IPY_MODEL_223b9492c6eb4cf78baacb486f2b2511",
      "value": "  6%"
     }
    },
    "b9ec60ed19044798867df7315cfb3e9a": {
     "model_module": "@jupyter-widgets/controls",
     "model_module_version": "1.5.0",
     "model_name": "DescriptionStyleModel",
     "state": {
      "_model_module": "@jupyter-widgets/controls",
      "_model_module_version": "1.5.0",
      "_model_name": "DescriptionStyleModel",
      "_view_count": null,
      "_view_module": "@jupyter-widgets/base",
      "_view_module_version": "1.2.0",
      "_view_name": "StyleView",
      "description_width": ""
     }
    },
    "bad0fe9e465446618da9714ca5595e86": {
     "model_module": "@jupyter-widgets/controls",
     "model_module_version": "1.5.0",
     "model_name": "DescriptionStyleModel",
     "state": {
      "_model_module": "@jupyter-widgets/controls",
      "_model_module_version": "1.5.0",
      "_model_name": "DescriptionStyleModel",
      "_view_count": null,
      "_view_module": "@jupyter-widgets/base",
      "_view_module_version": "1.2.0",
      "_view_name": "StyleView",
      "description_width": ""
     }
    },
    "bdc547ade5824e5f94cac9a7f3e28cb0": {
     "model_module": "@jupyter-widgets/base",
     "model_module_version": "1.2.0",
     "model_name": "LayoutModel",
     "state": {
      "_model_module": "@jupyter-widgets/base",
      "_model_module_version": "1.2.0",
      "_model_name": "LayoutModel",
      "_view_count": null,
      "_view_module": "@jupyter-widgets/base",
      "_view_module_version": "1.2.0",
      "_view_name": "LayoutView",
      "align_content": null,
      "align_items": null,
      "align_self": null,
      "border": null,
      "bottom": null,
      "display": null,
      "flex": null,
      "flex_flow": null,
      "grid_area": null,
      "grid_auto_columns": null,
      "grid_auto_flow": null,
      "grid_auto_rows": null,
      "grid_column": null,
      "grid_gap": null,
      "grid_row": null,
      "grid_template_areas": null,
      "grid_template_columns": null,
      "grid_template_rows": null,
      "height": null,
      "justify_content": null,
      "justify_items": null,
      "left": null,
      "margin": null,
      "max_height": null,
      "max_width": null,
      "min_height": null,
      "min_width": null,
      "object_fit": null,
      "object_position": null,
      "order": null,
      "overflow": null,
      "overflow_x": null,
      "overflow_y": null,
      "padding": null,
      "right": null,
      "top": null,
      "visibility": null,
      "width": null
     }
    },
    "be7e5ae762874fe38079efd19d646d0d": {
     "model_module": "@jupyter-widgets/controls",
     "model_module_version": "1.5.0",
     "model_name": "DescriptionStyleModel",
     "state": {
      "_model_module": "@jupyter-widgets/controls",
      "_model_module_version": "1.5.0",
      "_model_name": "DescriptionStyleModel",
      "_view_count": null,
      "_view_module": "@jupyter-widgets/base",
      "_view_module_version": "1.2.0",
      "_view_name": "StyleView",
      "description_width": ""
     }
    },
    "c0acf55fe113443f9b3e031c061bc763": {
     "model_module": "@jupyter-widgets/controls",
     "model_module_version": "1.5.0",
     "model_name": "FloatProgressModel",
     "state": {
      "_dom_classes": [],
      "_model_module": "@jupyter-widgets/controls",
      "_model_module_version": "1.5.0",
      "_model_name": "FloatProgressModel",
      "_view_count": null,
      "_view_module": "@jupyter-widgets/controls",
      "_view_module_version": "1.5.0",
      "_view_name": "ProgressView",
      "bar_style": "danger",
      "description": "",
      "description_tooltip": null,
      "layout": "IPY_MODEL_cd3ad95d318b49c982c65832db9f3f7a",
      "max": 100000,
      "min": 0,
      "orientation": "horizontal",
      "style": "IPY_MODEL_aacffbde33194e99b86fca6316cc5f16",
      "value": 56023
     }
    },
    "c1dc43293e62430da8f8b8a9935d26d7": {
     "model_module": "@jupyter-widgets/controls",
     "model_module_version": "1.5.0",
     "model_name": "DescriptionStyleModel",
     "state": {
      "_model_module": "@jupyter-widgets/controls",
      "_model_module_version": "1.5.0",
      "_model_name": "DescriptionStyleModel",
      "_view_count": null,
      "_view_module": "@jupyter-widgets/base",
      "_view_module_version": "1.2.0",
      "_view_name": "StyleView",
      "description_width": ""
     }
    },
    "c7bb54603f1944e4a84ecca94662bc94": {
     "model_module": "@jupyter-widgets/base",
     "model_module_version": "1.2.0",
     "model_name": "LayoutModel",
     "state": {
      "_model_module": "@jupyter-widgets/base",
      "_model_module_version": "1.2.0",
      "_model_name": "LayoutModel",
      "_view_count": null,
      "_view_module": "@jupyter-widgets/base",
      "_view_module_version": "1.2.0",
      "_view_name": "LayoutView",
      "align_content": null,
      "align_items": null,
      "align_self": null,
      "border": null,
      "bottom": null,
      "display": null,
      "flex": null,
      "flex_flow": null,
      "grid_area": null,
      "grid_auto_columns": null,
      "grid_auto_flow": null,
      "grid_auto_rows": null,
      "grid_column": null,
      "grid_gap": null,
      "grid_row": null,
      "grid_template_areas": null,
      "grid_template_columns": null,
      "grid_template_rows": null,
      "height": null,
      "justify_content": null,
      "justify_items": null,
      "left": null,
      "margin": null,
      "max_height": null,
      "max_width": null,
      "min_height": null,
      "min_width": null,
      "object_fit": null,
      "object_position": null,
      "order": null,
      "overflow": null,
      "overflow_x": null,
      "overflow_y": null,
      "padding": null,
      "right": null,
      "top": null,
      "visibility": null,
      "width": null
     }
    },
    "c964b44ab88b49b5b194c29abae07ffa": {
     "model_module": "@jupyter-widgets/base",
     "model_module_version": "1.2.0",
     "model_name": "LayoutModel",
     "state": {
      "_model_module": "@jupyter-widgets/base",
      "_model_module_version": "1.2.0",
      "_model_name": "LayoutModel",
      "_view_count": null,
      "_view_module": "@jupyter-widgets/base",
      "_view_module_version": "1.2.0",
      "_view_name": "LayoutView",
      "align_content": null,
      "align_items": null,
      "align_self": null,
      "border": null,
      "bottom": null,
      "display": null,
      "flex": null,
      "flex_flow": null,
      "grid_area": null,
      "grid_auto_columns": null,
      "grid_auto_flow": null,
      "grid_auto_rows": null,
      "grid_column": null,
      "grid_gap": null,
      "grid_row": null,
      "grid_template_areas": null,
      "grid_template_columns": null,
      "grid_template_rows": null,
      "height": null,
      "justify_content": null,
      "justify_items": null,
      "left": null,
      "margin": null,
      "max_height": null,
      "max_width": null,
      "min_height": null,
      "min_width": null,
      "object_fit": null,
      "object_position": null,
      "order": null,
      "overflow": null,
      "overflow_x": null,
      "overflow_y": null,
      "padding": null,
      "right": null,
      "top": null,
      "visibility": null,
      "width": null
     }
    },
    "c9757bc67c0e4365b4b26d3162e5bcc8": {
     "model_module": "@jupyter-widgets/controls",
     "model_module_version": "1.5.0",
     "model_name": "HTMLModel",
     "state": {
      "_dom_classes": [],
      "_model_module": "@jupyter-widgets/controls",
      "_model_module_version": "1.5.0",
      "_model_name": "HTMLModel",
      "_view_count": null,
      "_view_module": "@jupyter-widgets/controls",
      "_view_module_version": "1.5.0",
      "_view_name": "HTMLView",
      "description": "",
      "description_tooltip": null,
      "layout": "IPY_MODEL_b33ffade3a7b4367a9ac120ded61e96f",
      "placeholder": "​",
      "style": "IPY_MODEL_b2b60f248c434ec7bb61097a62e3c71b",
      "value": " 22802/100000 [04:01&lt;13:09, 97.78it/s]"
     }
    },
    "ccf02c26a05140bb800df57d05658694": {
     "model_module": "@jupyter-widgets/controls",
     "model_module_version": "1.5.0",
     "model_name": "DescriptionStyleModel",
     "state": {
      "_model_module": "@jupyter-widgets/controls",
      "_model_module_version": "1.5.0",
      "_model_name": "DescriptionStyleModel",
      "_view_count": null,
      "_view_module": "@jupyter-widgets/base",
      "_view_module_version": "1.2.0",
      "_view_name": "StyleView",
      "description_width": ""
     }
    },
    "cd3ad95d318b49c982c65832db9f3f7a": {
     "model_module": "@jupyter-widgets/base",
     "model_module_version": "1.2.0",
     "model_name": "LayoutModel",
     "state": {
      "_model_module": "@jupyter-widgets/base",
      "_model_module_version": "1.2.0",
      "_model_name": "LayoutModel",
      "_view_count": null,
      "_view_module": "@jupyter-widgets/base",
      "_view_module_version": "1.2.0",
      "_view_name": "LayoutView",
      "align_content": null,
      "align_items": null,
      "align_self": null,
      "border": null,
      "bottom": null,
      "display": null,
      "flex": null,
      "flex_flow": null,
      "grid_area": null,
      "grid_auto_columns": null,
      "grid_auto_flow": null,
      "grid_auto_rows": null,
      "grid_column": null,
      "grid_gap": null,
      "grid_row": null,
      "grid_template_areas": null,
      "grid_template_columns": null,
      "grid_template_rows": null,
      "height": null,
      "justify_content": null,
      "justify_items": null,
      "left": null,
      "margin": null,
      "max_height": null,
      "max_width": null,
      "min_height": null,
      "min_width": null,
      "object_fit": null,
      "object_position": null,
      "order": null,
      "overflow": null,
      "overflow_x": null,
      "overflow_y": null,
      "padding": null,
      "right": null,
      "top": null,
      "visibility": null,
      "width": null
     }
    },
    "cde1afcab4ec4dadbef09351f8d949d8": {
     "model_module": "@jupyter-widgets/base",
     "model_module_version": "1.2.0",
     "model_name": "LayoutModel",
     "state": {
      "_model_module": "@jupyter-widgets/base",
      "_model_module_version": "1.2.0",
      "_model_name": "LayoutModel",
      "_view_count": null,
      "_view_module": "@jupyter-widgets/base",
      "_view_module_version": "1.2.0",
      "_view_name": "LayoutView",
      "align_content": null,
      "align_items": null,
      "align_self": null,
      "border": null,
      "bottom": null,
      "display": null,
      "flex": null,
      "flex_flow": null,
      "grid_area": null,
      "grid_auto_columns": null,
      "grid_auto_flow": null,
      "grid_auto_rows": null,
      "grid_column": null,
      "grid_gap": null,
      "grid_row": null,
      "grid_template_areas": null,
      "grid_template_columns": null,
      "grid_template_rows": null,
      "height": null,
      "justify_content": null,
      "justify_items": null,
      "left": null,
      "margin": null,
      "max_height": null,
      "max_width": null,
      "min_height": null,
      "min_width": null,
      "object_fit": null,
      "object_position": null,
      "order": null,
      "overflow": null,
      "overflow_x": null,
      "overflow_y": null,
      "padding": null,
      "right": null,
      "top": null,
      "visibility": null,
      "width": null
     }
    },
    "d3e60bc1b4ac431ea5e04a8c774126f2": {
     "model_module": "@jupyter-widgets/base",
     "model_module_version": "1.2.0",
     "model_name": "LayoutModel",
     "state": {
      "_model_module": "@jupyter-widgets/base",
      "_model_module_version": "1.2.0",
      "_model_name": "LayoutModel",
      "_view_count": null,
      "_view_module": "@jupyter-widgets/base",
      "_view_module_version": "1.2.0",
      "_view_name": "LayoutView",
      "align_content": null,
      "align_items": null,
      "align_self": null,
      "border": null,
      "bottom": null,
      "display": null,
      "flex": null,
      "flex_flow": null,
      "grid_area": null,
      "grid_auto_columns": null,
      "grid_auto_flow": null,
      "grid_auto_rows": null,
      "grid_column": null,
      "grid_gap": null,
      "grid_row": null,
      "grid_template_areas": null,
      "grid_template_columns": null,
      "grid_template_rows": null,
      "height": null,
      "justify_content": null,
      "justify_items": null,
      "left": null,
      "margin": null,
      "max_height": null,
      "max_width": null,
      "min_height": null,
      "min_width": null,
      "object_fit": null,
      "object_position": null,
      "order": null,
      "overflow": null,
      "overflow_x": null,
      "overflow_y": null,
      "padding": null,
      "right": null,
      "top": null,
      "visibility": null,
      "width": null
     }
    },
    "dcf75c2ab5ac4c47b211685da5dd58ce": {
     "model_module": "@jupyter-widgets/controls",
     "model_module_version": "1.5.0",
     "model_name": "ProgressStyleModel",
     "state": {
      "_model_module": "@jupyter-widgets/controls",
      "_model_module_version": "1.5.0",
      "_model_name": "ProgressStyleModel",
      "_view_count": null,
      "_view_module": "@jupyter-widgets/base",
      "_view_module_version": "1.2.0",
      "_view_name": "StyleView",
      "bar_color": null,
      "description_width": ""
     }
    },
    "de779ce320d740e6a525e329781cc1d7": {
     "model_module": "@jupyter-widgets/base",
     "model_module_version": "1.2.0",
     "model_name": "LayoutModel",
     "state": {
      "_model_module": "@jupyter-widgets/base",
      "_model_module_version": "1.2.0",
      "_model_name": "LayoutModel",
      "_view_count": null,
      "_view_module": "@jupyter-widgets/base",
      "_view_module_version": "1.2.0",
      "_view_name": "LayoutView",
      "align_content": null,
      "align_items": null,
      "align_self": null,
      "border": null,
      "bottom": null,
      "display": null,
      "flex": null,
      "flex_flow": null,
      "grid_area": null,
      "grid_auto_columns": null,
      "grid_auto_flow": null,
      "grid_auto_rows": null,
      "grid_column": null,
      "grid_gap": null,
      "grid_row": null,
      "grid_template_areas": null,
      "grid_template_columns": null,
      "grid_template_rows": null,
      "height": null,
      "justify_content": null,
      "justify_items": null,
      "left": null,
      "margin": null,
      "max_height": null,
      "max_width": null,
      "min_height": null,
      "min_width": null,
      "object_fit": null,
      "object_position": null,
      "order": null,
      "overflow": null,
      "overflow_x": null,
      "overflow_y": null,
      "padding": null,
      "right": null,
      "top": null,
      "visibility": null,
      "width": null
     }
    },
    "e188e295776b487cb7abbcbc24524532": {
     "model_module": "@jupyter-widgets/controls",
     "model_module_version": "1.5.0",
     "model_name": "ProgressStyleModel",
     "state": {
      "_model_module": "@jupyter-widgets/controls",
      "_model_module_version": "1.5.0",
      "_model_name": "ProgressStyleModel",
      "_view_count": null,
      "_view_module": "@jupyter-widgets/base",
      "_view_module_version": "1.2.0",
      "_view_name": "StyleView",
      "bar_color": null,
      "description_width": ""
     }
    },
    "e18a9d4802d1401aaf12cb5415e7bc39": {
     "model_module": "@jupyter-widgets/controls",
     "model_module_version": "1.5.0",
     "model_name": "HTMLModel",
     "state": {
      "_dom_classes": [],
      "_model_module": "@jupyter-widgets/controls",
      "_model_module_version": "1.5.0",
      "_model_name": "HTMLModel",
      "_view_count": null,
      "_view_module": "@jupyter-widgets/controls",
      "_view_module_version": "1.5.0",
      "_view_name": "HTMLView",
      "description": "",
      "description_tooltip": null,
      "layout": "IPY_MODEL_cde1afcab4ec4dadbef09351f8d949d8",
      "placeholder": "​",
      "style": "IPY_MODEL_f30d72bcecc34017aa1ef3722a65e41b",
      "value": " 28%"
     }
    },
    "e20d310d0c6842deb750e77f4db83b40": {
     "model_module": "@jupyter-widgets/base",
     "model_module_version": "1.2.0",
     "model_name": "LayoutModel",
     "state": {
      "_model_module": "@jupyter-widgets/base",
      "_model_module_version": "1.2.0",
      "_model_name": "LayoutModel",
      "_view_count": null,
      "_view_module": "@jupyter-widgets/base",
      "_view_module_version": "1.2.0",
      "_view_name": "LayoutView",
      "align_content": null,
      "align_items": null,
      "align_self": null,
      "border": null,
      "bottom": null,
      "display": null,
      "flex": null,
      "flex_flow": null,
      "grid_area": null,
      "grid_auto_columns": null,
      "grid_auto_flow": null,
      "grid_auto_rows": null,
      "grid_column": null,
      "grid_gap": null,
      "grid_row": null,
      "grid_template_areas": null,
      "grid_template_columns": null,
      "grid_template_rows": null,
      "height": null,
      "justify_content": null,
      "justify_items": null,
      "left": null,
      "margin": null,
      "max_height": null,
      "max_width": null,
      "min_height": null,
      "min_width": null,
      "object_fit": null,
      "object_position": null,
      "order": null,
      "overflow": null,
      "overflow_x": null,
      "overflow_y": null,
      "padding": null,
      "right": null,
      "top": null,
      "visibility": null,
      "width": null
     }
    },
    "e23a1000bb33436ead3f2f5aa43f8712": {
     "model_module": "@jupyter-widgets/base",
     "model_module_version": "1.2.0",
     "model_name": "LayoutModel",
     "state": {
      "_model_module": "@jupyter-widgets/base",
      "_model_module_version": "1.2.0",
      "_model_name": "LayoutModel",
      "_view_count": null,
      "_view_module": "@jupyter-widgets/base",
      "_view_module_version": "1.2.0",
      "_view_name": "LayoutView",
      "align_content": null,
      "align_items": null,
      "align_self": null,
      "border": null,
      "bottom": null,
      "display": null,
      "flex": null,
      "flex_flow": null,
      "grid_area": null,
      "grid_auto_columns": null,
      "grid_auto_flow": null,
      "grid_auto_rows": null,
      "grid_column": null,
      "grid_gap": null,
      "grid_row": null,
      "grid_template_areas": null,
      "grid_template_columns": null,
      "grid_template_rows": null,
      "height": null,
      "justify_content": null,
      "justify_items": null,
      "left": null,
      "margin": null,
      "max_height": null,
      "max_width": null,
      "min_height": null,
      "min_width": null,
      "object_fit": null,
      "object_position": null,
      "order": null,
      "overflow": null,
      "overflow_x": null,
      "overflow_y": null,
      "padding": null,
      "right": null,
      "top": null,
      "visibility": null,
      "width": null
     }
    },
    "e2e875b55f694f12938294c2631388ad": {
     "model_module": "@jupyter-widgets/controls",
     "model_module_version": "1.5.0",
     "model_name": "HTMLModel",
     "state": {
      "_dom_classes": [],
      "_model_module": "@jupyter-widgets/controls",
      "_model_module_version": "1.5.0",
      "_model_name": "HTMLModel",
      "_view_count": null,
      "_view_module": "@jupyter-widgets/controls",
      "_view_module_version": "1.5.0",
      "_view_name": "HTMLView",
      "description": "",
      "description_tooltip": null,
      "layout": "IPY_MODEL_7063799e5f134191b27c049ee51351c6",
      "placeholder": "​",
      "style": "IPY_MODEL_6c2d5db8acff49a1899acc9e06b85450",
      "value": "  1%"
     }
    },
    "ee62315e92184798aa88972bbf7f4eaa": {
     "model_module": "@jupyter-widgets/base",
     "model_module_version": "1.2.0",
     "model_name": "LayoutModel",
     "state": {
      "_model_module": "@jupyter-widgets/base",
      "_model_module_version": "1.2.0",
      "_model_name": "LayoutModel",
      "_view_count": null,
      "_view_module": "@jupyter-widgets/base",
      "_view_module_version": "1.2.0",
      "_view_name": "LayoutView",
      "align_content": null,
      "align_items": null,
      "align_self": null,
      "border": null,
      "bottom": null,
      "display": null,
      "flex": null,
      "flex_flow": null,
      "grid_area": null,
      "grid_auto_columns": null,
      "grid_auto_flow": null,
      "grid_auto_rows": null,
      "grid_column": null,
      "grid_gap": null,
      "grid_row": null,
      "grid_template_areas": null,
      "grid_template_columns": null,
      "grid_template_rows": null,
      "height": null,
      "justify_content": null,
      "justify_items": null,
      "left": null,
      "margin": null,
      "max_height": null,
      "max_width": null,
      "min_height": null,
      "min_width": null,
      "object_fit": null,
      "object_position": null,
      "order": null,
      "overflow": null,
      "overflow_x": null,
      "overflow_y": null,
      "padding": null,
      "right": null,
      "top": null,
      "visibility": null,
      "width": null
     }
    },
    "ee7f25c30106451492930d21d77dadbe": {
     "model_module": "@jupyter-widgets/base",
     "model_module_version": "1.2.0",
     "model_name": "LayoutModel",
     "state": {
      "_model_module": "@jupyter-widgets/base",
      "_model_module_version": "1.2.0",
      "_model_name": "LayoutModel",
      "_view_count": null,
      "_view_module": "@jupyter-widgets/base",
      "_view_module_version": "1.2.0",
      "_view_name": "LayoutView",
      "align_content": null,
      "align_items": null,
      "align_self": null,
      "border": null,
      "bottom": null,
      "display": null,
      "flex": null,
      "flex_flow": null,
      "grid_area": null,
      "grid_auto_columns": null,
      "grid_auto_flow": null,
      "grid_auto_rows": null,
      "grid_column": null,
      "grid_gap": null,
      "grid_row": null,
      "grid_template_areas": null,
      "grid_template_columns": null,
      "grid_template_rows": null,
      "height": null,
      "justify_content": null,
      "justify_items": null,
      "left": null,
      "margin": null,
      "max_height": null,
      "max_width": null,
      "min_height": null,
      "min_width": null,
      "object_fit": null,
      "object_position": null,
      "order": null,
      "overflow": null,
      "overflow_x": null,
      "overflow_y": null,
      "padding": null,
      "right": null,
      "top": null,
      "visibility": null,
      "width": null
     }
    },
    "f30d72bcecc34017aa1ef3722a65e41b": {
     "model_module": "@jupyter-widgets/controls",
     "model_module_version": "1.5.0",
     "model_name": "DescriptionStyleModel",
     "state": {
      "_model_module": "@jupyter-widgets/controls",
      "_model_module_version": "1.5.0",
      "_model_name": "DescriptionStyleModel",
      "_view_count": null,
      "_view_module": "@jupyter-widgets/base",
      "_view_module_version": "1.2.0",
      "_view_name": "StyleView",
      "description_width": ""
     }
    },
    "f4a106df06ac45dfbb3dc6b1855aab91": {
     "model_module": "@jupyter-widgets/base",
     "model_module_version": "1.2.0",
     "model_name": "LayoutModel",
     "state": {
      "_model_module": "@jupyter-widgets/base",
      "_model_module_version": "1.2.0",
      "_model_name": "LayoutModel",
      "_view_count": null,
      "_view_module": "@jupyter-widgets/base",
      "_view_module_version": "1.2.0",
      "_view_name": "LayoutView",
      "align_content": null,
      "align_items": null,
      "align_self": null,
      "border": null,
      "bottom": null,
      "display": null,
      "flex": null,
      "flex_flow": null,
      "grid_area": null,
      "grid_auto_columns": null,
      "grid_auto_flow": null,
      "grid_auto_rows": null,
      "grid_column": null,
      "grid_gap": null,
      "grid_row": null,
      "grid_template_areas": null,
      "grid_template_columns": null,
      "grid_template_rows": null,
      "height": null,
      "justify_content": null,
      "justify_items": null,
      "left": null,
      "margin": null,
      "max_height": null,
      "max_width": null,
      "min_height": null,
      "min_width": null,
      "object_fit": null,
      "object_position": null,
      "order": null,
      "overflow": null,
      "overflow_x": null,
      "overflow_y": null,
      "padding": null,
      "right": null,
      "top": null,
      "visibility": null,
      "width": null
     }
    },
    "f94c699df8b24fa39c4e1034838e0d58": {
     "model_module": "@jupyter-widgets/controls",
     "model_module_version": "1.5.0",
     "model_name": "DescriptionStyleModel",
     "state": {
      "_model_module": "@jupyter-widgets/controls",
      "_model_module_version": "1.5.0",
      "_model_name": "DescriptionStyleModel",
      "_view_count": null,
      "_view_module": "@jupyter-widgets/base",
      "_view_module_version": "1.2.0",
      "_view_name": "StyleView",
      "description_width": ""
     }
    },
    "f9a17d7d8f0f4d9dadebdeda054b2fac": {
     "model_module": "@jupyter-widgets/base",
     "model_module_version": "1.2.0",
     "model_name": "LayoutModel",
     "state": {
      "_model_module": "@jupyter-widgets/base",
      "_model_module_version": "1.2.0",
      "_model_name": "LayoutModel",
      "_view_count": null,
      "_view_module": "@jupyter-widgets/base",
      "_view_module_version": "1.2.0",
      "_view_name": "LayoutView",
      "align_content": null,
      "align_items": null,
      "align_self": null,
      "border": null,
      "bottom": null,
      "display": null,
      "flex": null,
      "flex_flow": null,
      "grid_area": null,
      "grid_auto_columns": null,
      "grid_auto_flow": null,
      "grid_auto_rows": null,
      "grid_column": null,
      "grid_gap": null,
      "grid_row": null,
      "grid_template_areas": null,
      "grid_template_columns": null,
      "grid_template_rows": null,
      "height": null,
      "justify_content": null,
      "justify_items": null,
      "left": null,
      "margin": null,
      "max_height": null,
      "max_width": null,
      "min_height": null,
      "min_width": null,
      "object_fit": null,
      "object_position": null,
      "order": null,
      "overflow": null,
      "overflow_x": null,
      "overflow_y": null,
      "padding": null,
      "right": null,
      "top": null,
      "visibility": null,
      "width": null
     }
    },
    "fbadbad09bc64d509279facbfaef0ae5": {
     "model_module": "@jupyter-widgets/controls",
     "model_module_version": "1.5.0",
     "model_name": "ProgressStyleModel",
     "state": {
      "_model_module": "@jupyter-widgets/controls",
      "_model_module_version": "1.5.0",
      "_model_name": "ProgressStyleModel",
      "_view_count": null,
      "_view_module": "@jupyter-widgets/base",
      "_view_module_version": "1.2.0",
      "_view_name": "StyleView",
      "bar_color": null,
      "description_width": ""
     }
    }
   }
  }
 },
 "nbformat": 4,
 "nbformat_minor": 1
}
